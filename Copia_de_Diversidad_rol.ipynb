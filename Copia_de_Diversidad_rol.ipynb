{
  "nbformat": 4,
  "nbformat_minor": 0,
  "metadata": {
    "colab": {
      "name": "Copia de Diversidad_rol.ipynb",
      "provenance": [],
      "collapsed_sections": [
        "oskFuwTwgBdF"
      ],
      "mount_file_id": "1z0HuPMFrk3AVRMfEleQYWhs5TiPQJeCW",
      "authorship_tag": "ABX9TyNNT0CIzLzRF4REYZWltp1e",
      "include_colab_link": true
    },
    "kernelspec": {
      "name": "python3",
      "display_name": "Python 3"
    },
    "language_info": {
      "name": "python"
    }
  },
  "cells": [
    {
      "cell_type": "markdown",
      "metadata": {
        "id": "view-in-github",
        "colab_type": "text"
      },
      "source": [
        "<a href=\"https://colab.research.google.com/github/JuliMillan/Diversidad_rol/blob/main/Copia_de_Diversidad_rol.ipynb\" target=\"_parent\"><img src=\"https://colab.research.google.com/assets/colab-badge.svg\" alt=\"Open In Colab\"/></a>"
      ]
    },
    {
      "cell_type": "code",
      "metadata": {
        "id": "NaCP_a1i68rg",
        "colab": {
          "base_uri": "https://localhost:8080/"
        },
        "outputId": "02303b34-e6d7-421e-fccd-f6cd94a48504"
      },
      "source": [
        "!pip install squarify\n",
        "import pandas as pd\n",
        "import numpy as np\n",
        "import matplotlib.pyplot as plt\n",
        "import seaborn as sns\n",
        "from wordcloud import WordCloud\n",
        "from collections import Counter\n",
        "import string\n",
        "import matplotlib.patches as mpatches\n",
        "from scipy import stats\n",
        "import folium\n",
        "import scipy.stats as ss\n",
        "import squarify\n",
        "plt.rcParams.update({'font.size':14})\n",
        "from google.colab import files"
      ],
      "execution_count": null,
      "outputs": [
        {
          "output_type": "stream",
          "text": [
            "Requirement already satisfied: squarify in /usr/local/lib/python3.7/dist-packages (0.4.3)\n"
          ],
          "name": "stdout"
        }
      ]
    },
    {
      "cell_type": "markdown",
      "metadata": {
        "id": "v3_4maZiocXN"
      },
      "source": [
        "###Correr si no tenés montado GDrive"
      ]
    },
    {
      "cell_type": "code",
      "metadata": {
        "id": "gv8Mzd7nSc2n",
        "colab": {
          "base_uri": "https://localhost:8080/"
        },
        "outputId": "f40a11bf-2ee8-4abb-f4ce-824540790dcb"
      },
      "source": [
        "from google.colab import drive\n",
        "drive.mount('/content/drive')"
      ],
      "execution_count": null,
      "outputs": [
        {
          "output_type": "stream",
          "text": [
            "Drive already mounted at /content/drive; to attempt to forcibly remount, call drive.mount(\"/content/drive\", force_remount=True).\n"
          ],
          "name": "stdout"
        }
      ]
    },
    {
      "cell_type": "markdown",
      "metadata": {
        "id": "cBw8fTf5hSta"
      },
      "source": [
        "##Funciones útiles"
      ]
    },
    {
      "cell_type": "code",
      "metadata": {
        "id": "GuYRNqFghSPK"
      },
      "source": [
        "def normalidad(datos, alfa):\n",
        "  k2, p = stats.normaltest(edades, nan_policy='omit')\n",
        "  print(\"p = {:g}\".format(p))\n",
        "  if p < alpha:  # Hipótesis nula: la distribución proviene de una distribución Guassiana\n",
        "    print(\"La distribución no es normal\")\n",
        "  else:\n",
        "    print(\"La distribución parece normal\")\n",
        "\n",
        "\n",
        "\n",
        "def pie_plot(datos, explode, titulo, color=sns.color_palette('Set2')):\n",
        "  d = datos.value_counts()\n",
        "  pie, ax = plt.subplots(figsize=[10,6])\n",
        "  labels=d.keys()\n",
        "  plt.pie(x=d, autopct='%.1f%%', \n",
        "          explode=explode, labels=labels, \n",
        "          pctdistance=0.5, startangle=90,\n",
        "          colors = color)\n",
        "  ax.axis('equal')\n",
        "  plt.title('{}'.format(titulo), fontsize=14, pad=30.0)\n",
        "  plt.tight_layout()\n",
        "  return plt.show()\n",
        "\n",
        "\n",
        "def heat_map(columna_1, columna_2):\n",
        "  matriz = pd.crosstab(index=columna_1, columns=columna_2)\n",
        "  fig = sns.heatmap(matriz)\n",
        "  return matriz, fig\n",
        "\n",
        "def tree_plot(datos, columna, titulo):\n",
        "  d = pd.DataFrame(datos.value_counts().reset_index())\n",
        "  d.columns = [columna, 'conteo']\n",
        "  color=sns.color_palette(\"inferno\")\n",
        "  fig, ax = plt.subplots(figsize=(10, 6))\n",
        "  squarify.plot(sizes=d['conteo'], label=d[columna], alpha=.7, color=color)\n",
        "  plt.axis('off')\n",
        "  plt.title('{}'.format(titulo), fontsize=14)\n",
        "  return plt.show()\n",
        "\n",
        "def cramers_v(x, y):\n",
        "    confusion_matrix = pd.crosstab(x,y)\n",
        "    chi2 = ss.chi2_contingency(confusion_matrix)[0]\n",
        "    n = confusion_matrix.sum().sum()\n",
        "    phi2 = chi2/n\n",
        "    r,k = confusion_matrix.shape\n",
        "    phi2corr = max(0, phi2-((k-1)*(r-1))/(n-1))\n",
        "    rcorr = r-((r-1)**2)/(n-1)\n",
        "    kcorr = k-((k-1)**2)/(n-1)\n",
        "    return np.sqrt(phi2corr/min((kcorr-1),(rcorr-1)))"
      ],
      "execution_count": null,
      "outputs": []
    },
    {
      "cell_type": "markdown",
      "metadata": {
        "id": "FmIy14Q-hhz0"
      },
      "source": [
        "##Exploramos los datos"
      ]
    },
    {
      "cell_type": "code",
      "metadata": {
        "id": "Abh5sJKn8nbs",
        "colab": {
          "base_uri": "https://localhost:8080/",
          "height": 528
        },
        "outputId": "f49499bf-2b17-4c3b-f550-30375ba27c13"
      },
      "source": [
        "archivo = \"/content/drive/MyDrive/Copia de Diversidad sexual y de género en el mundo de los juegos de rol (respuestas) - Respuestas de formulario 1.csv\"\n",
        "df = pd.read_csv(archivo)\n",
        "df.head(3)"
      ],
      "execution_count": null,
      "outputs": [
        {
          "output_type": "execute_result",
          "data": {
            "text/html": [
              "<div>\n",
              "<style scoped>\n",
              "    .dataframe tbody tr th:only-of-type {\n",
              "        vertical-align: middle;\n",
              "    }\n",
              "\n",
              "    .dataframe tbody tr th {\n",
              "        vertical-align: top;\n",
              "    }\n",
              "\n",
              "    .dataframe thead th {\n",
              "        text-align: right;\n",
              "    }\n",
              "</style>\n",
              "<table border=\"1\" class=\"dataframe\">\n",
              "  <thead>\n",
              "    <tr style=\"text-align: right;\">\n",
              "      <th></th>\n",
              "      <th>Marca temporal</th>\n",
              "      <th>Qué edad tenés?</th>\n",
              "      <th>Qué juego/s jugás?</th>\n",
              "      <th>Participás como</th>\n",
              "      <th>Con qué género te identificás?</th>\n",
              "      <th>En relación al género que se te asignó al nacer, te considerás</th>\n",
              "      <th>Cuál es tu orientación sexual?</th>\n",
              "      <th>Alguna vez sufriste  discriminación (como jugadorx) por tu género u orientación sexual durante una partida?</th>\n",
              "      <th>Presenciaste algún tipo de discriminación hacia otra persona?</th>\n",
              "      <th>En caso de haber sufrido/presenciado casos de discriminación, reaccionaste de alguna manera?</th>\n",
              "      <th>Tus grupos de juego normalmente están conformados por</th>\n",
              "      <th>En qué país naciste?</th>\n",
              "      <th>En qué país vivís?</th>\n",
              "      <th>Algo que quieras agregar, contar, comentar, criticar?</th>\n",
              "    </tr>\n",
              "  </thead>\n",
              "  <tbody>\n",
              "    <tr>\n",
              "      <th>0</th>\n",
              "      <td>16/06/2021 22:13:54</td>\n",
              "      <td>29.0</td>\n",
              "      <td>Dungeons &amp; Dragons 5E</td>\n",
              "      <td>Jugadorx</td>\n",
              "      <td>Mujer</td>\n",
              "      <td>Cis</td>\n",
              "      <td>Heterosexual</td>\n",
              "      <td>No estoy segurx</td>\n",
              "      <td>No estoy segurx</td>\n",
              "      <td>Sí</td>\n",
              "      <td>Mayoría de varones</td>\n",
              "      <td>Argentina</td>\n",
              "      <td>Argentina</td>\n",
              "      <td>NaN</td>\n",
              "    </tr>\n",
              "    <tr>\n",
              "      <th>1</th>\n",
              "      <td>17/06/2021 10:11:50</td>\n",
              "      <td>29.0</td>\n",
              "      <td>Dungeons &amp; Dragons 5E</td>\n",
              "      <td>Jugadorx</td>\n",
              "      <td>Mujer</td>\n",
              "      <td>Cis</td>\n",
              "      <td>Heterosexual</td>\n",
              "      <td>No</td>\n",
              "      <td>No</td>\n",
              "      <td>NaN</td>\n",
              "      <td>Mayoría de varones</td>\n",
              "      <td>Argentina</td>\n",
              "      <td>Argentina</td>\n",
              "      <td>NaN</td>\n",
              "    </tr>\n",
              "    <tr>\n",
              "      <th>2</th>\n",
              "      <td>17/06/2021 10:25:49</td>\n",
              "      <td>32.0</td>\n",
              "      <td>Dungeons &amp; Dragons 5E, Dungeons &amp; Dragons 3.5</td>\n",
              "      <td>Ambos</td>\n",
              "      <td>Varón</td>\n",
              "      <td>Cis</td>\n",
              "      <td>Heterosexual</td>\n",
              "      <td>No</td>\n",
              "      <td>No</td>\n",
              "      <td>NaN</td>\n",
              "      <td>Mayoría de varones</td>\n",
              "      <td>Argentina</td>\n",
              "      <td>Argentina</td>\n",
              "      <td>NaN</td>\n",
              "    </tr>\n",
              "  </tbody>\n",
              "</table>\n",
              "</div>"
            ],
            "text/plain": [
              "        Marca temporal  ...  Algo que quieras agregar, contar, comentar, criticar?\n",
              "0  16/06/2021 22:13:54  ...                                                NaN    \n",
              "1  17/06/2021 10:11:50  ...                                                NaN    \n",
              "2  17/06/2021 10:25:49  ...                                                NaN    \n",
              "\n",
              "[3 rows x 14 columns]"
            ]
          },
          "metadata": {
            "tags": []
          },
          "execution_count": 208
        }
      ]
    },
    {
      "cell_type": "code",
      "metadata": {
        "id": "_5opZglQkvLI",
        "colab": {
          "base_uri": "https://localhost:8080/"
        },
        "outputId": "ab2d7fd7-6081-45e2-ffc8-48319d9ed2a5"
      },
      "source": [
        "df.info()"
      ],
      "execution_count": null,
      "outputs": [
        {
          "output_type": "stream",
          "text": [
            "<class 'pandas.core.frame.DataFrame'>\n",
            "RangeIndex: 159 entries, 0 to 158\n",
            "Data columns (total 14 columns):\n",
            " #   Column                                                                                                       Non-Null Count  Dtype  \n",
            "---  ------                                                                                                       --------------  -----  \n",
            " 0   Marca temporal                                                                                               159 non-null    object \n",
            " 1   Qué edad tenés?                                                                                              149 non-null    float64\n",
            " 2   Qué juego/s jugás?                                                                                           158 non-null    object \n",
            " 3   Participás como                                                                                              158 non-null    object \n",
            " 4   Con qué género te identificás?                                                                               159 non-null    object \n",
            " 5   En relación al género que se te asignó al nacer, te considerás                                               153 non-null    object \n",
            " 6   Cuál es tu orientación sexual?                                                                               159 non-null    object \n",
            " 7   Alguna vez sufriste  discriminación (como jugadorx) por tu género u orientación sexual durante una partida?  159 non-null    object \n",
            " 8   Presenciaste algún tipo de discriminación hacia otra persona?                                                159 non-null    object \n",
            " 9   En caso de haber sufrido/presenciado casos de discriminación, reaccionaste de alguna manera?                 78 non-null     object \n",
            " 10  Tus grupos de juego normalmente están conformados por                                                        157 non-null    object \n",
            " 11  En qué país naciste?                                                                                         159 non-null    object \n",
            " 12  En qué país vivís?                                                                                           157 non-null    object \n",
            " 13  Algo que quieras agregar, contar, comentar, criticar?                                                        62 non-null     object \n",
            "dtypes: float64(1), object(13)\n",
            "memory usage: 17.5+ KB\n"
          ],
          "name": "stdout"
        }
      ]
    },
    {
      "cell_type": "code",
      "metadata": {
        "id": "W0PJV-QV8lLR",
        "colab": {
          "base_uri": "https://localhost:8080/",
          "height": 389
        },
        "outputId": "cf5f7a3c-ac45-43a9-be76-28ab8408a653"
      },
      "source": [
        "df.columns = [\n",
        "              'fecha', 'edad', 'juegos', 'rol', 'genero', 'identidad', 'sexualidad', \n",
        "              'discriminacion_personal', 'discriminacion_otre', 'reaccion',\n",
        "              'grupo', 'nacimiento', 'residencia', 'comentario'\n",
        "              ]\n",
        "\n",
        "df.head(3)"
      ],
      "execution_count": null,
      "outputs": [
        {
          "output_type": "execute_result",
          "data": {
            "text/html": [
              "<div>\n",
              "<style scoped>\n",
              "    .dataframe tbody tr th:only-of-type {\n",
              "        vertical-align: middle;\n",
              "    }\n",
              "\n",
              "    .dataframe tbody tr th {\n",
              "        vertical-align: top;\n",
              "    }\n",
              "\n",
              "    .dataframe thead th {\n",
              "        text-align: right;\n",
              "    }\n",
              "</style>\n",
              "<table border=\"1\" class=\"dataframe\">\n",
              "  <thead>\n",
              "    <tr style=\"text-align: right;\">\n",
              "      <th></th>\n",
              "      <th>fecha</th>\n",
              "      <th>edad</th>\n",
              "      <th>juegos</th>\n",
              "      <th>rol</th>\n",
              "      <th>genero</th>\n",
              "      <th>identidad</th>\n",
              "      <th>sexualidad</th>\n",
              "      <th>discriminacion_personal</th>\n",
              "      <th>discriminacion_otre</th>\n",
              "      <th>reaccion</th>\n",
              "      <th>grupo</th>\n",
              "      <th>nacimiento</th>\n",
              "      <th>residencia</th>\n",
              "      <th>comentario</th>\n",
              "    </tr>\n",
              "  </thead>\n",
              "  <tbody>\n",
              "    <tr>\n",
              "      <th>0</th>\n",
              "      <td>16/06/2021 22:13:54</td>\n",
              "      <td>29.0</td>\n",
              "      <td>Dungeons &amp; Dragons 5E</td>\n",
              "      <td>Jugadorx</td>\n",
              "      <td>Mujer</td>\n",
              "      <td>Cis</td>\n",
              "      <td>Heterosexual</td>\n",
              "      <td>No estoy segurx</td>\n",
              "      <td>No estoy segurx</td>\n",
              "      <td>Sí</td>\n",
              "      <td>Mayoría de varones</td>\n",
              "      <td>Argentina</td>\n",
              "      <td>Argentina</td>\n",
              "      <td>NaN</td>\n",
              "    </tr>\n",
              "    <tr>\n",
              "      <th>1</th>\n",
              "      <td>17/06/2021 10:11:50</td>\n",
              "      <td>29.0</td>\n",
              "      <td>Dungeons &amp; Dragons 5E</td>\n",
              "      <td>Jugadorx</td>\n",
              "      <td>Mujer</td>\n",
              "      <td>Cis</td>\n",
              "      <td>Heterosexual</td>\n",
              "      <td>No</td>\n",
              "      <td>No</td>\n",
              "      <td>NaN</td>\n",
              "      <td>Mayoría de varones</td>\n",
              "      <td>Argentina</td>\n",
              "      <td>Argentina</td>\n",
              "      <td>NaN</td>\n",
              "    </tr>\n",
              "    <tr>\n",
              "      <th>2</th>\n",
              "      <td>17/06/2021 10:25:49</td>\n",
              "      <td>32.0</td>\n",
              "      <td>Dungeons &amp; Dragons 5E, Dungeons &amp; Dragons 3.5</td>\n",
              "      <td>Ambos</td>\n",
              "      <td>Varón</td>\n",
              "      <td>Cis</td>\n",
              "      <td>Heterosexual</td>\n",
              "      <td>No</td>\n",
              "      <td>No</td>\n",
              "      <td>NaN</td>\n",
              "      <td>Mayoría de varones</td>\n",
              "      <td>Argentina</td>\n",
              "      <td>Argentina</td>\n",
              "      <td>NaN</td>\n",
              "    </tr>\n",
              "  </tbody>\n",
              "</table>\n",
              "</div>"
            ],
            "text/plain": [
              "                 fecha  edad  ... residencia comentario\n",
              "0  16/06/2021 22:13:54  29.0  ...  Argentina        NaN\n",
              "1  17/06/2021 10:11:50  29.0  ...  Argentina        NaN\n",
              "2  17/06/2021 10:25:49  32.0  ...  Argentina        NaN\n",
              "\n",
              "[3 rows x 14 columns]"
            ]
          },
          "metadata": {
            "tags": []
          },
          "execution_count": 210
        }
      ]
    },
    {
      "cell_type": "code",
      "metadata": {
        "id": "G8a-VzlfGtTw",
        "colab": {
          "base_uri": "https://localhost:8080/",
          "height": 213
        },
        "outputId": "cca4433d-4fb8-4bac-893b-cc2a3067156d"
      },
      "source": [
        "df1 = df.iloc[:,1:13]\n",
        "df1.head(3)"
      ],
      "execution_count": null,
      "outputs": [
        {
          "output_type": "execute_result",
          "data": {
            "text/html": [
              "<div>\n",
              "<style scoped>\n",
              "    .dataframe tbody tr th:only-of-type {\n",
              "        vertical-align: middle;\n",
              "    }\n",
              "\n",
              "    .dataframe tbody tr th {\n",
              "        vertical-align: top;\n",
              "    }\n",
              "\n",
              "    .dataframe thead th {\n",
              "        text-align: right;\n",
              "    }\n",
              "</style>\n",
              "<table border=\"1\" class=\"dataframe\">\n",
              "  <thead>\n",
              "    <tr style=\"text-align: right;\">\n",
              "      <th></th>\n",
              "      <th>edad</th>\n",
              "      <th>juegos</th>\n",
              "      <th>rol</th>\n",
              "      <th>genero</th>\n",
              "      <th>identidad</th>\n",
              "      <th>sexualidad</th>\n",
              "      <th>discriminacion_personal</th>\n",
              "      <th>discriminacion_otre</th>\n",
              "      <th>reaccion</th>\n",
              "      <th>grupo</th>\n",
              "      <th>nacimiento</th>\n",
              "      <th>residencia</th>\n",
              "    </tr>\n",
              "  </thead>\n",
              "  <tbody>\n",
              "    <tr>\n",
              "      <th>0</th>\n",
              "      <td>29.0</td>\n",
              "      <td>Dungeons &amp; Dragons 5E</td>\n",
              "      <td>Jugadorx</td>\n",
              "      <td>Mujer</td>\n",
              "      <td>Cis</td>\n",
              "      <td>Heterosexual</td>\n",
              "      <td>No estoy segurx</td>\n",
              "      <td>No estoy segurx</td>\n",
              "      <td>Sí</td>\n",
              "      <td>Mayoría de varones</td>\n",
              "      <td>Argentina</td>\n",
              "      <td>Argentina</td>\n",
              "    </tr>\n",
              "    <tr>\n",
              "      <th>1</th>\n",
              "      <td>29.0</td>\n",
              "      <td>Dungeons &amp; Dragons 5E</td>\n",
              "      <td>Jugadorx</td>\n",
              "      <td>Mujer</td>\n",
              "      <td>Cis</td>\n",
              "      <td>Heterosexual</td>\n",
              "      <td>No</td>\n",
              "      <td>No</td>\n",
              "      <td>NaN</td>\n",
              "      <td>Mayoría de varones</td>\n",
              "      <td>Argentina</td>\n",
              "      <td>Argentina</td>\n",
              "    </tr>\n",
              "    <tr>\n",
              "      <th>2</th>\n",
              "      <td>32.0</td>\n",
              "      <td>Dungeons &amp; Dragons 5E, Dungeons &amp; Dragons 3.5</td>\n",
              "      <td>Ambos</td>\n",
              "      <td>Varón</td>\n",
              "      <td>Cis</td>\n",
              "      <td>Heterosexual</td>\n",
              "      <td>No</td>\n",
              "      <td>No</td>\n",
              "      <td>NaN</td>\n",
              "      <td>Mayoría de varones</td>\n",
              "      <td>Argentina</td>\n",
              "      <td>Argentina</td>\n",
              "    </tr>\n",
              "  </tbody>\n",
              "</table>\n",
              "</div>"
            ],
            "text/plain": [
              "   edad                                         juegos  ... nacimiento residencia\n",
              "0  29.0                          Dungeons & Dragons 5E  ...  Argentina  Argentina\n",
              "1  29.0                          Dungeons & Dragons 5E  ...  Argentina  Argentina\n",
              "2  32.0  Dungeons & Dragons 5E, Dungeons & Dragons 3.5  ...  Argentina  Argentina\n",
              "\n",
              "[3 rows x 12 columns]"
            ]
          },
          "metadata": {
            "tags": []
          },
          "execution_count": 211
        }
      ]
    },
    {
      "cell_type": "markdown",
      "metadata": {
        "id": "oskFuwTwgBdF"
      },
      "source": [
        "##Edades y género"
      ]
    },
    {
      "cell_type": "code",
      "metadata": {
        "id": "vGK8Tm_RLnbe",
        "colab": {
          "base_uri": "https://localhost:8080/",
          "height": 433
        },
        "outputId": "86b68e36-b64a-444c-c5f2-9c64c9fffa47"
      },
      "source": [
        "figure = sns.catplot(x=\"genero\", kind=\"count\", palette=\"gist_stern\", \n",
        "                     data=df1, order=['Mujer', 'Varón', 'No binarie','Otro'], height=6)\n",
        "plt.xlabel('')\n",
        "plt.ylabel('Cantidad de personas')\n",
        "#plt.savefig(\"1.jpg\",bbox_inches='tight')\n",
        "#files.download(\"1.jpg\") \n",
        "plt.show()"
      ],
      "execution_count": null,
      "outputs": [
        {
          "output_type": "display_data",
          "data": {
            "application/javascript": [
              "\n",
              "    async function download(id, filename, size) {\n",
              "      if (!google.colab.kernel.accessAllowed) {\n",
              "        return;\n",
              "      }\n",
              "      const div = document.createElement('div');\n",
              "      const label = document.createElement('label');\n",
              "      label.textContent = `Downloading \"${filename}\": `;\n",
              "      div.appendChild(label);\n",
              "      const progress = document.createElement('progress');\n",
              "      progress.max = size;\n",
              "      div.appendChild(progress);\n",
              "      document.body.appendChild(div);\n",
              "\n",
              "      const buffers = [];\n",
              "      let downloaded = 0;\n",
              "\n",
              "      const channel = await google.colab.kernel.comms.open(id);\n",
              "      // Send a message to notify the kernel that we're ready.\n",
              "      channel.send({})\n",
              "\n",
              "      for await (const message of channel.messages) {\n",
              "        // Send a message to notify the kernel that we're ready.\n",
              "        channel.send({})\n",
              "        if (message.buffers) {\n",
              "          for (const buffer of message.buffers) {\n",
              "            buffers.push(buffer);\n",
              "            downloaded += buffer.byteLength;\n",
              "            progress.value = downloaded;\n",
              "          }\n",
              "        }\n",
              "      }\n",
              "      const blob = new Blob(buffers, {type: 'application/binary'});\n",
              "      const a = document.createElement('a');\n",
              "      a.href = window.URL.createObjectURL(blob);\n",
              "      a.download = filename;\n",
              "      div.appendChild(a);\n",
              "      a.click();\n",
              "      div.remove();\n",
              "    }\n",
              "  "
            ],
            "text/plain": [
              "<IPython.core.display.Javascript object>"
            ]
          },
          "metadata": {
            "tags": []
          }
        },
        {
          "output_type": "display_data",
          "data": {
            "application/javascript": [
              "download(\"download_ff226a6f-3bab-4e0e-a6ec-387d2551dbc7\", \"1.jpg\", 19493)"
            ],
            "text/plain": [
              "<IPython.core.display.Javascript object>"
            ]
          },
          "metadata": {
            "tags": []
          }
        },
        {
          "output_type": "display_data",
          "data": {
            "image/png": "[encoded data removed]",
            "text/plain": [
              "<Figure size 432x432 with 1 Axes>"
            ]
          },
          "metadata": {
            "tags": [],
            "needs_background": "light"
          }
        }
      ]
    },
    {
      "cell_type": "code",
      "metadata": {
        "id": "hQD_OlG_U2Uj",
        "colab": {
          "base_uri": "https://localhost:8080/"
        },
        "outputId": "ae42aee0-b3ec-47d0-b1de-c4dad6b039b8"
      },
      "source": [
        "edades = (df1['edad'])\n",
        "#print(edades)\n",
        "print(edades.shape)\n",
        "#print(type(edades))\n",
        "print(edades.describe())\n",
        "edades_np = edades.dropna()\n",
        "edades_np = edades_np.to_numpy()\n",
        "#print(type(edades_np))\n",
        "print(edades_np.mean())\n"
      ],
      "execution_count": null,
      "outputs": [
        {
          "output_type": "stream",
          "text": [
            "(159,)\n",
            "count    149.000000\n",
            "mean      30.221477\n",
            "std        6.740204\n",
            "min       16.000000\n",
            "25%       26.000000\n",
            "50%       30.000000\n",
            "75%       35.000000\n",
            "max       51.000000\n",
            "Name: edad, dtype: float64\n",
            "30.221476510067113\n"
          ],
          "name": "stdout"
        }
      ]
    },
    {
      "cell_type": "code",
      "metadata": {
        "id": "yqb-Cvk1Rp_1",
        "colab": {
          "base_uri": "https://localhost:8080/"
        },
        "outputId": "5ab37d62-b4ee-40bb-e5db-79c79e11dfcd"
      },
      "source": [
        "mediana = (edades.median())\n",
        "print('La edad más representada es {} años, con {} personas.'.format(int(mediana), np.sum([df1['edad']==mediana])))"
      ],
      "execution_count": null,
      "outputs": [
        {
          "output_type": "stream",
          "text": [
            "La edad más representada es 30 años, con 16 personas.\n"
          ],
          "name": "stdout"
        }
      ]
    },
    {
      "cell_type": "code",
      "metadata": {
        "id": "B12gCT_oSYtX",
        "colab": {
          "base_uri": "https://localhost:8080/"
        },
        "outputId": "6ae6216f-eafb-473a-95e5-9dacc02a6acc"
      },
      "source": [
        "edad_maxima = int(edades.max())\n",
        "edad_minima = int(edades.min())\n",
        "print('Edad máxima: ', edad_maxima ,'\\nEdad mínima: ', edad_minima)"
      ],
      "execution_count": null,
      "outputs": [
        {
          "output_type": "stream",
          "text": [
            "Edad máxima:  51 \n",
            "Edad mínima:  16\n"
          ],
          "name": "stdout"
        }
      ]
    },
    {
      "cell_type": "code",
      "metadata": {
        "id": "CCvQ0VTMYPLB",
        "colab": {
          "base_uri": "https://localhost:8080/"
        },
        "outputId": "0830a17e-197f-4ed5-cf9a-7fdac2f7cad7"
      },
      "source": [
        "alpha = 1e-3\n",
        "normalidad(edades_np, alpha)"
      ],
      "execution_count": null,
      "outputs": [
        {
          "output_type": "stream",
          "text": [
            "p = 0.132478\n",
            "La distribución parece normal\n"
          ],
          "name": "stdout"
        }
      ]
    },
    {
      "cell_type": "code",
      "metadata": {
        "id": "F4VOksFLaq_m"
      },
      "source": [
        "edades_genero = df1[['edad', 'genero']]\n",
        "#edades_genero.head(3)"
      ],
      "execution_count": null,
      "outputs": []
    },
    {
      "cell_type": "code",
      "metadata": {
        "id": "DVY4YII9WxhO",
        "colab": {
          "base_uri": "https://localhost:8080/",
          "height": 396
        },
        "outputId": "bd254697-de59-4e31-9acd-8178a4c50ed1"
      },
      "source": [
        "fig, ax = plt.subplots(figsize=(10,6))\n",
        "bin=(edad_maxima-edad_minima)\n",
        "\n",
        "N, bins, patches = ax.hist(edades, bins=bin)\n",
        "\n",
        "for i in range(0,7):\n",
        "    patches[i].set_facecolor('#D12229')\n",
        "for i in range(7,11):    \n",
        "    patches[i].set_facecolor('#F68A1E')\n",
        "for i in range(11,16):\n",
        "    patches[i].set_facecolor('#FDE01A')\n",
        "for i in range(14,19):\n",
        "    patches[i].set_facecolor('#007940')\n",
        "for i in range(19,24):    \n",
        "    patches[i].set_facecolor('#24408E')\n",
        "for i in range(24, len(patches)):\n",
        "    patches[i].set_facecolor('#732982')\n",
        "\n",
        "ax.spines['top'].set_visible(False)\n",
        "ax.spines['right'].set_visible(False)\n",
        "plt.xlabel('Edad')\n",
        "plt.ylabel('Cantidad de personas')\n",
        "#plt.savefig(\"2.jpg\",bbox_inches='tight')\n",
        "#files.download(\"2.jpg\") \n",
        "\n",
        "plt.show()"
      ],
      "execution_count": null,
      "outputs": [
        {
          "output_type": "display_data",
          "data": {
            "application/javascript": [
              "\n",
              "    async function download(id, filename, size) {\n",
              "      if (!google.colab.kernel.accessAllowed) {\n",
              "        return;\n",
              "      }\n",
              "      const div = document.createElement('div');\n",
              "      const label = document.createElement('label');\n",
              "      label.textContent = `Downloading \"${filename}\": `;\n",
              "      div.appendChild(label);\n",
              "      const progress = document.createElement('progress');\n",
              "      progress.max = size;\n",
              "      div.appendChild(progress);\n",
              "      document.body.appendChild(div);\n",
              "\n",
              "      const buffers = [];\n",
              "      let downloaded = 0;\n",
              "\n",
              "      const channel = await google.colab.kernel.comms.open(id);\n",
              "      // Send a message to notify the kernel that we're ready.\n",
              "      channel.send({})\n",
              "\n",
              "      for await (const message of channel.messages) {\n",
              "        // Send a message to notify the kernel that we're ready.\n",
              "        channel.send({})\n",
              "        if (message.buffers) {\n",
              "          for (const buffer of message.buffers) {\n",
              "            buffers.push(buffer);\n",
              "            downloaded += buffer.byteLength;\n",
              "            progress.value = downloaded;\n",
              "          }\n",
              "        }\n",
              "      }\n",
              "      const blob = new Blob(buffers, {type: 'application/binary'});\n",
              "      const a = document.createElement('a');\n",
              "      a.href = window.URL.createObjectURL(blob);\n",
              "      a.download = filename;\n",
              "      div.appendChild(a);\n",
              "      a.click();\n",
              "      div.remove();\n",
              "    }\n",
              "  "
            ],
            "text/plain": [
              "<IPython.core.display.Javascript object>"
            ]
          },
          "metadata": {
            "tags": []
          }
        },
        {
          "output_type": "display_data",
          "data": {
            "application/javascript": [
              "download(\"download_f4a0fc46-ea87-42e2-b5a1-d6b38debf119\", \"2.jpg\", 27577)"
            ],
            "text/plain": [
              "<IPython.core.display.Javascript object>"
            ]
          },
          "metadata": {
            "tags": []
          }
        },
        {
          "output_type": "display_data",
          "data": {
            "image/png": "[encoded data removed]",
            "text/plain": [
              "<Figure size 720x432 with 1 Axes>"
            ]
          },
          "metadata": {
            "tags": [],
            "needs_background": "light"
          }
        }
      ]
    },
    {
      "cell_type": "code",
      "metadata": {
        "id": "aCkDJC3jclec"
      },
      "source": [
        "edades_m = edades_genero[edades_genero['genero']=='Mujer'].dropna()\n",
        "edades_v = edades_genero[edades_genero['genero']=='Varón'].dropna()\n",
        "edades_nb = edades_genero[edades_genero['genero']=='No binarie'].dropna()\n",
        "edades_o = edades_genero[edades_genero['genero']=='Otro'].dropna()"
      ],
      "execution_count": null,
      "outputs": []
    },
    {
      "cell_type": "code",
      "metadata": {
        "id": "aQsZIy__YjN2",
        "colab": {
          "base_uri": "https://localhost:8080/",
          "height": 417
        },
        "outputId": "2c80553d-0db1-41dc-fe6b-e495674e99a0"
      },
      "source": [
        "fig, ax = plt.subplots(figsize=(10,6))\n",
        "fig = sns.histplot(data=edades_genero, x=\"edad\", hue=\"genero\", \n",
        "                      multiple=\"dodge\", palette='gist_stern')\n",
        "plt.xlabel('Edad')\n",
        "plt.ylabel('Cantidad')\n",
        "plt.title('Edades por género')\n",
        "fig.get_legend().set_title(None)\n",
        "ax.spines['top'].set_visible(False)\n",
        "ax.spines['right'].set_visible(False)\n",
        "#plt.savefig(\"3.jpg\",bbox_inches='tight')\n",
        "#files.download(\"3.jpg\") \n",
        "plt.show()"
      ],
      "execution_count": null,
      "outputs": [
        {
          "output_type": "display_data",
          "data": {
            "application/javascript": [
              "\n",
              "    async function download(id, filename, size) {\n",
              "      if (!google.colab.kernel.accessAllowed) {\n",
              "        return;\n",
              "      }\n",
              "      const div = document.createElement('div');\n",
              "      const label = document.createElement('label');\n",
              "      label.textContent = `Downloading \"${filename}\": `;\n",
              "      div.appendChild(label);\n",
              "      const progress = document.createElement('progress');\n",
              "      progress.max = size;\n",
              "      div.appendChild(progress);\n",
              "      document.body.appendChild(div);\n",
              "\n",
              "      const buffers = [];\n",
              "      let downloaded = 0;\n",
              "\n",
              "      const channel = await google.colab.kernel.comms.open(id);\n",
              "      // Send a message to notify the kernel that we're ready.\n",
              "      channel.send({})\n",
              "\n",
              "      for await (const message of channel.messages) {\n",
              "        // Send a message to notify the kernel that we're ready.\n",
              "        channel.send({})\n",
              "        if (message.buffers) {\n",
              "          for (const buffer of message.buffers) {\n",
              "            buffers.push(buffer);\n",
              "            downloaded += buffer.byteLength;\n",
              "            progress.value = downloaded;\n",
              "          }\n",
              "        }\n",
              "      }\n",
              "      const blob = new Blob(buffers, {type: 'application/binary'});\n",
              "      const a = document.createElement('a');\n",
              "      a.href = window.URL.createObjectURL(blob);\n",
              "      a.download = filename;\n",
              "      div.appendChild(a);\n",
              "      a.click();\n",
              "      div.remove();\n",
              "    }\n",
              "  "
            ],
            "text/plain": [
              "<IPython.core.display.Javascript object>"
            ]
          },
          "metadata": {
            "tags": []
          }
        },
        {
          "output_type": "display_data",
          "data": {
            "application/javascript": [
              "download(\"download_7dff50e4-6053-46e8-922d-dc49dd59cf03\", \"3.jpg\", 41153)"
            ],
            "text/plain": [
              "<IPython.core.display.Javascript object>"
            ]
          },
          "metadata": {
            "tags": []
          }
        },
        {
          "output_type": "display_data",
          "data": {
            "image/png": "[encoded data removed]",
            "text/plain": [
              "<Figure size 720x432 with 1 Axes>"
            ]
          },
          "metadata": {
            "tags": [],
            "needs_background": "light"
          }
        }
      ]
    },
    {
      "cell_type": "code",
      "metadata": {
        "id": "9UwClkwfdHZW",
        "colab": {
          "base_uri": "https://localhost:8080/",
          "height": 453
        },
        "outputId": "66ddcc65-313a-4865-f3f4-81ff3fc2ae23"
      },
      "source": [
        "fig, ax = plt.subplots(figsize=(10,6))\n",
        "fig = sns.distplot(edades_genero['edad'], bins=30, color='purple')\n",
        "plt.xlabel('Edad')\n",
        "plt.ylabel('Densidad')\n",
        "ax.spines['top'].set_visible(False)\n",
        "ax.spines['right'].set_visible(False)\n",
        "#plt.savefig(\"4.jpg\",bbox_inches='tight')\n",
        "#files.download(\"4.jpg\") \n",
        "plt.show()"
      ],
      "execution_count": null,
      "outputs": [
        {
          "output_type": "stream",
          "text": [
            "/usr/local/lib/python3.7/dist-packages/seaborn/distributions.py:2557: FutureWarning: `distplot` is a deprecated function and will be removed in a future version. Please adapt your code to use either `displot` (a figure-level function with similar flexibility) or `histplot` (an axes-level function for histograms).\n",
            "  warnings.warn(msg, FutureWarning)\n"
          ],
          "name": "stderr"
        },
        {
          "output_type": "display_data",
          "data": {
            "application/javascript": [
              "\n",
              "    async function download(id, filename, size) {\n",
              "      if (!google.colab.kernel.accessAllowed) {\n",
              "        return;\n",
              "      }\n",
              "      const div = document.createElement('div');\n",
              "      const label = document.createElement('label');\n",
              "      label.textContent = `Downloading \"${filename}\": `;\n",
              "      div.appendChild(label);\n",
              "      const progress = document.createElement('progress');\n",
              "      progress.max = size;\n",
              "      div.appendChild(progress);\n",
              "      document.body.appendChild(div);\n",
              "\n",
              "      const buffers = [];\n",
              "      let downloaded = 0;\n",
              "\n",
              "      const channel = await google.colab.kernel.comms.open(id);\n",
              "      // Send a message to notify the kernel that we're ready.\n",
              "      channel.send({})\n",
              "\n",
              "      for await (const message of channel.messages) {\n",
              "        // Send a message to notify the kernel that we're ready.\n",
              "        channel.send({})\n",
              "        if (message.buffers) {\n",
              "          for (const buffer of message.buffers) {\n",
              "            buffers.push(buffer);\n",
              "            downloaded += buffer.byteLength;\n",
              "            progress.value = downloaded;\n",
              "          }\n",
              "        }\n",
              "      }\n",
              "      const blob = new Blob(buffers, {type: 'application/binary'});\n",
              "      const a = document.createElement('a');\n",
              "      a.href = window.URL.createObjectURL(blob);\n",
              "      a.download = filename;\n",
              "      div.appendChild(a);\n",
              "      a.click();\n",
              "      div.remove();\n",
              "    }\n",
              "  "
            ],
            "text/plain": [
              "<IPython.core.display.Javascript object>"
            ]
          },
          "metadata": {
            "tags": []
          }
        },
        {
          "output_type": "display_data",
          "data": {
            "application/javascript": [
              "download(\"download_f1876002-3fbb-47a4-94e4-ce1f8b655bb6\", \"4.jpg\", 25699)"
            ],
            "text/plain": [
              "<IPython.core.display.Javascript object>"
            ]
          },
          "metadata": {
            "tags": []
          }
        },
        {
          "output_type": "display_data",
          "data": {
            "image/png": "[encoded data removed]",
            "text/plain": [
              "<Figure size 720x432 with 1 Axes>"
            ]
          },
          "metadata": {
            "tags": [],
            "needs_background": "light"
          }
        }
      ]
    },
    {
      "cell_type": "code",
      "metadata": {
        "id": "k04SzpSgapVv",
        "colab": {
          "base_uri": "https://localhost:8080/",
          "height": 451
        },
        "outputId": "28c60019-8cf1-4ff0-8333-72d7f1dac5f7"
      },
      "source": [
        "pie_plot(df1['genero'], np.zeros(4), 'Género')\n",
        "#plt.savefig(\"5.jpg\",bbox_inches='tight')\n",
        "#files.download(\"5.jpg\") "
      ],
      "execution_count": null,
      "outputs": [
        {
          "output_type": "display_data",
          "data": {
            "image/png": "[encoded data removed]",
            "text/plain": [
              "<Figure size 720x432 with 1 Axes>"
            ]
          },
          "metadata": {
            "tags": []
          }
        },
        {
          "output_type": "display_data",
          "data": {
            "application/javascript": [
              "\n",
              "    async function download(id, filename, size) {\n",
              "      if (!google.colab.kernel.accessAllowed) {\n",
              "        return;\n",
              "      }\n",
              "      const div = document.createElement('div');\n",
              "      const label = document.createElement('label');\n",
              "      label.textContent = `Downloading \"${filename}\": `;\n",
              "      div.appendChild(label);\n",
              "      const progress = document.createElement('progress');\n",
              "      progress.max = size;\n",
              "      div.appendChild(progress);\n",
              "      document.body.appendChild(div);\n",
              "\n",
              "      const buffers = [];\n",
              "      let downloaded = 0;\n",
              "\n",
              "      const channel = await google.colab.kernel.comms.open(id);\n",
              "      // Send a message to notify the kernel that we're ready.\n",
              "      channel.send({})\n",
              "\n",
              "      for await (const message of channel.messages) {\n",
              "        // Send a message to notify the kernel that we're ready.\n",
              "        channel.send({})\n",
              "        if (message.buffers) {\n",
              "          for (const buffer of message.buffers) {\n",
              "            buffers.push(buffer);\n",
              "            downloaded += buffer.byteLength;\n",
              "            progress.value = downloaded;\n",
              "          }\n",
              "        }\n",
              "      }\n",
              "      const blob = new Blob(buffers, {type: 'application/binary'});\n",
              "      const a = document.createElement('a');\n",
              "      a.href = window.URL.createObjectURL(blob);\n",
              "      a.download = filename;\n",
              "      div.appendChild(a);\n",
              "      a.click();\n",
              "      div.remove();\n",
              "    }\n",
              "  "
            ],
            "text/plain": [
              "<IPython.core.display.Javascript object>"
            ]
          },
          "metadata": {
            "tags": []
          }
        },
        {
          "output_type": "display_data",
          "data": {
            "application/javascript": [
              "download(\"download_cfe6623f-5de1-4d73-88b4-b3edc15c0efd\", \"5.jpg\", 2755)"
            ],
            "text/plain": [
              "<IPython.core.display.Javascript object>"
            ]
          },
          "metadata": {
            "tags": []
          }
        },
        {
          "output_type": "display_data",
          "data": {
            "text/plain": [
              "<Figure size 432x288 with 0 Axes>"
            ]
          },
          "metadata": {
            "tags": []
          }
        }
      ]
    },
    {
      "cell_type": "code",
      "metadata": {
        "id": "Qvdqz8qNvODH",
        "colab": {
          "base_uri": "https://localhost:8080/",
          "height": 393
        },
        "outputId": "5d8ca8b9-358e-4006-a9b8-b7362d1113f7"
      },
      "source": [
        "tree_plot(df1['genero'], 'genero', 'Proporción de géneros')\n",
        "#plt.savefig(\"6.jpg\",bbox_inches='tight')\n",
        "#files.download(\"6.jpg\") "
      ],
      "execution_count": null,
      "outputs": [
        {
          "output_type": "display_data",
          "data": {
            "image/png": "[encoded data removed]",
            "text/plain": [
              "<Figure size 720x432 with 1 Axes>"
            ]
          },
          "metadata": {
            "tags": [],
            "needs_background": "light"
          }
        },
        {
          "output_type": "display_data",
          "data": {
            "application/javascript": [
              "\n",
              "    async function download(id, filename, size) {\n",
              "      if (!google.colab.kernel.accessAllowed) {\n",
              "        return;\n",
              "      }\n",
              "      const div = document.createElement('div');\n",
              "      const label = document.createElement('label');\n",
              "      label.textContent = `Downloading \"${filename}\": `;\n",
              "      div.appendChild(label);\n",
              "      const progress = document.createElement('progress');\n",
              "      progress.max = size;\n",
              "      div.appendChild(progress);\n",
              "      document.body.appendChild(div);\n",
              "\n",
              "      const buffers = [];\n",
              "      let downloaded = 0;\n",
              "\n",
              "      const channel = await google.colab.kernel.comms.open(id);\n",
              "      // Send a message to notify the kernel that we're ready.\n",
              "      channel.send({})\n",
              "\n",
              "      for await (const message of channel.messages) {\n",
              "        // Send a message to notify the kernel that we're ready.\n",
              "        channel.send({})\n",
              "        if (message.buffers) {\n",
              "          for (const buffer of message.buffers) {\n",
              "            buffers.push(buffer);\n",
              "            downloaded += buffer.byteLength;\n",
              "            progress.value = downloaded;\n",
              "          }\n",
              "        }\n",
              "      }\n",
              "      const blob = new Blob(buffers, {type: 'application/binary'});\n",
              "      const a = document.createElement('a');\n",
              "      a.href = window.URL.createObjectURL(blob);\n",
              "      a.download = filename;\n",
              "      div.appendChild(a);\n",
              "      a.click();\n",
              "      div.remove();\n",
              "    }\n",
              "  "
            ],
            "text/plain": [
              "<IPython.core.display.Javascript object>"
            ]
          },
          "metadata": {
            "tags": []
          }
        },
        {
          "output_type": "display_data",
          "data": {
            "application/javascript": [
              "download(\"download_5dd45307-728b-4355-a54f-840ab4036936\", \"6.jpg\", 2755)"
            ],
            "text/plain": [
              "<IPython.core.display.Javascript object>"
            ]
          },
          "metadata": {
            "tags": []
          }
        },
        {
          "output_type": "display_data",
          "data": {
            "text/plain": [
              "<Figure size 432x288 with 0 Axes>"
            ]
          },
          "metadata": {
            "tags": []
          }
        }
      ]
    },
    {
      "cell_type": "code",
      "metadata": {
        "id": "Jlle7OX5DuhA",
        "colab": {
          "base_uri": "https://localhost:8080/",
          "height": 631
        },
        "outputId": "d9c88666-4c98-4b7f-bac3-565da6f22dde"
      },
      "source": [
        "fig, axs = plt.subplots(2, 2, figsize=(10, 10), sharex=True, sharey=True)\n",
        "bins=31\n",
        "\n",
        "with sns.axes_style(\"darkgrid\"):\n",
        "  sns.histplot(edades_m, x=\"edad\", kde=True, color=\"skyblue\", ax=axs[0, 0], bins=bins).set_title('Varones', size=16)\n",
        "  sns.histplot(edades_v, x=\"edad\", kde=True, color=\"olive\", ax=axs[0, 1], bins=bins).set_title('Mujeres', size=16)\n",
        "  sns.histplot(edades_nb, x=\"edad\", kde=True, color=\"purple\", ax=axs[1, 0], bins=bins).set_title('No binaries', size=16)\n",
        "  sns.histplot(edades_o, x=\"edad\", kde=True, color=\"teal\", ax=axs[1, 1],bins=bins).set_title('Otros', size=16)\n",
        "\n",
        "  plt.setp(axs[-1, :], xlabel='Edades')\n",
        "  plt.setp(axs[:, 0], ylabel='Cantidad')\n",
        "  #plt.savefig(\"7.jpg\",bbox_inches='tight')\n",
        "  #files.download(\"7.jpg\") \n",
        "  plt.show()"
      ],
      "execution_count": null,
      "outputs": [
        {
          "output_type": "display_data",
          "data": {
            "application/javascript": [
              "\n",
              "    async function download(id, filename, size) {\n",
              "      if (!google.colab.kernel.accessAllowed) {\n",
              "        return;\n",
              "      }\n",
              "      const div = document.createElement('div');\n",
              "      const label = document.createElement('label');\n",
              "      label.textContent = `Downloading \"${filename}\": `;\n",
              "      div.appendChild(label);\n",
              "      const progress = document.createElement('progress');\n",
              "      progress.max = size;\n",
              "      div.appendChild(progress);\n",
              "      document.body.appendChild(div);\n",
              "\n",
              "      const buffers = [];\n",
              "      let downloaded = 0;\n",
              "\n",
              "      const channel = await google.colab.kernel.comms.open(id);\n",
              "      // Send a message to notify the kernel that we're ready.\n",
              "      channel.send({})\n",
              "\n",
              "      for await (const message of channel.messages) {\n",
              "        // Send a message to notify the kernel that we're ready.\n",
              "        channel.send({})\n",
              "        if (message.buffers) {\n",
              "          for (const buffer of message.buffers) {\n",
              "            buffers.push(buffer);\n",
              "            downloaded += buffer.byteLength;\n",
              "            progress.value = downloaded;\n",
              "          }\n",
              "        }\n",
              "      }\n",
              "      const blob = new Blob(buffers, {type: 'application/binary'});\n",
              "      const a = document.createElement('a');\n",
              "      a.href = window.URL.createObjectURL(blob);\n",
              "      a.download = filename;\n",
              "      div.appendChild(a);\n",
              "      a.click();\n",
              "      div.remove();\n",
              "    }\n",
              "  "
            ],
            "text/plain": [
              "<IPython.core.display.Javascript object>"
            ]
          },
          "metadata": {
            "tags": []
          }
        },
        {
          "output_type": "display_data",
          "data": {
            "application/javascript": [
              "download(\"download_dee4c3d2-66e0-4cfa-9c81-a5b7ff261cdb\", \"7.jpg\", 50801)"
            ],
            "text/plain": [
              "<IPython.core.display.Javascript object>"
            ]
          },
          "metadata": {
            "tags": []
          }
        },
        {
          "output_type": "display_data",
          "data": {
            "image/png": "[encoded data removed]",
            "text/plain": [
              "<Figure size 720x720 with 4 Axes>"
            ]
          },
          "metadata": {
            "tags": [],
            "needs_background": "light"
          }
        }
      ]
    },
    {
      "cell_type": "code",
      "metadata": {
        "id": "_7zaVamVe_SQ",
        "colab": {
          "base_uri": "https://localhost:8080/",
          "height": 486
        },
        "outputId": "4b588430-36e0-4b6f-ae1e-74edb534c6ed"
      },
      "source": [
        "f, ax = plt.subplots(figsize=(10, 7))\n",
        "sns.violinplot(x=df1.genero, y=df1.edad, palette=\"inferno\", inner='stick', order=['Mujer', 'Varón', 'No binarie','Otro'])\n",
        "ax.spines['top'].set_visible(False)\n",
        "ax.spines['right'].set_visible(False)\n",
        "plt.title('Distribución de edades por género', fontsize=14)\n",
        "plt.xlabel('Género')\n",
        "plt.ylabel('Edad')\n",
        "plt.show()\n",
        "#plt.savefig(\"8.jpg\",bbox_inches='tight')\n",
        "#files.download(\"8.jpg\") "
      ],
      "execution_count": null,
      "outputs": [
        {
          "output_type": "display_data",
          "data": {
            "image/png": "[encoded data removed]",
            "text/plain": [
              "<Figure size 720x504 with 1 Axes>"
            ]
          },
          "metadata": {
            "tags": [],
            "needs_background": "light"
          }
        },
        {
          "output_type": "display_data",
          "data": {
            "application/javascript": [
              "\n",
              "    async function download(id, filename, size) {\n",
              "      if (!google.colab.kernel.accessAllowed) {\n",
              "        return;\n",
              "      }\n",
              "      const div = document.createElement('div');\n",
              "      const label = document.createElement('label');\n",
              "      label.textContent = `Downloading \"${filename}\": `;\n",
              "      div.appendChild(label);\n",
              "      const progress = document.createElement('progress');\n",
              "      progress.max = size;\n",
              "      div.appendChild(progress);\n",
              "      document.body.appendChild(div);\n",
              "\n",
              "      const buffers = [];\n",
              "      let downloaded = 0;\n",
              "\n",
              "      const channel = await google.colab.kernel.comms.open(id);\n",
              "      // Send a message to notify the kernel that we're ready.\n",
              "      channel.send({})\n",
              "\n",
              "      for await (const message of channel.messages) {\n",
              "        // Send a message to notify the kernel that we're ready.\n",
              "        channel.send({})\n",
              "        if (message.buffers) {\n",
              "          for (const buffer of message.buffers) {\n",
              "            buffers.push(buffer);\n",
              "            downloaded += buffer.byteLength;\n",
              "            progress.value = downloaded;\n",
              "          }\n",
              "        }\n",
              "      }\n",
              "      const blob = new Blob(buffers, {type: 'application/binary'});\n",
              "      const a = document.createElement('a');\n",
              "      a.href = window.URL.createObjectURL(blob);\n",
              "      a.download = filename;\n",
              "      div.appendChild(a);\n",
              "      a.click();\n",
              "      div.remove();\n",
              "    }\n",
              "  "
            ],
            "text/plain": [
              "<IPython.core.display.Javascript object>"
            ]
          },
          "metadata": {
            "tags": []
          }
        },
        {
          "output_type": "display_data",
          "data": {
            "application/javascript": [
              "download(\"download_1eb6da06-1f21-4bc7-b2b0-52801d5e2613\", \"8.jpg\", 2755)"
            ],
            "text/plain": [
              "<IPython.core.display.Javascript object>"
            ]
          },
          "metadata": {
            "tags": []
          }
        },
        {
          "output_type": "display_data",
          "data": {
            "text/plain": [
              "<Figure size 432x288 with 0 Axes>"
            ]
          },
          "metadata": {
            "tags": []
          }
        }
      ]
    },
    {
      "cell_type": "code",
      "metadata": {
        "id": "xDjlF_Ew5rIQ",
        "colab": {
          "base_uri": "https://localhost:8080/",
          "height": 468
        },
        "outputId": "9bd05fa4-d101-42af-fd89-5fae9ebd7939"
      },
      "source": [
        "f, ax = plt.subplots(figsize=(10, 7))\n",
        "sns.violinplot(x=df1.identidad, y=df1.edad, palette=\"BuPu\", inner='stick')\n",
        "ax.spines['top'].set_visible(False)\n",
        "ax.spines['right'].set_visible(False)\n",
        "plt.title('Distribucióón de edades por identidad de género', fontsize=14)\n",
        "plt.xlabel('')\n",
        "plt.ylabel('Edad')\n",
        "plt.show()\n",
        "#plt.savefig(\"9.jpg\",bbox_inches='tight')\n",
        "#files.download(\"9.jpg\") "
      ],
      "execution_count": null,
      "outputs": [
        {
          "output_type": "display_data",
          "data": {
            "image/png": "[encoded data removed]",
            "text/plain": [
              "<Figure size 720x504 with 1 Axes>"
            ]
          },
          "metadata": {
            "tags": [],
            "needs_background": "light"
          }
        },
        {
          "output_type": "display_data",
          "data": {
            "application/javascript": [
              "\n",
              "    async function download(id, filename, size) {\n",
              "      if (!google.colab.kernel.accessAllowed) {\n",
              "        return;\n",
              "      }\n",
              "      const div = document.createElement('div');\n",
              "      const label = document.createElement('label');\n",
              "      label.textContent = `Downloading \"${filename}\": `;\n",
              "      div.appendChild(label);\n",
              "      const progress = document.createElement('progress');\n",
              "      progress.max = size;\n",
              "      div.appendChild(progress);\n",
              "      document.body.appendChild(div);\n",
              "\n",
              "      const buffers = [];\n",
              "      let downloaded = 0;\n",
              "\n",
              "      const channel = await google.colab.kernel.comms.open(id);\n",
              "      // Send a message to notify the kernel that we're ready.\n",
              "      channel.send({})\n",
              "\n",
              "      for await (const message of channel.messages) {\n",
              "        // Send a message to notify the kernel that we're ready.\n",
              "        channel.send({})\n",
              "        if (message.buffers) {\n",
              "          for (const buffer of message.buffers) {\n",
              "            buffers.push(buffer);\n",
              "            downloaded += buffer.byteLength;\n",
              "            progress.value = downloaded;\n",
              "          }\n",
              "        }\n",
              "      }\n",
              "      const blob = new Blob(buffers, {type: 'application/binary'});\n",
              "      const a = document.createElement('a');\n",
              "      a.href = window.URL.createObjectURL(blob);\n",
              "      a.download = filename;\n",
              "      div.appendChild(a);\n",
              "      a.click();\n",
              "      div.remove();\n",
              "    }\n",
              "  "
            ],
            "text/plain": [
              "<IPython.core.display.Javascript object>"
            ]
          },
          "metadata": {
            "tags": []
          }
        },
        {
          "output_type": "display_data",
          "data": {
            "application/javascript": [
              "download(\"download_a915c214-bbd2-41c1-bb17-5994e2c5119b\", \"9.jpg\", 2755)"
            ],
            "text/plain": [
              "<IPython.core.display.Javascript object>"
            ]
          },
          "metadata": {
            "tags": []
          }
        },
        {
          "output_type": "display_data",
          "data": {
            "text/plain": [
              "<Figure size 432x288 with 0 Axes>"
            ]
          },
          "metadata": {
            "tags": []
          }
        }
      ]
    },
    {
      "cell_type": "markdown",
      "metadata": {
        "id": "ga7J3Kw_gHk6"
      },
      "source": [
        "##Juegos"
      ]
    },
    {
      "cell_type": "code",
      "metadata": {
        "id": "1UPShoJytX5N",
        "colab": {
          "base_uri": "https://localhost:8080/"
        },
        "outputId": "cec83a93-4648-45c7-e70c-0d1c01102b4d"
      },
      "source": [
        "type(df['juegos'])"
      ],
      "execution_count": null,
      "outputs": [
        {
          "output_type": "execute_result",
          "data": {
            "text/plain": [
              "pandas.core.series.Series"
            ]
          },
          "metadata": {
            "tags": []
          },
          "execution_count": 227
        }
      ]
    },
    {
      "cell_type": "code",
      "metadata": {
        "id": "jE5GItyGtyty",
        "colab": {
          "base_uri": "https://localhost:8080/"
        },
        "outputId": "cdc204ff-8c53-4dca-f82f-7d8b0bf8005e"
      },
      "source": [
        "juegos1 = df['juegos'].dropna()\n",
        "type(juegos1)"
      ],
      "execution_count": null,
      "outputs": [
        {
          "output_type": "execute_result",
          "data": {
            "text/plain": [
              "pandas.core.series.Series"
            ]
          },
          "metadata": {
            "tags": []
          },
          "execution_count": 228
        }
      ]
    },
    {
      "cell_type": "code",
      "metadata": {
        "id": "nv_2wzwitbWS",
        "colab": {
          "base_uri": "https://localhost:8080/"
        },
        "outputId": "00d7cf4c-a1eb-4e8c-f6e2-3ab423621dfb"
      },
      "source": [
        "juegos = [j.split(';') for j in juegos1]\n",
        "flat_list = [item for sublist in juegos for item in sublist]\n",
        "juegos_ = [i.split(', ') for i in flat_list]\n",
        "otra_vez = [item for sublist in juegos_ for item in sublist]\n",
        "print(len(otra_vez))"
      ],
      "execution_count": null,
      "outputs": [
        {
          "output_type": "stream",
          "text": [
            "391\n"
          ],
          "name": "stdout"
        }
      ]
    },
    {
      "cell_type": "code",
      "metadata": {
        "id": "yzfq7Hz7m1zk",
        "colab": {
          "base_uri": "https://localhost:8080/"
        },
        "outputId": "41e067de-2912-4c19-d271-5a161b5f92e9"
      },
      "source": [
        "#Cuento la cantidad de veces que aparece un juego\n",
        "contador = Counter(otra_vez)\n",
        "#Uso los juegos que más aparecen para armar un dataframe\n",
        "mas_comunes = contador.most_common(11)\n",
        "juegos_mas_comunes = pd.DataFrame(mas_comunes)\n",
        "juegos_mas_comunes\n",
        "print(mas_comunes)"
      ],
      "execution_count": null,
      "outputs": [
        {
          "output_type": "stream",
          "text": [
            "[('Dungeons & Dragons 5E', 98), ('La Llamada de Cthulhu', 42), ('Vampiros', 38), ('Pathfinder', 38), ('Dungeons & Dragons 3.5', 35), ('Hombre Lobo', 9), ('GURPS', 9), ('PbtA', 8), ('Homebrew', 5), ('Warhammer', 5), ('Indies', 5)]\n"
          ],
          "name": "stdout"
        }
      ]
    },
    {
      "cell_type": "code",
      "metadata": {
        "id": "upKYsBzH8djk"
      },
      "source": [
        "#labels = [item[0] for item in mas_comunes]\n",
        "#cantidad = [item[1] for item in mas_comunes]\n",
        "#nbars = len(mas_comunes)\n",
        "\n",
        "#plt.bar(np.arange(nbars), cantidad, tick_label=labels)\n",
        "#plt.show()"
      ],
      "execution_count": null,
      "outputs": []
    },
    {
      "cell_type": "code",
      "metadata": {
        "id": "6tjgC_FRAebo",
        "colab": {
          "base_uri": "https://localhost:8080/",
          "height": 394
        },
        "outputId": "fa331d57-232b-4916-a399-be06f6c45326"
      },
      "source": [
        "#Armo un dataframe con los juegos más comunes y la cantidad de veces que aparecen\n",
        "datos = pd.DataFrame(mas_comunes)\n",
        "datos.columns=['juego', 'cantidad']\n",
        "datos"
      ],
      "execution_count": null,
      "outputs": [
        {
          "output_type": "execute_result",
          "data": {
            "text/html": [
              "<div>\n",
              "<style scoped>\n",
              "    .dataframe tbody tr th:only-of-type {\n",
              "        vertical-align: middle;\n",
              "    }\n",
              "\n",
              "    .dataframe tbody tr th {\n",
              "        vertical-align: top;\n",
              "    }\n",
              "\n",
              "    .dataframe thead th {\n",
              "        text-align: right;\n",
              "    }\n",
              "</style>\n",
              "<table border=\"1\" class=\"dataframe\">\n",
              "  <thead>\n",
              "    <tr style=\"text-align: right;\">\n",
              "      <th></th>\n",
              "      <th>juego</th>\n",
              "      <th>cantidad</th>\n",
              "    </tr>\n",
              "  </thead>\n",
              "  <tbody>\n",
              "    <tr>\n",
              "      <th>0</th>\n",
              "      <td>Dungeons &amp; Dragons 5E</td>\n",
              "      <td>98</td>\n",
              "    </tr>\n",
              "    <tr>\n",
              "      <th>1</th>\n",
              "      <td>La Llamada de Cthulhu</td>\n",
              "      <td>42</td>\n",
              "    </tr>\n",
              "    <tr>\n",
              "      <th>2</th>\n",
              "      <td>Vampiros</td>\n",
              "      <td>38</td>\n",
              "    </tr>\n",
              "    <tr>\n",
              "      <th>3</th>\n",
              "      <td>Pathfinder</td>\n",
              "      <td>38</td>\n",
              "    </tr>\n",
              "    <tr>\n",
              "      <th>4</th>\n",
              "      <td>Dungeons &amp; Dragons 3.5</td>\n",
              "      <td>35</td>\n",
              "    </tr>\n",
              "    <tr>\n",
              "      <th>5</th>\n",
              "      <td>Hombre Lobo</td>\n",
              "      <td>9</td>\n",
              "    </tr>\n",
              "    <tr>\n",
              "      <th>6</th>\n",
              "      <td>GURPS</td>\n",
              "      <td>9</td>\n",
              "    </tr>\n",
              "    <tr>\n",
              "      <th>7</th>\n",
              "      <td>PbtA</td>\n",
              "      <td>8</td>\n",
              "    </tr>\n",
              "    <tr>\n",
              "      <th>8</th>\n",
              "      <td>Homebrew</td>\n",
              "      <td>5</td>\n",
              "    </tr>\n",
              "    <tr>\n",
              "      <th>9</th>\n",
              "      <td>Warhammer</td>\n",
              "      <td>5</td>\n",
              "    </tr>\n",
              "    <tr>\n",
              "      <th>10</th>\n",
              "      <td>Indies</td>\n",
              "      <td>5</td>\n",
              "    </tr>\n",
              "  </tbody>\n",
              "</table>\n",
              "</div>"
            ],
            "text/plain": [
              "                     juego  cantidad\n",
              "0    Dungeons & Dragons 5E        98\n",
              "1    La Llamada de Cthulhu        42\n",
              "2                 Vampiros        38\n",
              "3               Pathfinder        38\n",
              "4   Dungeons & Dragons 3.5        35\n",
              "5              Hombre Lobo         9\n",
              "6                    GURPS         9\n",
              "7                     PbtA         8\n",
              "8                 Homebrew         5\n",
              "9                Warhammer         5\n",
              "10                  Indies         5"
            ]
          },
          "metadata": {
            "tags": []
          },
          "execution_count": 232
        }
      ]
    },
    {
      "cell_type": "code",
      "metadata": {
        "id": "OTvolOp4BPY7",
        "colab": {
          "base_uri": "https://localhost:8080/",
          "height": 375
        },
        "outputId": "bc23c0cc-67a8-487d-fc5a-ae9179a27c47"
      },
      "source": [
        "fig, ax = plt.subplots(figsize=(10,6))\n",
        "sns.barplot(x='cantidad', y='juego', data=datos)\n",
        "#Para mostrar los valores a la derecha de las barras\n",
        "for p in ax.patches:\n",
        "  _x = p.get_x() + p.get_width() + .4\n",
        "  _y = p.get_y() + p.get_height()\n",
        "  value = int(p.get_width())\n",
        "  ax.text(_x, _y, value, ha=\"left\", va='bottom')\n",
        "plt.xticks([])\n",
        "plt.xlabel('Cantidad')\n",
        "plt.ylabel('')\n",
        "plt.show()"
      ],
      "execution_count": null,
      "outputs": [
        {
          "output_type": "display_data",
          "data": {
            "image/png": "[encoded data removed]",
            "text/plain": [
              "<Figure size 720x432 with 1 Axes>"
            ]
          },
          "metadata": {
            "tags": [],
            "needs_background": "light"
          }
        }
      ]
    },
    {
      "cell_type": "code",
      "metadata": {
        "id": "3P5SViZgCLHM",
        "colab": {
          "base_uri": "https://localhost:8080/",
          "height": 394
        },
        "outputId": "0ea3499c-4625-4b8b-9143-df08cb3d8149"
      },
      "source": [
        "#Agrego al dataframe una columna con los porcentajes\n",
        "total = len(otra_vez)\n",
        "datos['porcentaje'] = ((datos['cantidad']*100)/total)\n",
        "datos"
      ],
      "execution_count": null,
      "outputs": [
        {
          "output_type": "execute_result",
          "data": {
            "text/html": [
              "<div>\n",
              "<style scoped>\n",
              "    .dataframe tbody tr th:only-of-type {\n",
              "        vertical-align: middle;\n",
              "    }\n",
              "\n",
              "    .dataframe tbody tr th {\n",
              "        vertical-align: top;\n",
              "    }\n",
              "\n",
              "    .dataframe thead th {\n",
              "        text-align: right;\n",
              "    }\n",
              "</style>\n",
              "<table border=\"1\" class=\"dataframe\">\n",
              "  <thead>\n",
              "    <tr style=\"text-align: right;\">\n",
              "      <th></th>\n",
              "      <th>juego</th>\n",
              "      <th>cantidad</th>\n",
              "      <th>porcentaje</th>\n",
              "    </tr>\n",
              "  </thead>\n",
              "  <tbody>\n",
              "    <tr>\n",
              "      <th>0</th>\n",
              "      <td>Dungeons &amp; Dragons 5E</td>\n",
              "      <td>98</td>\n",
              "      <td>25.063939</td>\n",
              "    </tr>\n",
              "    <tr>\n",
              "      <th>1</th>\n",
              "      <td>La Llamada de Cthulhu</td>\n",
              "      <td>42</td>\n",
              "      <td>10.741688</td>\n",
              "    </tr>\n",
              "    <tr>\n",
              "      <th>2</th>\n",
              "      <td>Vampiros</td>\n",
              "      <td>38</td>\n",
              "      <td>9.718670</td>\n",
              "    </tr>\n",
              "    <tr>\n",
              "      <th>3</th>\n",
              "      <td>Pathfinder</td>\n",
              "      <td>38</td>\n",
              "      <td>9.718670</td>\n",
              "    </tr>\n",
              "    <tr>\n",
              "      <th>4</th>\n",
              "      <td>Dungeons &amp; Dragons 3.5</td>\n",
              "      <td>35</td>\n",
              "      <td>8.951407</td>\n",
              "    </tr>\n",
              "    <tr>\n",
              "      <th>5</th>\n",
              "      <td>Hombre Lobo</td>\n",
              "      <td>9</td>\n",
              "      <td>2.301790</td>\n",
              "    </tr>\n",
              "    <tr>\n",
              "      <th>6</th>\n",
              "      <td>GURPS</td>\n",
              "      <td>9</td>\n",
              "      <td>2.301790</td>\n",
              "    </tr>\n",
              "    <tr>\n",
              "      <th>7</th>\n",
              "      <td>PbtA</td>\n",
              "      <td>8</td>\n",
              "      <td>2.046036</td>\n",
              "    </tr>\n",
              "    <tr>\n",
              "      <th>8</th>\n",
              "      <td>Homebrew</td>\n",
              "      <td>5</td>\n",
              "      <td>1.278772</td>\n",
              "    </tr>\n",
              "    <tr>\n",
              "      <th>9</th>\n",
              "      <td>Warhammer</td>\n",
              "      <td>5</td>\n",
              "      <td>1.278772</td>\n",
              "    </tr>\n",
              "    <tr>\n",
              "      <th>10</th>\n",
              "      <td>Indies</td>\n",
              "      <td>5</td>\n",
              "      <td>1.278772</td>\n",
              "    </tr>\n",
              "  </tbody>\n",
              "</table>\n",
              "</div>"
            ],
            "text/plain": [
              "                     juego  cantidad  porcentaje\n",
              "0    Dungeons & Dragons 5E        98   25.063939\n",
              "1    La Llamada de Cthulhu        42   10.741688\n",
              "2                 Vampiros        38    9.718670\n",
              "3               Pathfinder        38    9.718670\n",
              "4   Dungeons & Dragons 3.5        35    8.951407\n",
              "5              Hombre Lobo         9    2.301790\n",
              "6                    GURPS         9    2.301790\n",
              "7                     PbtA         8    2.046036\n",
              "8                 Homebrew         5    1.278772\n",
              "9                Warhammer         5    1.278772\n",
              "10                  Indies         5    1.278772"
            ]
          },
          "metadata": {
            "tags": []
          },
          "execution_count": 234
        }
      ]
    },
    {
      "cell_type": "code",
      "metadata": {
        "id": "qDQM1B4BC05s",
        "colab": {
          "base_uri": "https://localhost:8080/",
          "height": 379
        },
        "outputId": "7d6dc0bc-5894-4a1f-ae93-179c205bed93"
      },
      "source": [
        "fig, ax = plt.subplots(figsize=(10,6))\n",
        "sns.barplot(x='porcentaje', y='juego', data=datos)\n",
        "#Para mostrar los valores a la derecha de las barras horizontales, en formato porcentaje\n",
        "for p in ax.patches:\n",
        "  _x = p.get_x() + p.get_width() + .4\n",
        "  _y = p.get_y() + p.get_height()\n",
        "  value = \"{:.1f}%\".format(p.get_width())\n",
        "  ax.text(_x, _y, value, ha=\"left\", va='bottom')\n",
        "plt.xticks([])\n",
        "plt.xlim([0,28])\n",
        "plt.xlabel('')\n",
        "plt.ylabel('')\n",
        "plt.show()\n",
        "#plt.savefig(\"9.jpg\",bbox_inches='tight')\n",
        "#files.download(\"9.jpg\") "
      ],
      "execution_count": null,
      "outputs": [
        {
          "output_type": "display_data",
          "data": {
            "image/png": "[encoded data removed]",
            "text/plain": [
              "<Figure size 720x432 with 1 Axes>"
            ]
          },
          "metadata": {
            "tags": [],
            "needs_background": "light"
          }
        },
        {
          "output_type": "display_data",
          "data": {
            "application/javascript": [
              "\n",
              "    async function download(id, filename, size) {\n",
              "      if (!google.colab.kernel.accessAllowed) {\n",
              "        return;\n",
              "      }\n",
              "      const div = document.createElement('div');\n",
              "      const label = document.createElement('label');\n",
              "      label.textContent = `Downloading \"${filename}\": `;\n",
              "      div.appendChild(label);\n",
              "      const progress = document.createElement('progress');\n",
              "      progress.max = size;\n",
              "      div.appendChild(progress);\n",
              "      document.body.appendChild(div);\n",
              "\n",
              "      const buffers = [];\n",
              "      let downloaded = 0;\n",
              "\n",
              "      const channel = await google.colab.kernel.comms.open(id);\n",
              "      // Send a message to notify the kernel that we're ready.\n",
              "      channel.send({})\n",
              "\n",
              "      for await (const message of channel.messages) {\n",
              "        // Send a message to notify the kernel that we're ready.\n",
              "        channel.send({})\n",
              "        if (message.buffers) {\n",
              "          for (const buffer of message.buffers) {\n",
              "            buffers.push(buffer);\n",
              "            downloaded += buffer.byteLength;\n",
              "            progress.value = downloaded;\n",
              "          }\n",
              "        }\n",
              "      }\n",
              "      const blob = new Blob(buffers, {type: 'application/binary'});\n",
              "      const a = document.createElement('a');\n",
              "      a.href = window.URL.createObjectURL(blob);\n",
              "      a.download = filename;\n",
              "      div.appendChild(a);\n",
              "      a.click();\n",
              "      div.remove();\n",
              "    }\n",
              "  "
            ],
            "text/plain": [
              "<IPython.core.display.Javascript object>"
            ]
          },
          "metadata": {
            "tags": []
          }
        },
        {
          "output_type": "display_data",
          "data": {
            "application/javascript": [
              "download(\"download_f0382a0b-bab9-43f3-85a9-ada863d99f77\", \"9.jpg\", 2755)"
            ],
            "text/plain": [
              "<IPython.core.display.Javascript object>"
            ]
          },
          "metadata": {
            "tags": []
          }
        },
        {
          "output_type": "display_data",
          "data": {
            "text/plain": [
              "<Figure size 432x288 with 0 Axes>"
            ]
          },
          "metadata": {
            "tags": []
          }
        }
      ]
    },
    {
      "cell_type": "markdown",
      "metadata": {
        "id": "UxUK8DhVHQXG"
      },
      "source": [
        "##Identidad de género"
      ]
    },
    {
      "cell_type": "code",
      "metadata": {
        "id": "oxOh9U6DHQ1V",
        "colab": {
          "base_uri": "https://localhost:8080/",
          "height": 328
        },
        "outputId": "a8d272e7-58a8-44ac-d62a-0ee62e0d7f13"
      },
      "source": [
        "df1.head()"
      ],
      "execution_count": null,
      "outputs": [
        {
          "output_type": "execute_result",
          "data": {
            "text/html": [
              "<div>\n",
              "<style scoped>\n",
              "    .dataframe tbody tr th:only-of-type {\n",
              "        vertical-align: middle;\n",
              "    }\n",
              "\n",
              "    .dataframe tbody tr th {\n",
              "        vertical-align: top;\n",
              "    }\n",
              "\n",
              "    .dataframe thead th {\n",
              "        text-align: right;\n",
              "    }\n",
              "</style>\n",
              "<table border=\"1\" class=\"dataframe\">\n",
              "  <thead>\n",
              "    <tr style=\"text-align: right;\">\n",
              "      <th></th>\n",
              "      <th>edad</th>\n",
              "      <th>juegos</th>\n",
              "      <th>rol</th>\n",
              "      <th>genero</th>\n",
              "      <th>identidad</th>\n",
              "      <th>sexualidad</th>\n",
              "      <th>discriminacion_personal</th>\n",
              "      <th>discriminacion_otre</th>\n",
              "      <th>reaccion</th>\n",
              "      <th>grupo</th>\n",
              "      <th>nacimiento</th>\n",
              "      <th>residencia</th>\n",
              "    </tr>\n",
              "  </thead>\n",
              "  <tbody>\n",
              "    <tr>\n",
              "      <th>0</th>\n",
              "      <td>29.0</td>\n",
              "      <td>Dungeons &amp; Dragons 5E</td>\n",
              "      <td>Jugadorx</td>\n",
              "      <td>Mujer</td>\n",
              "      <td>Cis</td>\n",
              "      <td>Heterosexual</td>\n",
              "      <td>No estoy segurx</td>\n",
              "      <td>No estoy segurx</td>\n",
              "      <td>Sí</td>\n",
              "      <td>Mayoría de varones</td>\n",
              "      <td>Argentina</td>\n",
              "      <td>Argentina</td>\n",
              "    </tr>\n",
              "    <tr>\n",
              "      <th>1</th>\n",
              "      <td>29.0</td>\n",
              "      <td>Dungeons &amp; Dragons 5E</td>\n",
              "      <td>Jugadorx</td>\n",
              "      <td>Mujer</td>\n",
              "      <td>Cis</td>\n",
              "      <td>Heterosexual</td>\n",
              "      <td>No</td>\n",
              "      <td>No</td>\n",
              "      <td>NaN</td>\n",
              "      <td>Mayoría de varones</td>\n",
              "      <td>Argentina</td>\n",
              "      <td>Argentina</td>\n",
              "    </tr>\n",
              "    <tr>\n",
              "      <th>2</th>\n",
              "      <td>32.0</td>\n",
              "      <td>Dungeons &amp; Dragons 5E, Dungeons &amp; Dragons 3.5</td>\n",
              "      <td>Ambos</td>\n",
              "      <td>Varón</td>\n",
              "      <td>Cis</td>\n",
              "      <td>Heterosexual</td>\n",
              "      <td>No</td>\n",
              "      <td>No</td>\n",
              "      <td>NaN</td>\n",
              "      <td>Mayoría de varones</td>\n",
              "      <td>Argentina</td>\n",
              "      <td>Argentina</td>\n",
              "    </tr>\n",
              "    <tr>\n",
              "      <th>3</th>\n",
              "      <td>32.0</td>\n",
              "      <td>Dungeons &amp; Dragons 3.5, Homebrew</td>\n",
              "      <td>Jugadorx</td>\n",
              "      <td>Varón</td>\n",
              "      <td>Cis</td>\n",
              "      <td>Heterosexual</td>\n",
              "      <td>No</td>\n",
              "      <td>No</td>\n",
              "      <td>NaN</td>\n",
              "      <td>Mayoría de varones</td>\n",
              "      <td>Argentina</td>\n",
              "      <td>Argentina</td>\n",
              "    </tr>\n",
              "    <tr>\n",
              "      <th>4</th>\n",
              "      <td>30.0</td>\n",
              "      <td>Dungeons &amp; Dragons 5E, Dungeons &amp; Dragons 3.5,...</td>\n",
              "      <td>Ambos</td>\n",
              "      <td>Varón</td>\n",
              "      <td>NaN</td>\n",
              "      <td>Heterosexual</td>\n",
              "      <td>No</td>\n",
              "      <td>No</td>\n",
              "      <td>NaN</td>\n",
              "      <td>Mayoría de varones</td>\n",
              "      <td>Argentina</td>\n",
              "      <td>Argentina</td>\n",
              "    </tr>\n",
              "  </tbody>\n",
              "</table>\n",
              "</div>"
            ],
            "text/plain": [
              "   edad  ... residencia\n",
              "0  29.0  ...  Argentina\n",
              "1  29.0  ...  Argentina\n",
              "2  32.0  ...  Argentina\n",
              "3  32.0  ...  Argentina\n",
              "4  30.0  ...  Argentina\n",
              "\n",
              "[5 rows x 12 columns]"
            ]
          },
          "metadata": {
            "tags": []
          },
          "execution_count": 236
        }
      ]
    },
    {
      "cell_type": "code",
      "metadata": {
        "id": "L5j4jjCjV_Dl",
        "colab": {
          "base_uri": "https://localhost:8080/",
          "height": 396
        },
        "outputId": "e587eccd-545f-4d11-9f86-be1d30f5eea2"
      },
      "source": [
        "total=df1['identidad'].count()\n",
        "fig, ax = plt.subplots(figsize=(6,6))\n",
        "sns.countplot(x=\"identidad\", data=df1, palette='Accent')\n",
        "#Para mostrar los valores sobre las barras verticales\n",
        "for p in ax.patches:\n",
        "  _x = p.get_x() + p.get_width() / 2\n",
        "  _y = p.get_y() + p.get_height()\n",
        "  value = \"{:.1f}%\".format((int(p.get_height())*100)/total)\n",
        "  ax.text(_x, _y, value, ha=\"center\") \n",
        "plt.xlabel('')\n",
        "plt.ylabel('Cantidad')\n",
        "ax.spines['top'].set_visible(False)\n",
        "ax.spines['right'].set_visible(False)\n",
        "plt.show()\n",
        "#plt.savefig(\"10.jpg\",bbox_inches='tight')\n",
        "#files.download(\"10.jpg\") "
      ],
      "execution_count": null,
      "outputs": [
        {
          "output_type": "display_data",
          "data": {
            "image/png": "[encoded data removed]",
            "text/plain": [
              "<Figure size 432x432 with 1 Axes>"
            ]
          },
          "metadata": {
            "tags": [],
            "needs_background": "light"
          }
        },
        {
          "output_type": "display_data",
          "data": {
            "application/javascript": [
              "\n",
              "    async function download(id, filename, size) {\n",
              "      if (!google.colab.kernel.accessAllowed) {\n",
              "        return;\n",
              "      }\n",
              "      const div = document.createElement('div');\n",
              "      const label = document.createElement('label');\n",
              "      label.textContent = `Downloading \"${filename}\": `;\n",
              "      div.appendChild(label);\n",
              "      const progress = document.createElement('progress');\n",
              "      progress.max = size;\n",
              "      div.appendChild(progress);\n",
              "      document.body.appendChild(div);\n",
              "\n",
              "      const buffers = [];\n",
              "      let downloaded = 0;\n",
              "\n",
              "      const channel = await google.colab.kernel.comms.open(id);\n",
              "      // Send a message to notify the kernel that we're ready.\n",
              "      channel.send({})\n",
              "\n",
              "      for await (const message of channel.messages) {\n",
              "        // Send a message to notify the kernel that we're ready.\n",
              "        channel.send({})\n",
              "        if (message.buffers) {\n",
              "          for (const buffer of message.buffers) {\n",
              "            buffers.push(buffer);\n",
              "            downloaded += buffer.byteLength;\n",
              "            progress.value = downloaded;\n",
              "          }\n",
              "        }\n",
              "      }\n",
              "      const blob = new Blob(buffers, {type: 'application/binary'});\n",
              "      const a = document.createElement('a');\n",
              "      a.href = window.URL.createObjectURL(blob);\n",
              "      a.download = filename;\n",
              "      div.appendChild(a);\n",
              "      a.click();\n",
              "      div.remove();\n",
              "    }\n",
              "  "
            ],
            "text/plain": [
              "<IPython.core.display.Javascript object>"
            ]
          },
          "metadata": {
            "tags": []
          }
        },
        {
          "output_type": "display_data",
          "data": {
            "application/javascript": [
              "download(\"download_06c36918-740f-4610-bb40-c78e29c9581d\", \"10.jpg\", 2755)"
            ],
            "text/plain": [
              "<IPython.core.display.Javascript object>"
            ]
          },
          "metadata": {
            "tags": []
          }
        },
        {
          "output_type": "display_data",
          "data": {
            "text/plain": [
              "<Figure size 432x288 with 0 Axes>"
            ]
          },
          "metadata": {
            "tags": []
          }
        }
      ]
    },
    {
      "cell_type": "code",
      "metadata": {
        "id": "KzfQ0RcsuYBW",
        "colab": {
          "base_uri": "https://localhost:8080/",
          "height": 451
        },
        "outputId": "dd2b05f8-ecbe-42dc-eac9-82a6bf187509"
      },
      "source": [
        "pie_plot(df1['identidad'],[0,.1,0], 'Identidad')\n",
        "#plt.savefig(\"11.jpg\",bbox_inches='tight')\n",
        "#files.download(\"11.jpg\") "
      ],
      "execution_count": null,
      "outputs": [
        {
          "output_type": "display_data",
          "data": {
            "image/png": "[encoded data removed]",
            "text/plain": [
              "<Figure size 720x432 with 1 Axes>"
            ]
          },
          "metadata": {
            "tags": []
          }
        },
        {
          "output_type": "display_data",
          "data": {
            "application/javascript": [
              "\n",
              "    async function download(id, filename, size) {\n",
              "      if (!google.colab.kernel.accessAllowed) {\n",
              "        return;\n",
              "      }\n",
              "      const div = document.createElement('div');\n",
              "      const label = document.createElement('label');\n",
              "      label.textContent = `Downloading \"${filename}\": `;\n",
              "      div.appendChild(label);\n",
              "      const progress = document.createElement('progress');\n",
              "      progress.max = size;\n",
              "      div.appendChild(progress);\n",
              "      document.body.appendChild(div);\n",
              "\n",
              "      const buffers = [];\n",
              "      let downloaded = 0;\n",
              "\n",
              "      const channel = await google.colab.kernel.comms.open(id);\n",
              "      // Send a message to notify the kernel that we're ready.\n",
              "      channel.send({})\n",
              "\n",
              "      for await (const message of channel.messages) {\n",
              "        // Send a message to notify the kernel that we're ready.\n",
              "        channel.send({})\n",
              "        if (message.buffers) {\n",
              "          for (const buffer of message.buffers) {\n",
              "            buffers.push(buffer);\n",
              "            downloaded += buffer.byteLength;\n",
              "            progress.value = downloaded;\n",
              "          }\n",
              "        }\n",
              "      }\n",
              "      const blob = new Blob(buffers, {type: 'application/binary'});\n",
              "      const a = document.createElement('a');\n",
              "      a.href = window.URL.createObjectURL(blob);\n",
              "      a.download = filename;\n",
              "      div.appendChild(a);\n",
              "      a.click();\n",
              "      div.remove();\n",
              "    }\n",
              "  "
            ],
            "text/plain": [
              "<IPython.core.display.Javascript object>"
            ]
          },
          "metadata": {
            "tags": []
          }
        },
        {
          "output_type": "display_data",
          "data": {
            "application/javascript": [
              "download(\"download_bfb67b94-5790-4813-896e-310b1549022a\", \"11.jpg\", 2755)"
            ],
            "text/plain": [
              "<IPython.core.display.Javascript object>"
            ]
          },
          "metadata": {
            "tags": []
          }
        },
        {
          "output_type": "display_data",
          "data": {
            "text/plain": [
              "<Figure size 432x288 with 0 Axes>"
            ]
          },
          "metadata": {
            "tags": []
          }
        }
      ]
    },
    {
      "cell_type": "markdown",
      "metadata": {
        "id": "GGeyHb48cKxP"
      },
      "source": [
        "##Sexualidad"
      ]
    },
    {
      "cell_type": "code",
      "metadata": {
        "id": "2s-JNtXGwaGS",
        "colab": {
          "base_uri": "https://localhost:8080/"
        },
        "outputId": "a9aadaec-4c24-4ecc-e2ef-c90c9168dab5"
      },
      "source": [
        "df1['sexualidad'].value_counts()"
      ],
      "execution_count": null,
      "outputs": [
        {
          "output_type": "execute_result",
          "data": {
            "text/plain": [
              "Heterosexual    82\n",
              "Bisexual        44\n",
              "Homosexual      12\n",
              "Pansexual        7\n",
              "Asexual          7\n",
              "Otro             7\n",
              "Name: sexualidad, dtype: int64"
            ]
          },
          "metadata": {
            "tags": []
          },
          "execution_count": 239
        }
      ]
    },
    {
      "cell_type": "code",
      "metadata": {
        "id": "uzOiae6xvwuR",
        "colab": {
          "base_uri": "https://localhost:8080/",
          "height": 451
        },
        "outputId": "34e30d2e-771c-4745-a2fd-2fef2c40e63e"
      },
      "source": [
        "pie_plot(df1['sexualidad'], np.zeros(6), 'Orientación sexual', sns.color_palette(\"Dark2\"))\n",
        "#plt.savefig(\"12.jpg\",bbox_inches='tight')\n",
        "#files.download(\"12.jpg\") "
      ],
      "execution_count": null,
      "outputs": [
        {
          "output_type": "display_data",
          "data": {
            "image/png": "[encoded data removed]",
            "text/plain": [
              "<Figure size 720x432 with 1 Axes>"
            ]
          },
          "metadata": {
            "tags": []
          }
        },
        {
          "output_type": "display_data",
          "data": {
            "application/javascript": [
              "\n",
              "    async function download(id, filename, size) {\n",
              "      if (!google.colab.kernel.accessAllowed) {\n",
              "        return;\n",
              "      }\n",
              "      const div = document.createElement('div');\n",
              "      const label = document.createElement('label');\n",
              "      label.textContent = `Downloading \"${filename}\": `;\n",
              "      div.appendChild(label);\n",
              "      const progress = document.createElement('progress');\n",
              "      progress.max = size;\n",
              "      div.appendChild(progress);\n",
              "      document.body.appendChild(div);\n",
              "\n",
              "      const buffers = [];\n",
              "      let downloaded = 0;\n",
              "\n",
              "      const channel = await google.colab.kernel.comms.open(id);\n",
              "      // Send a message to notify the kernel that we're ready.\n",
              "      channel.send({})\n",
              "\n",
              "      for await (const message of channel.messages) {\n",
              "        // Send a message to notify the kernel that we're ready.\n",
              "        channel.send({})\n",
              "        if (message.buffers) {\n",
              "          for (const buffer of message.buffers) {\n",
              "            buffers.push(buffer);\n",
              "            downloaded += buffer.byteLength;\n",
              "            progress.value = downloaded;\n",
              "          }\n",
              "        }\n",
              "      }\n",
              "      const blob = new Blob(buffers, {type: 'application/binary'});\n",
              "      const a = document.createElement('a');\n",
              "      a.href = window.URL.createObjectURL(blob);\n",
              "      a.download = filename;\n",
              "      div.appendChild(a);\n",
              "      a.click();\n",
              "      div.remove();\n",
              "    }\n",
              "  "
            ],
            "text/plain": [
              "<IPython.core.display.Javascript object>"
            ]
          },
          "metadata": {
            "tags": []
          }
        },
        {
          "output_type": "display_data",
          "data": {
            "application/javascript": [
              "download(\"download_337a1326-0c58-4167-aa78-6894d5281119\", \"12.jpg\", 2755)"
            ],
            "text/plain": [
              "<IPython.core.display.Javascript object>"
            ]
          },
          "metadata": {
            "tags": []
          }
        },
        {
          "output_type": "display_data",
          "data": {
            "text/plain": [
              "<Figure size 432x288 with 0 Axes>"
            ]
          },
          "metadata": {
            "tags": []
          }
        }
      ]
    },
    {
      "cell_type": "code",
      "metadata": {
        "colab": {
          "base_uri": "https://localhost:8080/",
          "height": 396
        },
        "id": "hk0I4CsWoOB3",
        "outputId": "715dd6fd-598a-4ae9-c029-6f0135c37af0"
      },
      "source": [
        "total=df1['sexualidad'].count()\n",
        "fig, ax = plt.subplots(figsize=(10,6))\n",
        "sns.countplot(x=\"sexualidad\", data=df1, palette='Dark2', order=df1['sexualidad'].value_counts().index)\n",
        "#Para mostrar los valores sobre las barras verticales\n",
        "for p in ax.patches:\n",
        "  _x = p.get_x() + p.get_width() / 2\n",
        "  _y = p.get_y() + p.get_height()\n",
        "  value = '{:.1f}%'.format(int(p.get_height()*100)/total)\n",
        "  ax.text(_x, _y, value, ha=\"center\") \n",
        "ax.spines['top'].set_visible(False)\n",
        "ax.spines['right'].set_visible(False)\n",
        "plt.xlabel('')\n",
        "plt.ylabel('Cantidad')\n",
        "plt.show()\n",
        "#plt.savefig(\"13.jpg\",bbox_inches='tight')\n",
        "#files.download(\"13.jpg\") "
      ],
      "execution_count": null,
      "outputs": [
        {
          "output_type": "display_data",
          "data": {
            "image/png": "[encoded data removed]",
            "text/plain": [
              "<Figure size 720x432 with 1 Axes>"
            ]
          },
          "metadata": {
            "tags": [],
            "needs_background": "light"
          }
        },
        {
          "output_type": "display_data",
          "data": {
            "application/javascript": [
              "\n",
              "    async function download(id, filename, size) {\n",
              "      if (!google.colab.kernel.accessAllowed) {\n",
              "        return;\n",
              "      }\n",
              "      const div = document.createElement('div');\n",
              "      const label = document.createElement('label');\n",
              "      label.textContent = `Downloading \"${filename}\": `;\n",
              "      div.appendChild(label);\n",
              "      const progress = document.createElement('progress');\n",
              "      progress.max = size;\n",
              "      div.appendChild(progress);\n",
              "      document.body.appendChild(div);\n",
              "\n",
              "      const buffers = [];\n",
              "      let downloaded = 0;\n",
              "\n",
              "      const channel = await google.colab.kernel.comms.open(id);\n",
              "      // Send a message to notify the kernel that we're ready.\n",
              "      channel.send({})\n",
              "\n",
              "      for await (const message of channel.messages) {\n",
              "        // Send a message to notify the kernel that we're ready.\n",
              "        channel.send({})\n",
              "        if (message.buffers) {\n",
              "          for (const buffer of message.buffers) {\n",
              "            buffers.push(buffer);\n",
              "            downloaded += buffer.byteLength;\n",
              "            progress.value = downloaded;\n",
              "          }\n",
              "        }\n",
              "      }\n",
              "      const blob = new Blob(buffers, {type: 'application/binary'});\n",
              "      const a = document.createElement('a');\n",
              "      a.href = window.URL.createObjectURL(blob);\n",
              "      a.download = filename;\n",
              "      div.appendChild(a);\n",
              "      a.click();\n",
              "      div.remove();\n",
              "    }\n",
              "  "
            ],
            "text/plain": [
              "<IPython.core.display.Javascript object>"
            ]
          },
          "metadata": {
            "tags": []
          }
        },
        {
          "output_type": "display_data",
          "data": {
            "application/javascript": [
              "download(\"download_57fe6336-443c-4b0c-a088-0d8a017ff8fb\", \"13.jpg\", 2755)"
            ],
            "text/plain": [
              "<IPython.core.display.Javascript object>"
            ]
          },
          "metadata": {
            "tags": []
          }
        },
        {
          "output_type": "display_data",
          "data": {
            "text/plain": [
              "<Figure size 432x288 with 0 Axes>"
            ]
          },
          "metadata": {
            "tags": []
          }
        }
      ]
    },
    {
      "cell_type": "markdown",
      "metadata": {
        "id": "cBT8Fywub04u"
      },
      "source": [
        "##Discriminación"
      ]
    },
    {
      "cell_type": "code",
      "metadata": {
        "id": "e2hEikSPb1PT",
        "colab": {
          "base_uri": "https://localhost:8080/",
          "height": 328
        },
        "outputId": "5209f26c-8139-410a-d425-a9df3191f694"
      },
      "source": [
        "df1.head()"
      ],
      "execution_count": null,
      "outputs": [
        {
          "output_type": "execute_result",
          "data": {
            "text/html": [
              "<div>\n",
              "<style scoped>\n",
              "    .dataframe tbody tr th:only-of-type {\n",
              "        vertical-align: middle;\n",
              "    }\n",
              "\n",
              "    .dataframe tbody tr th {\n",
              "        vertical-align: top;\n",
              "    }\n",
              "\n",
              "    .dataframe thead th {\n",
              "        text-align: right;\n",
              "    }\n",
              "</style>\n",
              "<table border=\"1\" class=\"dataframe\">\n",
              "  <thead>\n",
              "    <tr style=\"text-align: right;\">\n",
              "      <th></th>\n",
              "      <th>edad</th>\n",
              "      <th>juegos</th>\n",
              "      <th>rol</th>\n",
              "      <th>genero</th>\n",
              "      <th>identidad</th>\n",
              "      <th>sexualidad</th>\n",
              "      <th>discriminacion_personal</th>\n",
              "      <th>discriminacion_otre</th>\n",
              "      <th>reaccion</th>\n",
              "      <th>grupo</th>\n",
              "      <th>nacimiento</th>\n",
              "      <th>residencia</th>\n",
              "    </tr>\n",
              "  </thead>\n",
              "  <tbody>\n",
              "    <tr>\n",
              "      <th>0</th>\n",
              "      <td>29.0</td>\n",
              "      <td>Dungeons &amp; Dragons 5E</td>\n",
              "      <td>Jugadorx</td>\n",
              "      <td>Mujer</td>\n",
              "      <td>Cis</td>\n",
              "      <td>Heterosexual</td>\n",
              "      <td>No estoy segurx</td>\n",
              "      <td>No estoy segurx</td>\n",
              "      <td>Sí</td>\n",
              "      <td>Mayoría de varones</td>\n",
              "      <td>Argentina</td>\n",
              "      <td>Argentina</td>\n",
              "    </tr>\n",
              "    <tr>\n",
              "      <th>1</th>\n",
              "      <td>29.0</td>\n",
              "      <td>Dungeons &amp; Dragons 5E</td>\n",
              "      <td>Jugadorx</td>\n",
              "      <td>Mujer</td>\n",
              "      <td>Cis</td>\n",
              "      <td>Heterosexual</td>\n",
              "      <td>No</td>\n",
              "      <td>No</td>\n",
              "      <td>NaN</td>\n",
              "      <td>Mayoría de varones</td>\n",
              "      <td>Argentina</td>\n",
              "      <td>Argentina</td>\n",
              "    </tr>\n",
              "    <tr>\n",
              "      <th>2</th>\n",
              "      <td>32.0</td>\n",
              "      <td>Dungeons &amp; Dragons 5E, Dungeons &amp; Dragons 3.5</td>\n",
              "      <td>Ambos</td>\n",
              "      <td>Varón</td>\n",
              "      <td>Cis</td>\n",
              "      <td>Heterosexual</td>\n",
              "      <td>No</td>\n",
              "      <td>No</td>\n",
              "      <td>NaN</td>\n",
              "      <td>Mayoría de varones</td>\n",
              "      <td>Argentina</td>\n",
              "      <td>Argentina</td>\n",
              "    </tr>\n",
              "    <tr>\n",
              "      <th>3</th>\n",
              "      <td>32.0</td>\n",
              "      <td>Dungeons &amp; Dragons 3.5, Homebrew</td>\n",
              "      <td>Jugadorx</td>\n",
              "      <td>Varón</td>\n",
              "      <td>Cis</td>\n",
              "      <td>Heterosexual</td>\n",
              "      <td>No</td>\n",
              "      <td>No</td>\n",
              "      <td>NaN</td>\n",
              "      <td>Mayoría de varones</td>\n",
              "      <td>Argentina</td>\n",
              "      <td>Argentina</td>\n",
              "    </tr>\n",
              "    <tr>\n",
              "      <th>4</th>\n",
              "      <td>30.0</td>\n",
              "      <td>Dungeons &amp; Dragons 5E, Dungeons &amp; Dragons 3.5,...</td>\n",
              "      <td>Ambos</td>\n",
              "      <td>Varón</td>\n",
              "      <td>NaN</td>\n",
              "      <td>Heterosexual</td>\n",
              "      <td>No</td>\n",
              "      <td>No</td>\n",
              "      <td>NaN</td>\n",
              "      <td>Mayoría de varones</td>\n",
              "      <td>Argentina</td>\n",
              "      <td>Argentina</td>\n",
              "    </tr>\n",
              "  </tbody>\n",
              "</table>\n",
              "</div>"
            ],
            "text/plain": [
              "   edad  ... residencia\n",
              "0  29.0  ...  Argentina\n",
              "1  29.0  ...  Argentina\n",
              "2  32.0  ...  Argentina\n",
              "3  32.0  ...  Argentina\n",
              "4  30.0  ...  Argentina\n",
              "\n",
              "[5 rows x 12 columns]"
            ]
          },
          "metadata": {
            "tags": []
          },
          "execution_count": 242
        }
      ]
    },
    {
      "cell_type": "code",
      "metadata": {
        "id": "szPtCQ9McEnr",
        "colab": {
          "base_uri": "https://localhost:8080/",
          "height": 451
        },
        "outputId": "c1d1eb71-2239-4828-94b5-91cb7cec0c6d"
      },
      "source": [
        "pie_plot(df1['discriminacion_personal'], [0,.1,0], 'Te sentiste discriminadx?')\n",
        "#plt.savefig(\"14.jpg\",bbox_inches='tight')\n",
        "#files.download(\"14.jpg\") "
      ],
      "execution_count": null,
      "outputs": [
        {
          "output_type": "display_data",
          "data": {
            "image/png": "[encoded data removed]",
            "text/plain": [
              "<Figure size 720x432 with 1 Axes>"
            ]
          },
          "metadata": {
            "tags": []
          }
        },
        {
          "output_type": "display_data",
          "data": {
            "application/javascript": [
              "\n",
              "    async function download(id, filename, size) {\n",
              "      if (!google.colab.kernel.accessAllowed) {\n",
              "        return;\n",
              "      }\n",
              "      const div = document.createElement('div');\n",
              "      const label = document.createElement('label');\n",
              "      label.textContent = `Downloading \"${filename}\": `;\n",
              "      div.appendChild(label);\n",
              "      const progress = document.createElement('progress');\n",
              "      progress.max = size;\n",
              "      div.appendChild(progress);\n",
              "      document.body.appendChild(div);\n",
              "\n",
              "      const buffers = [];\n",
              "      let downloaded = 0;\n",
              "\n",
              "      const channel = await google.colab.kernel.comms.open(id);\n",
              "      // Send a message to notify the kernel that we're ready.\n",
              "      channel.send({})\n",
              "\n",
              "      for await (const message of channel.messages) {\n",
              "        // Send a message to notify the kernel that we're ready.\n",
              "        channel.send({})\n",
              "        if (message.buffers) {\n",
              "          for (const buffer of message.buffers) {\n",
              "            buffers.push(buffer);\n",
              "            downloaded += buffer.byteLength;\n",
              "            progress.value = downloaded;\n",
              "          }\n",
              "        }\n",
              "      }\n",
              "      const blob = new Blob(buffers, {type: 'application/binary'});\n",
              "      const a = document.createElement('a');\n",
              "      a.href = window.URL.createObjectURL(blob);\n",
              "      a.download = filename;\n",
              "      div.appendChild(a);\n",
              "      a.click();\n",
              "      div.remove();\n",
              "    }\n",
              "  "
            ],
            "text/plain": [
              "<IPython.core.display.Javascript object>"
            ]
          },
          "metadata": {
            "tags": []
          }
        },
        {
          "output_type": "display_data",
          "data": {
            "application/javascript": [
              "download(\"download_c1f8aecf-7ee1-441b-b477-2a9f3dd1f380\", \"14.jpg\", 2755)"
            ],
            "text/plain": [
              "<IPython.core.display.Javascript object>"
            ]
          },
          "metadata": {
            "tags": []
          }
        },
        {
          "output_type": "display_data",
          "data": {
            "text/plain": [
              "<Figure size 432x288 with 0 Axes>"
            ]
          },
          "metadata": {
            "tags": []
          }
        }
      ]
    },
    {
      "cell_type": "code",
      "metadata": {
        "id": "ypbQmEfLcEZ3",
        "colab": {
          "base_uri": "https://localhost:8080/",
          "height": 433
        },
        "outputId": "8959398f-3cf5-4e64-9a9e-7c8c07aa095c"
      },
      "source": [
        "pie_plot(df1['discriminacion_otre'], [0,.1,0], 'Presenciaste discriminación?')"
      ],
      "execution_count": null,
      "outputs": [
        {
          "output_type": "display_data",
          "data": {
            "image/png": "[encoded data removed]",
            "text/plain": [
              "<Figure size 720x432 with 1 Axes>"
            ]
          },
          "metadata": {
            "tags": []
          }
        }
      ]
    },
    {
      "cell_type": "code",
      "metadata": {
        "id": "R29Ry2VwcERP",
        "colab": {
          "base_uri": "https://localhost:8080/",
          "height": 451
        },
        "outputId": "1972ffe5-f5d1-4cb9-cf69-421f9bdfaa46"
      },
      "source": [
        "pie_plot(df1['reaccion'], np.zeros(3), 'Reaccionaste?')\n",
        "#plt.savefig(\"15.jpg\",bbox_inches='tight')\n",
        "#files.download(\"15.jpg\") \n",
        "#df1.reaccion.str.get_dummies().sum().plot.pie(label='Reaccionaste?', autopct='%1.0f%%')"
      ],
      "execution_count": null,
      "outputs": [
        {
          "output_type": "display_data",
          "data": {
            "image/png": "[encoded data removed]",
            "text/plain": [
              "<Figure size 720x432 with 1 Axes>"
            ]
          },
          "metadata": {
            "tags": []
          }
        },
        {
          "output_type": "display_data",
          "data": {
            "application/javascript": [
              "\n",
              "    async function download(id, filename, size) {\n",
              "      if (!google.colab.kernel.accessAllowed) {\n",
              "        return;\n",
              "      }\n",
              "      const div = document.createElement('div');\n",
              "      const label = document.createElement('label');\n",
              "      label.textContent = `Downloading \"${filename}\": `;\n",
              "      div.appendChild(label);\n",
              "      const progress = document.createElement('progress');\n",
              "      progress.max = size;\n",
              "      div.appendChild(progress);\n",
              "      document.body.appendChild(div);\n",
              "\n",
              "      const buffers = [];\n",
              "      let downloaded = 0;\n",
              "\n",
              "      const channel = await google.colab.kernel.comms.open(id);\n",
              "      // Send a message to notify the kernel that we're ready.\n",
              "      channel.send({})\n",
              "\n",
              "      for await (const message of channel.messages) {\n",
              "        // Send a message to notify the kernel that we're ready.\n",
              "        channel.send({})\n",
              "        if (message.buffers) {\n",
              "          for (const buffer of message.buffers) {\n",
              "            buffers.push(buffer);\n",
              "            downloaded += buffer.byteLength;\n",
              "            progress.value = downloaded;\n",
              "          }\n",
              "        }\n",
              "      }\n",
              "      const blob = new Blob(buffers, {type: 'application/binary'});\n",
              "      const a = document.createElement('a');\n",
              "      a.href = window.URL.createObjectURL(blob);\n",
              "      a.download = filename;\n",
              "      div.appendChild(a);\n",
              "      a.click();\n",
              "      div.remove();\n",
              "    }\n",
              "  "
            ],
            "text/plain": [
              "<IPython.core.display.Javascript object>"
            ]
          },
          "metadata": {
            "tags": []
          }
        },
        {
          "output_type": "display_data",
          "data": {
            "application/javascript": [
              "download(\"download_95a161cd-e96c-43f4-b987-1be853c89f23\", \"15.jpg\", 2755)"
            ],
            "text/plain": [
              "<IPython.core.display.Javascript object>"
            ]
          },
          "metadata": {
            "tags": []
          }
        },
        {
          "output_type": "display_data",
          "data": {
            "text/plain": [
              "<Figure size 432x288 with 0 Axes>"
            ]
          },
          "metadata": {
            "tags": []
          }
        }
      ]
    },
    {
      "cell_type": "markdown",
      "metadata": {
        "id": "W-Eu0kl_tcqq"
      },
      "source": [
        "##Grupos"
      ]
    },
    {
      "cell_type": "code",
      "metadata": {
        "id": "PMYjI9IQ2j7h",
        "colab": {
          "base_uri": "https://localhost:8080/",
          "height": 451
        },
        "outputId": "8dbbb5fe-a052-4b62-98f8-f05fd2444085"
      },
      "source": [
        "pie_plot(df1['grupo'], np.zeros(5), 'Composición de los grupos')\n",
        "#plt.savefig(\"16.jpg\",bbox_inches='tight')\n",
        "#files.download(\"16.jpg\") "
      ],
      "execution_count": null,
      "outputs": [
        {
          "output_type": "display_data",
          "data": {
            "image/png": "[encoded data removed]",
            "text/plain": [
              "<Figure size 720x432 with 1 Axes>"
            ]
          },
          "metadata": {
            "tags": []
          }
        },
        {
          "output_type": "display_data",
          "data": {
            "application/javascript": [
              "\n",
              "    async function download(id, filename, size) {\n",
              "      if (!google.colab.kernel.accessAllowed) {\n",
              "        return;\n",
              "      }\n",
              "      const div = document.createElement('div');\n",
              "      const label = document.createElement('label');\n",
              "      label.textContent = `Downloading \"${filename}\": `;\n",
              "      div.appendChild(label);\n",
              "      const progress = document.createElement('progress');\n",
              "      progress.max = size;\n",
              "      div.appendChild(progress);\n",
              "      document.body.appendChild(div);\n",
              "\n",
              "      const buffers = [];\n",
              "      let downloaded = 0;\n",
              "\n",
              "      const channel = await google.colab.kernel.comms.open(id);\n",
              "      // Send a message to notify the kernel that we're ready.\n",
              "      channel.send({})\n",
              "\n",
              "      for await (const message of channel.messages) {\n",
              "        // Send a message to notify the kernel that we're ready.\n",
              "        channel.send({})\n",
              "        if (message.buffers) {\n",
              "          for (const buffer of message.buffers) {\n",
              "            buffers.push(buffer);\n",
              "            downloaded += buffer.byteLength;\n",
              "            progress.value = downloaded;\n",
              "          }\n",
              "        }\n",
              "      }\n",
              "      const blob = new Blob(buffers, {type: 'application/binary'});\n",
              "      const a = document.createElement('a');\n",
              "      a.href = window.URL.createObjectURL(blob);\n",
              "      a.download = filename;\n",
              "      div.appendChild(a);\n",
              "      a.click();\n",
              "      div.remove();\n",
              "    }\n",
              "  "
            ],
            "text/plain": [
              "<IPython.core.display.Javascript object>"
            ]
          },
          "metadata": {
            "tags": []
          }
        },
        {
          "output_type": "display_data",
          "data": {
            "application/javascript": [
              "download(\"download_5dc1fb90-37f9-450a-9827-4f85853196ef\", \"16.jpg\", 2755)"
            ],
            "text/plain": [
              "<IPython.core.display.Javascript object>"
            ]
          },
          "metadata": {
            "tags": []
          }
        },
        {
          "output_type": "display_data",
          "data": {
            "text/plain": [
              "<Figure size 432x288 with 0 Axes>"
            ]
          },
          "metadata": {
            "tags": []
          }
        }
      ]
    },
    {
      "cell_type": "code",
      "metadata": {
        "colab": {
          "base_uri": "https://localhost:8080/",
          "height": 529
        },
        "id": "ESUkZgl8te_l",
        "outputId": "3c2fc1b2-52af-4647-8d59-cda7c87fc7fa"
      },
      "source": [
        "total=df1['grupo'].count()\n",
        "fig, ax = plt.subplots(figsize=(10,8))\n",
        "sns.countplot(x=\"grupo\", data=df1, palette='Dark2', order=df1['grupo'].value_counts().index)\n",
        "for p in ax.patches:\n",
        "  _x = p.get_x() + p.get_width() / 2\n",
        "  _y = p.get_y() + p.get_height()\n",
        "  value = '{:.1f}%'.format(int(p.get_height()*100)/total)\n",
        "  ax.text(_x, _y, value, ha=\"center\") \n",
        "ax.spines['top'].set_visible(False)\n",
        "ax.spines['right'].set_visible(False)\n",
        "plt.xlabel('')\n",
        "plt.xticks(rotation=10, ha='center')\n",
        "plt.ylabel('Cantidad')\n",
        "#Personalizar la localización del título\n",
        "ax.set_title('Composición de los\\ngrupos', fontsize=15, loc='center', y=0.9,  pad= -45)\n",
        "plt.show()\n",
        "#plt.savefig(\"17.jpg\",bbox_inches='tight')\n",
        "#files.download(\"17.jpg\") "
      ],
      "execution_count": null,
      "outputs": [
        {
          "output_type": "display_data",
          "data": {
            "image/png": "[encoded data removed]",
            "text/plain": [
              "<Figure size 720x576 with 1 Axes>"
            ]
          },
          "metadata": {
            "tags": [],
            "needs_background": "light"
          }
        },
        {
          "output_type": "display_data",
          "data": {
            "application/javascript": [
              "\n",
              "    async function download(id, filename, size) {\n",
              "      if (!google.colab.kernel.accessAllowed) {\n",
              "        return;\n",
              "      }\n",
              "      const div = document.createElement('div');\n",
              "      const label = document.createElement('label');\n",
              "      label.textContent = `Downloading \"${filename}\": `;\n",
              "      div.appendChild(label);\n",
              "      const progress = document.createElement('progress');\n",
              "      progress.max = size;\n",
              "      div.appendChild(progress);\n",
              "      document.body.appendChild(div);\n",
              "\n",
              "      const buffers = [];\n",
              "      let downloaded = 0;\n",
              "\n",
              "      const channel = await google.colab.kernel.comms.open(id);\n",
              "      // Send a message to notify the kernel that we're ready.\n",
              "      channel.send({})\n",
              "\n",
              "      for await (const message of channel.messages) {\n",
              "        // Send a message to notify the kernel that we're ready.\n",
              "        channel.send({})\n",
              "        if (message.buffers) {\n",
              "          for (const buffer of message.buffers) {\n",
              "            buffers.push(buffer);\n",
              "            downloaded += buffer.byteLength;\n",
              "            progress.value = downloaded;\n",
              "          }\n",
              "        }\n",
              "      }\n",
              "      const blob = new Blob(buffers, {type: 'application/binary'});\n",
              "      const a = document.createElement('a');\n",
              "      a.href = window.URL.createObjectURL(blob);\n",
              "      a.download = filename;\n",
              "      div.appendChild(a);\n",
              "      a.click();\n",
              "      div.remove();\n",
              "    }\n",
              "  "
            ],
            "text/plain": [
              "<IPython.core.display.Javascript object>"
            ]
          },
          "metadata": {
            "tags": []
          }
        },
        {
          "output_type": "display_data",
          "data": {
            "application/javascript": [
              "download(\"download_94005cf6-32f4-409b-a307-38e0471f64d6\", \"17.jpg\", 2755)"
            ],
            "text/plain": [
              "<IPython.core.display.Javascript object>"
            ]
          },
          "metadata": {
            "tags": []
          }
        },
        {
          "output_type": "display_data",
          "data": {
            "text/plain": [
              "<Figure size 432x288 with 0 Axes>"
            ]
          },
          "metadata": {
            "tags": []
          }
        }
      ]
    },
    {
      "cell_type": "markdown",
      "metadata": {
        "id": "IA_XRBo3iLxE"
      },
      "source": [
        "##Correlaciones"
      ]
    },
    {
      "cell_type": "code",
      "metadata": {
        "id": "P2kwHc8xiLcm",
        "colab": {
          "base_uri": "https://localhost:8080/",
          "height": 328
        },
        "outputId": "fe3bc5ca-65d0-4cdd-fae1-331091e1273d"
      },
      "source": [
        "df1.head()"
      ],
      "execution_count": null,
      "outputs": [
        {
          "output_type": "execute_result",
          "data": {
            "text/html": [
              "<div>\n",
              "<style scoped>\n",
              "    .dataframe tbody tr th:only-of-type {\n",
              "        vertical-align: middle;\n",
              "    }\n",
              "\n",
              "    .dataframe tbody tr th {\n",
              "        vertical-align: top;\n",
              "    }\n",
              "\n",
              "    .dataframe thead th {\n",
              "        text-align: right;\n",
              "    }\n",
              "</style>\n",
              "<table border=\"1\" class=\"dataframe\">\n",
              "  <thead>\n",
              "    <tr style=\"text-align: right;\">\n",
              "      <th></th>\n",
              "      <th>edad</th>\n",
              "      <th>juegos</th>\n",
              "      <th>rol</th>\n",
              "      <th>genero</th>\n",
              "      <th>identidad</th>\n",
              "      <th>sexualidad</th>\n",
              "      <th>discriminacion_personal</th>\n",
              "      <th>discriminacion_otre</th>\n",
              "      <th>reaccion</th>\n",
              "      <th>grupo</th>\n",
              "      <th>nacimiento</th>\n",
              "      <th>residencia</th>\n",
              "    </tr>\n",
              "  </thead>\n",
              "  <tbody>\n",
              "    <tr>\n",
              "      <th>0</th>\n",
              "      <td>29.0</td>\n",
              "      <td>Dungeons &amp; Dragons 5E</td>\n",
              "      <td>Jugadorx</td>\n",
              "      <td>Mujer</td>\n",
              "      <td>Cis</td>\n",
              "      <td>Heterosexual</td>\n",
              "      <td>No estoy segurx</td>\n",
              "      <td>No estoy segurx</td>\n",
              "      <td>Sí</td>\n",
              "      <td>Mayoría de varones</td>\n",
              "      <td>Argentina</td>\n",
              "      <td>Argentina</td>\n",
              "    </tr>\n",
              "    <tr>\n",
              "      <th>1</th>\n",
              "      <td>29.0</td>\n",
              "      <td>Dungeons &amp; Dragons 5E</td>\n",
              "      <td>Jugadorx</td>\n",
              "      <td>Mujer</td>\n",
              "      <td>Cis</td>\n",
              "      <td>Heterosexual</td>\n",
              "      <td>No</td>\n",
              "      <td>No</td>\n",
              "      <td>NaN</td>\n",
              "      <td>Mayoría de varones</td>\n",
              "      <td>Argentina</td>\n",
              "      <td>Argentina</td>\n",
              "    </tr>\n",
              "    <tr>\n",
              "      <th>2</th>\n",
              "      <td>32.0</td>\n",
              "      <td>Dungeons &amp; Dragons 5E, Dungeons &amp; Dragons 3.5</td>\n",
              "      <td>Ambos</td>\n",
              "      <td>Varón</td>\n",
              "      <td>Cis</td>\n",
              "      <td>Heterosexual</td>\n",
              "      <td>No</td>\n",
              "      <td>No</td>\n",
              "      <td>NaN</td>\n",
              "      <td>Mayoría de varones</td>\n",
              "      <td>Argentina</td>\n",
              "      <td>Argentina</td>\n",
              "    </tr>\n",
              "    <tr>\n",
              "      <th>3</th>\n",
              "      <td>32.0</td>\n",
              "      <td>Dungeons &amp; Dragons 3.5, Homebrew</td>\n",
              "      <td>Jugadorx</td>\n",
              "      <td>Varón</td>\n",
              "      <td>Cis</td>\n",
              "      <td>Heterosexual</td>\n",
              "      <td>No</td>\n",
              "      <td>No</td>\n",
              "      <td>NaN</td>\n",
              "      <td>Mayoría de varones</td>\n",
              "      <td>Argentina</td>\n",
              "      <td>Argentina</td>\n",
              "    </tr>\n",
              "    <tr>\n",
              "      <th>4</th>\n",
              "      <td>30.0</td>\n",
              "      <td>Dungeons &amp; Dragons 5E, Dungeons &amp; Dragons 3.5,...</td>\n",
              "      <td>Ambos</td>\n",
              "      <td>Varón</td>\n",
              "      <td>NaN</td>\n",
              "      <td>Heterosexual</td>\n",
              "      <td>No</td>\n",
              "      <td>No</td>\n",
              "      <td>NaN</td>\n",
              "      <td>Mayoría de varones</td>\n",
              "      <td>Argentina</td>\n",
              "      <td>Argentina</td>\n",
              "    </tr>\n",
              "  </tbody>\n",
              "</table>\n",
              "</div>"
            ],
            "text/plain": [
              "   edad  ... residencia\n",
              "0  29.0  ...  Argentina\n",
              "1  29.0  ...  Argentina\n",
              "2  32.0  ...  Argentina\n",
              "3  32.0  ...  Argentina\n",
              "4  30.0  ...  Argentina\n",
              "\n",
              "[5 rows x 12 columns]"
            ]
          },
          "metadata": {
            "tags": []
          },
          "execution_count": 248
        }
      ]
    },
    {
      "cell_type": "code",
      "metadata": {
        "id": "gH_azGLGiPas",
        "colab": {
          "base_uri": "https://localhost:8080/"
        },
        "outputId": "7313ef53-cd44-4a4d-969d-ed0200cdba1b"
      },
      "source": [
        "cramers_v(df1['genero'], df1['discriminacion_personal'])"
      ],
      "execution_count": null,
      "outputs": [
        {
          "output_type": "execute_result",
          "data": {
            "text/plain": [
              "0.2486237258117704"
            ]
          },
          "metadata": {
            "tags": []
          },
          "execution_count": 249
        }
      ]
    },
    {
      "cell_type": "code",
      "metadata": {
        "id": "Wxl2tRXpw66o",
        "colab": {
          "base_uri": "https://localhost:8080/"
        },
        "outputId": "3f38add8-b45d-4f6c-e7fd-25787e7470c9"
      },
      "source": [
        "cramers_v(df1['genero'], df1['discriminacion_otre'])"
      ],
      "execution_count": null,
      "outputs": [
        {
          "output_type": "execute_result",
          "data": {
            "text/plain": [
              "0.050284853135184854"
            ]
          },
          "metadata": {
            "tags": []
          },
          "execution_count": 250
        }
      ]
    },
    {
      "cell_type": "code",
      "metadata": {
        "id": "hz4fVNvmxIWU",
        "colab": {
          "base_uri": "https://localhost:8080/"
        },
        "outputId": "a39c1b7f-f091-4c40-9fb7-7d011b487e81"
      },
      "source": [
        "cramers_v(df1['sexualidad'], df1['discriminacion_personal'])"
      ],
      "execution_count": null,
      "outputs": [
        {
          "output_type": "execute_result",
          "data": {
            "text/plain": [
              "0.1803460750466497"
            ]
          },
          "metadata": {
            "tags": []
          },
          "execution_count": 251
        }
      ]
    },
    {
      "cell_type": "code",
      "metadata": {
        "id": "rMZZTxx9xNoI",
        "colab": {
          "base_uri": "https://localhost:8080/"
        },
        "outputId": "2c1900d0-0c92-4f44-eecc-a82516079617"
      },
      "source": [
        "cramers_v(df1['identidad'], df1['discriminacion_personal'])"
      ],
      "execution_count": null,
      "outputs": [
        {
          "output_type": "execute_result",
          "data": {
            "text/plain": [
              "0.15483807526575388"
            ]
          },
          "metadata": {
            "tags": []
          },
          "execution_count": 252
        }
      ]
    },
    {
      "cell_type": "code",
      "metadata": {
        "id": "_Qv75qGRvG8V",
        "colab": {
          "base_uri": "https://localhost:8080/"
        },
        "outputId": "6dd879b0-c554-47b1-e5ed-9b9a67493d1a"
      },
      "source": [
        "# importing the required function\n",
        "from scipy.stats import chi2_contingency\n",
        "\n",
        "CrosstabResult=pd.crosstab(index=df1['genero'],columns=df1['discriminacion_personal'])\n",
        "print(CrosstabResult)\n",
        " \n",
        "# Performing Chi-sq test\n",
        "ChiSqResult = chi2_contingency(CrosstabResult)\n",
        " \n",
        "# P-Value is the Probability of H0 being True\n",
        "# If P-Value>0.05 then only we Accept the assumption(H0)\n",
        " \n",
        "print('The P-Value of the ChiSq Test is:', ChiSqResult[1])"
      ],
      "execution_count": null,
      "outputs": [
        {
          "output_type": "stream",
          "text": [
            "discriminacion_personal  No  No estoy segurx  Sí\n",
            "genero                                          \n",
            "Mujer                    35                8   6\n",
            "No binarie               11                1   3\n",
            "Otro                      2                2   3\n",
            "Varón                    81                3   4\n",
            "The P-Value of the ChiSq Test is: 0.0002822621017351442\n"
          ],
          "name": "stdout"
        }
      ]
    },
    {
      "cell_type": "code",
      "metadata": {
        "colab": {
          "base_uri": "https://localhost:8080/",
          "height": 206
        },
        "id": "MbUdex0899Xb",
        "outputId": "97f96f4c-308a-4b38-9fd1-0e54c9a883e1"
      },
      "source": [
        "ctb=CrosstabResult.sort_values(by=['No'])\n",
        "ctb"
      ],
      "execution_count": null,
      "outputs": [
        {
          "output_type": "execute_result",
          "data": {
            "text/html": [
              "<div>\n",
              "<style scoped>\n",
              "    .dataframe tbody tr th:only-of-type {\n",
              "        vertical-align: middle;\n",
              "    }\n",
              "\n",
              "    .dataframe tbody tr th {\n",
              "        vertical-align: top;\n",
              "    }\n",
              "\n",
              "    .dataframe thead th {\n",
              "        text-align: right;\n",
              "    }\n",
              "</style>\n",
              "<table border=\"1\" class=\"dataframe\">\n",
              "  <thead>\n",
              "    <tr style=\"text-align: right;\">\n",
              "      <th>discriminacion_personal</th>\n",
              "      <th>No</th>\n",
              "      <th>No estoy segurx</th>\n",
              "      <th>Sí</th>\n",
              "    </tr>\n",
              "    <tr>\n",
              "      <th>genero</th>\n",
              "      <th></th>\n",
              "      <th></th>\n",
              "      <th></th>\n",
              "    </tr>\n",
              "  </thead>\n",
              "  <tbody>\n",
              "    <tr>\n",
              "      <th>Otro</th>\n",
              "      <td>2</td>\n",
              "      <td>2</td>\n",
              "      <td>3</td>\n",
              "    </tr>\n",
              "    <tr>\n",
              "      <th>No binarie</th>\n",
              "      <td>11</td>\n",
              "      <td>1</td>\n",
              "      <td>3</td>\n",
              "    </tr>\n",
              "    <tr>\n",
              "      <th>Mujer</th>\n",
              "      <td>35</td>\n",
              "      <td>8</td>\n",
              "      <td>6</td>\n",
              "    </tr>\n",
              "    <tr>\n",
              "      <th>Varón</th>\n",
              "      <td>81</td>\n",
              "      <td>3</td>\n",
              "      <td>4</td>\n",
              "    </tr>\n",
              "  </tbody>\n",
              "</table>\n",
              "</div>"
            ],
            "text/plain": [
              "discriminacion_personal  No  No estoy segurx  Sí\n",
              "genero                                          \n",
              "Otro                      2                2   3\n",
              "No binarie               11                1   3\n",
              "Mujer                    35                8   6\n",
              "Varón                    81                3   4"
            ]
          },
          "metadata": {
            "tags": []
          },
          "execution_count": 254
        }
      ]
    },
    {
      "cell_type": "code",
      "metadata": {
        "id": "A6KUn2yqvbA2",
        "colab": {
          "base_uri": "https://localhost:8080/",
          "height": 344
        },
        "outputId": "8d08d8d8-8ea0-4876-c2c2-2d44b0206056"
      },
      "source": [
        "fig, ax = plt.subplots(figsize=(6,5))\n",
        "sns.heatmap(ctb)\n",
        "plt.title('Te sentiste discriminadx?')\n",
        "plt.ylabel('')\n",
        "plt.xlabel('')\n",
        "plt.show()"
      ],
      "execution_count": null,
      "outputs": [
        {
          "output_type": "display_data",
          "data": {
            "image/png": "[encoded data removed]",
            "text/plain": [
              "<Figure size 432x360 with 2 Axes>"
            ]
          },
          "metadata": {
            "tags": [],
            "needs_background": "light"
          }
        }
      ]
    },
    {
      "cell_type": "code",
      "metadata": {
        "colab": {
          "base_uri": "https://localhost:8080/",
          "height": 414
        },
        "id": "TQcnLzWd4UI3",
        "outputId": "bc3fd52c-56f5-4f71-becf-93e3cbe6c98b"
      },
      "source": [
        "colors = ['#29af7f','#2e6f8e','#482173']\n",
        "fig = ctb.plot.barh(stacked=True, figsize=(10,6), color=colors)\n",
        "plt.legend(title='Te sentiste\\ndiscriminadx?', title_fontsize=14, loc=(.6,.4), fontsize=13, frameon=False)\n",
        "plt.xlabel('Cantidad')\n",
        "plt.ylabel('')\n",
        "plt.show()\n",
        "#plt.savefig(\"18.jpg\",bbox_inches='tight')\n",
        "#files.download(\"18.jpg\") "
      ],
      "execution_count": null,
      "outputs": [
        {
          "output_type": "display_data",
          "data": {
            "image/png": "[encoded data removed]",
            "text/plain": [
              "<Figure size 720x432 with 1 Axes>"
            ]
          },
          "metadata": {
            "tags": [],
            "needs_background": "light"
          }
        },
        {
          "output_type": "display_data",
          "data": {
            "application/javascript": [
              "\n",
              "    async function download(id, filename, size) {\n",
              "      if (!google.colab.kernel.accessAllowed) {\n",
              "        return;\n",
              "      }\n",
              "      const div = document.createElement('div');\n",
              "      const label = document.createElement('label');\n",
              "      label.textContent = `Downloading \"${filename}\": `;\n",
              "      div.appendChild(label);\n",
              "      const progress = document.createElement('progress');\n",
              "      progress.max = size;\n",
              "      div.appendChild(progress);\n",
              "      document.body.appendChild(div);\n",
              "\n",
              "      const buffers = [];\n",
              "      let downloaded = 0;\n",
              "\n",
              "      const channel = await google.colab.kernel.comms.open(id);\n",
              "      // Send a message to notify the kernel that we're ready.\n",
              "      channel.send({})\n",
              "\n",
              "      for await (const message of channel.messages) {\n",
              "        // Send a message to notify the kernel that we're ready.\n",
              "        channel.send({})\n",
              "        if (message.buffers) {\n",
              "          for (const buffer of message.buffers) {\n",
              "            buffers.push(buffer);\n",
              "            downloaded += buffer.byteLength;\n",
              "            progress.value = downloaded;\n",
              "          }\n",
              "        }\n",
              "      }\n",
              "      const blob = new Blob(buffers, {type: 'application/binary'});\n",
              "      const a = document.createElement('a');\n",
              "      a.href = window.URL.createObjectURL(blob);\n",
              "      a.download = filename;\n",
              "      div.appendChild(a);\n",
              "      a.click();\n",
              "      div.remove();\n",
              "    }\n",
              "  "
            ],
            "text/plain": [
              "<IPython.core.display.Javascript object>"
            ]
          },
          "metadata": {
            "tags": []
          }
        },
        {
          "output_type": "display_data",
          "data": {
            "application/javascript": [
              "download(\"download_f754b8b4-25e9-45b3-a62f-159a73cdc51b\", \"18.jpg\", 2755)"
            ],
            "text/plain": [
              "<IPython.core.display.Javascript object>"
            ]
          },
          "metadata": {
            "tags": []
          }
        },
        {
          "output_type": "display_data",
          "data": {
            "text/plain": [
              "<Figure size 432x288 with 0 Axes>"
            ]
          },
          "metadata": {
            "tags": []
          }
        }
      ]
    },
    {
      "cell_type": "code",
      "metadata": {
        "id": "i9_qkn2p0JQ4",
        "colab": {
          "base_uri": "https://localhost:8080/",
          "height": 290
        },
        "outputId": "33f8ab63-1922-478c-9a7f-f001b27a35e8"
      },
      "source": [
        "heat_map(df1['genero'], df1['rol'])\n",
        "plt.title('Rol por género')\n",
        "plt.ylabel('')\n",
        "plt.xlabel('')\n",
        "plt.show()"
      ],
      "execution_count": null,
      "outputs": [
        {
          "output_type": "display_data",
          "data": {
            "image/png": "[encoded data removed]",
            "text/plain": [
              "<Figure size 432x288 with 2 Axes>"
            ]
          },
          "metadata": {
            "tags": [],
            "needs_background": "light"
          }
        }
      ]
    },
    {
      "cell_type": "code",
      "metadata": {
        "colab": {
          "base_uri": "https://localhost:8080/",
          "height": 414
        },
        "id": "ZsImkGzA--JR",
        "outputId": "7a495dab-ca85-4587-9fbb-dcd100c8eddb"
      },
      "source": [
        "colors = ['#03c383','#ef6a32','#a12a5e']\n",
        "ct=(pd.crosstab(index=df1['genero'],columns=df1['rol'])).sort_values(by=['Ambos'])\n",
        "fig = ct.plot.barh(stacked=True, figsize=(10,6), color=colors)\n",
        "plt.legend(title='Rol', title_fontsize=14, loc=(.6,.4), fontsize=13, frameon=False)\n",
        "plt.xlabel('Cantidad')\n",
        "plt.ylabel('')\n",
        "plt.show()\n",
        "#plt.savefig(\"19.jpg\",bbox_inches='tight')\n",
        "#files.download(\"19.jpg\") "
      ],
      "execution_count": null,
      "outputs": [
        {
          "output_type": "display_data",
          "data": {
            "image/png": "[encoded data removed]",
            "text/plain": [
              "<Figure size 720x432 with 1 Axes>"
            ]
          },
          "metadata": {
            "tags": [],
            "needs_background": "light"
          }
        },
        {
          "output_type": "display_data",
          "data": {
            "application/javascript": [
              "\n",
              "    async function download(id, filename, size) {\n",
              "      if (!google.colab.kernel.accessAllowed) {\n",
              "        return;\n",
              "      }\n",
              "      const div = document.createElement('div');\n",
              "      const label = document.createElement('label');\n",
              "      label.textContent = `Downloading \"${filename}\": `;\n",
              "      div.appendChild(label);\n",
              "      const progress = document.createElement('progress');\n",
              "      progress.max = size;\n",
              "      div.appendChild(progress);\n",
              "      document.body.appendChild(div);\n",
              "\n",
              "      const buffers = [];\n",
              "      let downloaded = 0;\n",
              "\n",
              "      const channel = await google.colab.kernel.comms.open(id);\n",
              "      // Send a message to notify the kernel that we're ready.\n",
              "      channel.send({})\n",
              "\n",
              "      for await (const message of channel.messages) {\n",
              "        // Send a message to notify the kernel that we're ready.\n",
              "        channel.send({})\n",
              "        if (message.buffers) {\n",
              "          for (const buffer of message.buffers) {\n",
              "            buffers.push(buffer);\n",
              "            downloaded += buffer.byteLength;\n",
              "            progress.value = downloaded;\n",
              "          }\n",
              "        }\n",
              "      }\n",
              "      const blob = new Blob(buffers, {type: 'application/binary'});\n",
              "      const a = document.createElement('a');\n",
              "      a.href = window.URL.createObjectURL(blob);\n",
              "      a.download = filename;\n",
              "      div.appendChild(a);\n",
              "      a.click();\n",
              "      div.remove();\n",
              "    }\n",
              "  "
            ],
            "text/plain": [
              "<IPython.core.display.Javascript object>"
            ]
          },
          "metadata": {
            "tags": []
          }
        },
        {
          "output_type": "display_data",
          "data": {
            "application/javascript": [
              "download(\"download_eb89ab27-12bc-4d70-9f63-0ece3f4f0d36\", \"19.jpg\", 2755)"
            ],
            "text/plain": [
              "<IPython.core.display.Javascript object>"
            ]
          },
          "metadata": {
            "tags": []
          }
        },
        {
          "output_type": "display_data",
          "data": {
            "text/plain": [
              "<Figure size 432x288 with 0 Axes>"
            ]
          },
          "metadata": {
            "tags": []
          }
        }
      ]
    },
    {
      "cell_type": "code",
      "metadata": {
        "id": "I89YZzSAx5Aw",
        "colab": {
          "base_uri": "https://localhost:8080/",
          "height": 225
        },
        "outputId": "4460ddb7-aef4-4123-e4df-f6bf9cac5e4c"
      },
      "source": [
        "# importing the required function\n",
        "from scipy.stats import chi2_contingency\n",
        "\n",
        "CrosstabResult=pd.crosstab(index=df1['genero'],columns=df1['grupo'])\n",
        "#print(CrosstabResult)\n",
        " \n",
        "# Performing Chi-sq test\n",
        "ChiSqResult = chi2_contingency(CrosstabResult)\n",
        " \n",
        "# P-Value is the Probability of H0 being True\n",
        "# If P-Value>0.05 then only we Accept the assumption(H0)\n",
        "\n",
        "print('The P-Value of the ChiSq Test is:', ChiSqResult[1])\n",
        "CrosstabResult"
      ],
      "execution_count": null,
      "outputs": [
        {
          "output_type": "stream",
          "text": [
            "The P-Value of the ChiSq Test is: 3.769001695129199e-05\n"
          ],
          "name": "stdout"
        },
        {
          "output_type": "execute_result",
          "data": {
            "text/html": [
              "<div>\n",
              "<style scoped>\n",
              "    .dataframe tbody tr th:only-of-type {\n",
              "        vertical-align: middle;\n",
              "    }\n",
              "\n",
              "    .dataframe tbody tr th {\n",
              "        vertical-align: top;\n",
              "    }\n",
              "\n",
              "    .dataframe thead th {\n",
              "        text-align: right;\n",
              "    }\n",
              "</style>\n",
              "<table border=\"1\" class=\"dataframe\">\n",
              "  <thead>\n",
              "    <tr style=\"text-align: right;\">\n",
              "      <th>grupo</th>\n",
              "      <th>Mayoría de mujeres</th>\n",
              "      <th>Mayoría de varones</th>\n",
              "      <th>Mitad y mitad</th>\n",
              "      <th>Otros</th>\n",
              "      <th>Sólo varones</th>\n",
              "    </tr>\n",
              "    <tr>\n",
              "      <th>genero</th>\n",
              "      <th></th>\n",
              "      <th></th>\n",
              "      <th></th>\n",
              "      <th></th>\n",
              "      <th></th>\n",
              "    </tr>\n",
              "  </thead>\n",
              "  <tbody>\n",
              "    <tr>\n",
              "      <th>Mujer</th>\n",
              "      <td>7</td>\n",
              "      <td>27</td>\n",
              "      <td>9</td>\n",
              "      <td>4</td>\n",
              "      <td>1</td>\n",
              "    </tr>\n",
              "    <tr>\n",
              "      <th>No binarie</th>\n",
              "      <td>4</td>\n",
              "      <td>5</td>\n",
              "      <td>0</td>\n",
              "      <td>5</td>\n",
              "      <td>1</td>\n",
              "    </tr>\n",
              "    <tr>\n",
              "      <th>Otro</th>\n",
              "      <td>0</td>\n",
              "      <td>4</td>\n",
              "      <td>1</td>\n",
              "      <td>2</td>\n",
              "      <td>0</td>\n",
              "    </tr>\n",
              "    <tr>\n",
              "      <th>Varón</th>\n",
              "      <td>4</td>\n",
              "      <td>44</td>\n",
              "      <td>14</td>\n",
              "      <td>3</td>\n",
              "      <td>22</td>\n",
              "    </tr>\n",
              "  </tbody>\n",
              "</table>\n",
              "</div>"
            ],
            "text/plain": [
              "grupo       Mayoría de mujeres  Mayoría de varones  ...  Otros  Sólo varones\n",
              "genero                                              ...                     \n",
              "Mujer                        7                  27  ...      4             1\n",
              "No binarie                   4                   5  ...      5             1\n",
              "Otro                         0                   4  ...      2             0\n",
              "Varón                        4                  44  ...      3            22\n",
              "\n",
              "[4 rows x 5 columns]"
            ]
          },
          "metadata": {
            "tags": []
          },
          "execution_count": 259
        }
      ]
    },
    {
      "cell_type": "code",
      "metadata": {
        "id": "rOE2ifAd6fvx",
        "colab": {
          "base_uri": "https://localhost:8080/",
          "height": 175
        },
        "outputId": "399b0b85-6b8c-462f-df9a-532d075a85b6"
      },
      "source": [
        "ct=(pd.crosstab(index=df1['identidad'],columns=df1['grupo'])).sort_values(by=['Mayoría de varones'], ascending=False)\n",
        "ct"
      ],
      "execution_count": null,
      "outputs": [
        {
          "output_type": "execute_result",
          "data": {
            "text/html": [
              "<div>\n",
              "<style scoped>\n",
              "    .dataframe tbody tr th:only-of-type {\n",
              "        vertical-align: middle;\n",
              "    }\n",
              "\n",
              "    .dataframe tbody tr th {\n",
              "        vertical-align: top;\n",
              "    }\n",
              "\n",
              "    .dataframe thead th {\n",
              "        text-align: right;\n",
              "    }\n",
              "</style>\n",
              "<table border=\"1\" class=\"dataframe\">\n",
              "  <thead>\n",
              "    <tr style=\"text-align: right;\">\n",
              "      <th>grupo</th>\n",
              "      <th>Mayoría de mujeres</th>\n",
              "      <th>Mayoría de varones</th>\n",
              "      <th>Mitad y mitad</th>\n",
              "      <th>Otros</th>\n",
              "      <th>Sólo varones</th>\n",
              "    </tr>\n",
              "    <tr>\n",
              "      <th>identidad</th>\n",
              "      <th></th>\n",
              "      <th></th>\n",
              "      <th></th>\n",
              "      <th></th>\n",
              "      <th></th>\n",
              "    </tr>\n",
              "  </thead>\n",
              "  <tbody>\n",
              "    <tr>\n",
              "      <th>Cis</th>\n",
              "      <td>8</td>\n",
              "      <td>67</td>\n",
              "      <td>22</td>\n",
              "      <td>10</td>\n",
              "      <td>22</td>\n",
              "    </tr>\n",
              "    <tr>\n",
              "      <th>Trans</th>\n",
              "      <td>7</td>\n",
              "      <td>6</td>\n",
              "      <td>1</td>\n",
              "      <td>4</td>\n",
              "      <td>0</td>\n",
              "    </tr>\n",
              "    <tr>\n",
              "      <th>Otro</th>\n",
              "      <td>0</td>\n",
              "      <td>4</td>\n",
              "      <td>0</td>\n",
              "      <td>0</td>\n",
              "      <td>0</td>\n",
              "    </tr>\n",
              "  </tbody>\n",
              "</table>\n",
              "</div>"
            ],
            "text/plain": [
              "grupo      Mayoría de mujeres  Mayoría de varones  ...  Otros  Sólo varones\n",
              "identidad                                          ...                     \n",
              "Cis                         8                  67  ...     10            22\n",
              "Trans                       7                   6  ...      4             0\n",
              "Otro                        0                   4  ...      0             0\n",
              "\n",
              "[3 rows x 5 columns]"
            ]
          },
          "metadata": {
            "tags": []
          },
          "execution_count": 260
        }
      ]
    },
    {
      "cell_type": "code",
      "metadata": {
        "colab": {
          "base_uri": "https://localhost:8080/",
          "height": 414
        },
        "id": "WHdug3Sh-gVm",
        "outputId": "f1755105-6584-4131-8e56-bfbe9c16c155"
      },
      "source": [
        "colors = ['#03c383','#ef6a32','#a12a5e', '#01545a', '#26294a']\n",
        "ct=(pd.crosstab(index=df1['identidad'],columns=df1['grupo'])).sort_values(by=['Mayoría de varones'])\n",
        "fig = ct.plot.barh(stacked=True, figsize=(10,6), color=colors)\n",
        "plt.legend(title='Composición de los grupos', title_fontsize=14, loc=(.4,.2), fontsize=13, frameon=False)\n",
        "plt.xlabel('Cantidad')\n",
        "plt.ylabel('')\n",
        "plt.show()\n",
        "#plt.savefig(\"20.jpg\",bbox_inches='tight')\n",
        "#files.download(\"20.jpg\") "
      ],
      "execution_count": null,
      "outputs": [
        {
          "output_type": "display_data",
          "data": {
            "image/png": "[encoded data removed]",
            "text/plain": [
              "<Figure size 720x432 with 1 Axes>"
            ]
          },
          "metadata": {
            "tags": [],
            "needs_background": "light"
          }
        },
        {
          "output_type": "display_data",
          "data": {
            "application/javascript": [
              "\n",
              "    async function download(id, filename, size) {\n",
              "      if (!google.colab.kernel.accessAllowed) {\n",
              "        return;\n",
              "      }\n",
              "      const div = document.createElement('div');\n",
              "      const label = document.createElement('label');\n",
              "      label.textContent = `Downloading \"${filename}\": `;\n",
              "      div.appendChild(label);\n",
              "      const progress = document.createElement('progress');\n",
              "      progress.max = size;\n",
              "      div.appendChild(progress);\n",
              "      document.body.appendChild(div);\n",
              "\n",
              "      const buffers = [];\n",
              "      let downloaded = 0;\n",
              "\n",
              "      const channel = await google.colab.kernel.comms.open(id);\n",
              "      // Send a message to notify the kernel that we're ready.\n",
              "      channel.send({})\n",
              "\n",
              "      for await (const message of channel.messages) {\n",
              "        // Send a message to notify the kernel that we're ready.\n",
              "        channel.send({})\n",
              "        if (message.buffers) {\n",
              "          for (const buffer of message.buffers) {\n",
              "            buffers.push(buffer);\n",
              "            downloaded += buffer.byteLength;\n",
              "            progress.value = downloaded;\n",
              "          }\n",
              "        }\n",
              "      }\n",
              "      const blob = new Blob(buffers, {type: 'application/binary'});\n",
              "      const a = document.createElement('a');\n",
              "      a.href = window.URL.createObjectURL(blob);\n",
              "      a.download = filename;\n",
              "      div.appendChild(a);\n",
              "      a.click();\n",
              "      div.remove();\n",
              "    }\n",
              "  "
            ],
            "text/plain": [
              "<IPython.core.display.Javascript object>"
            ]
          },
          "metadata": {
            "tags": []
          }
        },
        {
          "output_type": "display_data",
          "data": {
            "application/javascript": [
              "download(\"download_df956d33-1d1f-4130-b8c6-fa7830d8a79a\", \"20.jpg\", 2755)"
            ],
            "text/plain": [
              "<IPython.core.display.Javascript object>"
            ]
          },
          "metadata": {
            "tags": []
          }
        },
        {
          "output_type": "display_data",
          "data": {
            "text/plain": [
              "<Figure size 432x288 with 0 Axes>"
            ]
          },
          "metadata": {
            "tags": []
          }
        }
      ]
    },
    {
      "cell_type": "code",
      "metadata": {
        "id": "QvD0z8pH0G_9",
        "colab": {
          "base_uri": "https://localhost:8080/",
          "height": 559
        },
        "outputId": "807375ea-f754-41cb-b746-3d0079597c27"
      },
      "source": [
        "heat_map(df1['identidad'], df1['grupo'])"
      ],
      "execution_count": null,
      "outputs": [
        {
          "output_type": "execute_result",
          "data": {
            "text/plain": [
              "(grupo      Mayoría de mujeres  Mayoría de varones  ...  Otros  Sólo varones\n",
              " identidad                                          ...                     \n",
              " Cis                         8                  67  ...     10            22\n",
              " Otro                        0                   4  ...      0             0\n",
              " Trans                       7                   6  ...      4             0\n",
              " \n",
              " [3 rows x 5 columns],\n",
              " <matplotlib.axes._subplots.AxesSubplot at 0x7f98ade33c50>)"
            ]
          },
          "metadata": {
            "tags": []
          },
          "execution_count": 262
        },
        {
          "output_type": "display_data",
          "data": {
            "image/png": "[encoded data removed]",
            "text/plain": [
              "<Figure size 432x288 with 2 Axes>"
            ]
          },
          "metadata": {
            "tags": [],
            "needs_background": "light"
          }
        }
      ]
    },
    {
      "cell_type": "code",
      "metadata": {
        "id": "MUlQ6EPpBa-Z",
        "colab": {
          "base_uri": "https://localhost:8080/",
          "height": 206
        },
        "outputId": "d8b81036-f870-46d9-f77a-647a01aeb3e4"
      },
      "source": [
        "b = df1[['genero', 'grupo']]\n",
        "b.head(3)\n",
        "c = pd.crosstab(index=b['genero'],columns=b['grupo'])\n",
        "c"
      ],
      "execution_count": null,
      "outputs": [
        {
          "output_type": "execute_result",
          "data": {
            "text/html": [
              "<div>\n",
              "<style scoped>\n",
              "    .dataframe tbody tr th:only-of-type {\n",
              "        vertical-align: middle;\n",
              "    }\n",
              "\n",
              "    .dataframe tbody tr th {\n",
              "        vertical-align: top;\n",
              "    }\n",
              "\n",
              "    .dataframe thead th {\n",
              "        text-align: right;\n",
              "    }\n",
              "</style>\n",
              "<table border=\"1\" class=\"dataframe\">\n",
              "  <thead>\n",
              "    <tr style=\"text-align: right;\">\n",
              "      <th>grupo</th>\n",
              "      <th>Mayoría de mujeres</th>\n",
              "      <th>Mayoría de varones</th>\n",
              "      <th>Mitad y mitad</th>\n",
              "      <th>Otros</th>\n",
              "      <th>Sólo varones</th>\n",
              "    </tr>\n",
              "    <tr>\n",
              "      <th>genero</th>\n",
              "      <th></th>\n",
              "      <th></th>\n",
              "      <th></th>\n",
              "      <th></th>\n",
              "      <th></th>\n",
              "    </tr>\n",
              "  </thead>\n",
              "  <tbody>\n",
              "    <tr>\n",
              "      <th>Mujer</th>\n",
              "      <td>7</td>\n",
              "      <td>27</td>\n",
              "      <td>9</td>\n",
              "      <td>4</td>\n",
              "      <td>1</td>\n",
              "    </tr>\n",
              "    <tr>\n",
              "      <th>No binarie</th>\n",
              "      <td>4</td>\n",
              "      <td>5</td>\n",
              "      <td>0</td>\n",
              "      <td>5</td>\n",
              "      <td>1</td>\n",
              "    </tr>\n",
              "    <tr>\n",
              "      <th>Otro</th>\n",
              "      <td>0</td>\n",
              "      <td>4</td>\n",
              "      <td>1</td>\n",
              "      <td>2</td>\n",
              "      <td>0</td>\n",
              "    </tr>\n",
              "    <tr>\n",
              "      <th>Varón</th>\n",
              "      <td>4</td>\n",
              "      <td>44</td>\n",
              "      <td>14</td>\n",
              "      <td>3</td>\n",
              "      <td>22</td>\n",
              "    </tr>\n",
              "  </tbody>\n",
              "</table>\n",
              "</div>"
            ],
            "text/plain": [
              "grupo       Mayoría de mujeres  Mayoría de varones  ...  Otros  Sólo varones\n",
              "genero                                              ...                     \n",
              "Mujer                        7                  27  ...      4             1\n",
              "No binarie                   4                   5  ...      5             1\n",
              "Otro                         0                   4  ...      2             0\n",
              "Varón                        4                  44  ...      3            22\n",
              "\n",
              "[4 rows x 5 columns]"
            ]
          },
          "metadata": {
            "tags": []
          },
          "execution_count": 263
        }
      ]
    },
    {
      "cell_type": "code",
      "metadata": {
        "id": "Sr9qzpBEBCiX",
        "colab": {
          "base_uri": "https://localhost:8080/",
          "height": 206
        },
        "outputId": "2c8eb3fa-2a38-44c7-a167-94d46ceb0c39"
      },
      "source": [
        "a = pd.crosstab(index=df1['genero'],columns=df1['grupo'])\n",
        "a"
      ],
      "execution_count": null,
      "outputs": [
        {
          "output_type": "execute_result",
          "data": {
            "text/html": [
              "<div>\n",
              "<style scoped>\n",
              "    .dataframe tbody tr th:only-of-type {\n",
              "        vertical-align: middle;\n",
              "    }\n",
              "\n",
              "    .dataframe tbody tr th {\n",
              "        vertical-align: top;\n",
              "    }\n",
              "\n",
              "    .dataframe thead th {\n",
              "        text-align: right;\n",
              "    }\n",
              "</style>\n",
              "<table border=\"1\" class=\"dataframe\">\n",
              "  <thead>\n",
              "    <tr style=\"text-align: right;\">\n",
              "      <th>grupo</th>\n",
              "      <th>Mayoría de mujeres</th>\n",
              "      <th>Mayoría de varones</th>\n",
              "      <th>Mitad y mitad</th>\n",
              "      <th>Otros</th>\n",
              "      <th>Sólo varones</th>\n",
              "    </tr>\n",
              "    <tr>\n",
              "      <th>genero</th>\n",
              "      <th></th>\n",
              "      <th></th>\n",
              "      <th></th>\n",
              "      <th></th>\n",
              "      <th></th>\n",
              "    </tr>\n",
              "  </thead>\n",
              "  <tbody>\n",
              "    <tr>\n",
              "      <th>Mujer</th>\n",
              "      <td>7</td>\n",
              "      <td>27</td>\n",
              "      <td>9</td>\n",
              "      <td>4</td>\n",
              "      <td>1</td>\n",
              "    </tr>\n",
              "    <tr>\n",
              "      <th>No binarie</th>\n",
              "      <td>4</td>\n",
              "      <td>5</td>\n",
              "      <td>0</td>\n",
              "      <td>5</td>\n",
              "      <td>1</td>\n",
              "    </tr>\n",
              "    <tr>\n",
              "      <th>Otro</th>\n",
              "      <td>0</td>\n",
              "      <td>4</td>\n",
              "      <td>1</td>\n",
              "      <td>2</td>\n",
              "      <td>0</td>\n",
              "    </tr>\n",
              "    <tr>\n",
              "      <th>Varón</th>\n",
              "      <td>4</td>\n",
              "      <td>44</td>\n",
              "      <td>14</td>\n",
              "      <td>3</td>\n",
              "      <td>22</td>\n",
              "    </tr>\n",
              "  </tbody>\n",
              "</table>\n",
              "</div>"
            ],
            "text/plain": [
              "grupo       Mayoría de mujeres  Mayoría de varones  ...  Otros  Sólo varones\n",
              "genero                                              ...                     \n",
              "Mujer                        7                  27  ...      4             1\n",
              "No binarie                   4                   5  ...      5             1\n",
              "Otro                         0                   4  ...      2             0\n",
              "Varón                        4                  44  ...      3            22\n",
              "\n",
              "[4 rows x 5 columns]"
            ]
          },
          "metadata": {
            "tags": []
          },
          "execution_count": 264
        }
      ]
    },
    {
      "cell_type": "code",
      "metadata": {
        "colab": {
          "base_uri": "https://localhost:8080/",
          "height": 632
        },
        "id": "9-9V6c9aD1qc",
        "outputId": "110eecf1-82d1-4e80-f64e-0519fa236256"
      },
      "source": [
        "fig = sns.catplot(y=\"identidad\", hue=\"grupo\", kind=\"count\",\n",
        "            palette=\"Spectral\", edgecolor=\".6\",\n",
        "            data=df1, height=8, legend=False, order=['Cis', 'Trans','Otro'])\n",
        "plt.title('Composición de los grupos por identidad', fontsize=16)\n",
        "plt.legend(title='', loc=(.4,.2), fontsize=14)\n",
        "plt.xlabel('Cantidad')\n",
        "plt.ylabel('')\n",
        "plt.show()\n",
        "#plt.savefig(\"21.jpg\",bbox_inches='tight')\n",
        "#files.download(\"21.jpg\") "
      ],
      "execution_count": null,
      "outputs": [
        {
          "output_type": "display_data",
          "data": {
            "image/png": "[encoded data removed]",
            "text/plain": [
              "<Figure size 576x576 with 1 Axes>"
            ]
          },
          "metadata": {
            "tags": [],
            "needs_background": "light"
          }
        },
        {
          "output_type": "display_data",
          "data": {
            "application/javascript": [
              "\n",
              "    async function download(id, filename, size) {\n",
              "      if (!google.colab.kernel.accessAllowed) {\n",
              "        return;\n",
              "      }\n",
              "      const div = document.createElement('div');\n",
              "      const label = document.createElement('label');\n",
              "      label.textContent = `Downloading \"${filename}\": `;\n",
              "      div.appendChild(label);\n",
              "      const progress = document.createElement('progress');\n",
              "      progress.max = size;\n",
              "      div.appendChild(progress);\n",
              "      document.body.appendChild(div);\n",
              "\n",
              "      const buffers = [];\n",
              "      let downloaded = 0;\n",
              "\n",
              "      const channel = await google.colab.kernel.comms.open(id);\n",
              "      // Send a message to notify the kernel that we're ready.\n",
              "      channel.send({})\n",
              "\n",
              "      for await (const message of channel.messages) {\n",
              "        // Send a message to notify the kernel that we're ready.\n",
              "        channel.send({})\n",
              "        if (message.buffers) {\n",
              "          for (const buffer of message.buffers) {\n",
              "            buffers.push(buffer);\n",
              "            downloaded += buffer.byteLength;\n",
              "            progress.value = downloaded;\n",
              "          }\n",
              "        }\n",
              "      }\n",
              "      const blob = new Blob(buffers, {type: 'application/binary'});\n",
              "      const a = document.createElement('a');\n",
              "      a.href = window.URL.createObjectURL(blob);\n",
              "      a.download = filename;\n",
              "      div.appendChild(a);\n",
              "      a.click();\n",
              "      div.remove();\n",
              "    }\n",
              "  "
            ],
            "text/plain": [
              "<IPython.core.display.Javascript object>"
            ]
          },
          "metadata": {
            "tags": []
          }
        },
        {
          "output_type": "display_data",
          "data": {
            "application/javascript": [
              "download(\"download_4de6c801-7ef8-4306-a0c8-6a3a50321da5\", \"21.jpg\", 2755)"
            ],
            "text/plain": [
              "<IPython.core.display.Javascript object>"
            ]
          },
          "metadata": {
            "tags": []
          }
        },
        {
          "output_type": "display_data",
          "data": {
            "text/plain": [
              "<Figure size 432x288 with 0 Axes>"
            ]
          },
          "metadata": {
            "tags": []
          }
        }
      ]
    },
    {
      "cell_type": "code",
      "metadata": {
        "id": "8dLOZY4FMeca",
        "colab": {
          "base_uri": "https://localhost:8080/",
          "height": 632
        },
        "outputId": "30d068e5-3bb5-4413-8dfc-ad518f09cc28"
      },
      "source": [
        "fig = sns.catplot(y=\"genero\", hue=\"grupo\", kind=\"count\",\n",
        "            palette=\"Spectral\", edgecolor=\".6\",\n",
        "            data=df1, height=8, legend=False, order=['Varón', 'Mujer','No binarie','Otro'])\n",
        "plt.title('Composición de los grupos por género', fontsize=16)\n",
        "plt.legend(title='', loc=(.4,.2), fontsize=14)\n",
        "plt.xlabel('Cantidad')\n",
        "plt.ylabel('')\n",
        "plt.show()\n",
        "#plt.savefig(\"22.jpg\",bbox_inches='tight')\n",
        "#files.download(\"22.jpg\") "
      ],
      "execution_count": null,
      "outputs": [
        {
          "output_type": "display_data",
          "data": {
            "image/png": "[encoded data removed]",
            "text/plain": [
              "<Figure size 576x576 with 1 Axes>"
            ]
          },
          "metadata": {
            "tags": [],
            "needs_background": "light"
          }
        },
        {
          "output_type": "display_data",
          "data": {
            "application/javascript": [
              "\n",
              "    async function download(id, filename, size) {\n",
              "      if (!google.colab.kernel.accessAllowed) {\n",
              "        return;\n",
              "      }\n",
              "      const div = document.createElement('div');\n",
              "      const label = document.createElement('label');\n",
              "      label.textContent = `Downloading \"${filename}\": `;\n",
              "      div.appendChild(label);\n",
              "      const progress = document.createElement('progress');\n",
              "      progress.max = size;\n",
              "      div.appendChild(progress);\n",
              "      document.body.appendChild(div);\n",
              "\n",
              "      const buffers = [];\n",
              "      let downloaded = 0;\n",
              "\n",
              "      const channel = await google.colab.kernel.comms.open(id);\n",
              "      // Send a message to notify the kernel that we're ready.\n",
              "      channel.send({})\n",
              "\n",
              "      for await (const message of channel.messages) {\n",
              "        // Send a message to notify the kernel that we're ready.\n",
              "        channel.send({})\n",
              "        if (message.buffers) {\n",
              "          for (const buffer of message.buffers) {\n",
              "            buffers.push(buffer);\n",
              "            downloaded += buffer.byteLength;\n",
              "            progress.value = downloaded;\n",
              "          }\n",
              "        }\n",
              "      }\n",
              "      const blob = new Blob(buffers, {type: 'application/binary'});\n",
              "      const a = document.createElement('a');\n",
              "      a.href = window.URL.createObjectURL(blob);\n",
              "      a.download = filename;\n",
              "      div.appendChild(a);\n",
              "      a.click();\n",
              "      div.remove();\n",
              "    }\n",
              "  "
            ],
            "text/plain": [
              "<IPython.core.display.Javascript object>"
            ]
          },
          "metadata": {
            "tags": []
          }
        },
        {
          "output_type": "display_data",
          "data": {
            "application/javascript": [
              "download(\"download_254ba4db-6e71-4190-831e-51f1a4eb8a6c\", \"22.jpg\", 2755)"
            ],
            "text/plain": [
              "<IPython.core.display.Javascript object>"
            ]
          },
          "metadata": {
            "tags": []
          }
        },
        {
          "output_type": "display_data",
          "data": {
            "text/plain": [
              "<Figure size 432x288 with 0 Axes>"
            ]
          },
          "metadata": {
            "tags": []
          }
        }
      ]
    },
    {
      "cell_type": "markdown",
      "metadata": {
        "id": "9FZHM_ht5_Kc"
      },
      "source": [
        "##Paises"
      ]
    },
    {
      "cell_type": "code",
      "metadata": {
        "id": "CTVEMx395vyT"
      },
      "source": [
        "# Make an empty map\n",
        "m = folium.Map(location=[20,0], tiles=\"OpenStreetMap\", zoom_start=2)\n"
      ],
      "execution_count": null,
      "outputs": []
    },
    {
      "cell_type": "code",
      "metadata": {
        "id": "-SlHxPUd5-vv"
      },
      "source": [
        "paises_cuenta = (df1['residencia'].value_counts()[:].to_list())"
      ],
      "execution_count": null,
      "outputs": []
    },
    {
      "cell_type": "code",
      "metadata": {
        "id": "xQzbPrSG_5JF",
        "colab": {
          "base_uri": "https://localhost:8080/"
        },
        "outputId": "135c5d06-f380-4743-de4e-352ca0d3151b"
      },
      "source": [
        "paises = (df1['residencia'].value_counts().index.to_list())\n",
        "paises"
      ],
      "execution_count": null,
      "outputs": [
        {
          "output_type": "execute_result",
          "data": {
            "text/plain": [
              "['Argentina',\n",
              " 'España',\n",
              " 'México',\n",
              " 'Chile',\n",
              " 'Perú',\n",
              " 'Francia',\n",
              " 'Reino Unido',\n",
              " 'Panamá',\n",
              " 'Estados Unidos']"
            ]
          },
          "metadata": {
            "tags": []
          },
          "execution_count": 269
        }
      ]
    },
    {
      "cell_type": "code",
      "metadata": {
        "id": "pX2M0jqz6YsV",
        "colab": {
          "base_uri": "https://localhost:8080/",
          "height": 332
        },
        "outputId": "874b0841-da2c-4dc5-a246-73fafa2c4293"
      },
      "source": [
        "mapa = pd.DataFrame({'lat':[-34.9,39.6,-10.3,23.8, -26.5, 8.6, 55.1, 39.7, 46.7],\n",
        "                     'lon': [-65.5, -3.3,-75.4,-102.7, -71.1, -80.0, -2.9, -100.6, 1.8],\n",
        "                     'paises': paises, \n",
        "                     'cant': [116,50,40,40,40,20,20,20,20]})\n",
        "\n",
        "mapa"
      ],
      "execution_count": null,
      "outputs": [
        {
          "output_type": "execute_result",
          "data": {
            "text/html": [
              "<div>\n",
              "<style scoped>\n",
              "    .dataframe tbody tr th:only-of-type {\n",
              "        vertical-align: middle;\n",
              "    }\n",
              "\n",
              "    .dataframe tbody tr th {\n",
              "        vertical-align: top;\n",
              "    }\n",
              "\n",
              "    .dataframe thead th {\n",
              "        text-align: right;\n",
              "    }\n",
              "</style>\n",
              "<table border=\"1\" class=\"dataframe\">\n",
              "  <thead>\n",
              "    <tr style=\"text-align: right;\">\n",
              "      <th></th>\n",
              "      <th>lat</th>\n",
              "      <th>lon</th>\n",
              "      <th>paises</th>\n",
              "      <th>cant</th>\n",
              "    </tr>\n",
              "  </thead>\n",
              "  <tbody>\n",
              "    <tr>\n",
              "      <th>0</th>\n",
              "      <td>-34.9</td>\n",
              "      <td>-65.5</td>\n",
              "      <td>Argentina</td>\n",
              "      <td>116</td>\n",
              "    </tr>\n",
              "    <tr>\n",
              "      <th>1</th>\n",
              "      <td>39.6</td>\n",
              "      <td>-3.3</td>\n",
              "      <td>España</td>\n",
              "      <td>50</td>\n",
              "    </tr>\n",
              "    <tr>\n",
              "      <th>2</th>\n",
              "      <td>-10.3</td>\n",
              "      <td>-75.4</td>\n",
              "      <td>México</td>\n",
              "      <td>40</td>\n",
              "    </tr>\n",
              "    <tr>\n",
              "      <th>3</th>\n",
              "      <td>23.8</td>\n",
              "      <td>-102.7</td>\n",
              "      <td>Chile</td>\n",
              "      <td>40</td>\n",
              "    </tr>\n",
              "    <tr>\n",
              "      <th>4</th>\n",
              "      <td>-26.5</td>\n",
              "      <td>-71.1</td>\n",
              "      <td>Perú</td>\n",
              "      <td>40</td>\n",
              "    </tr>\n",
              "    <tr>\n",
              "      <th>5</th>\n",
              "      <td>8.6</td>\n",
              "      <td>-80.0</td>\n",
              "      <td>Francia</td>\n",
              "      <td>20</td>\n",
              "    </tr>\n",
              "    <tr>\n",
              "      <th>6</th>\n",
              "      <td>55.1</td>\n",
              "      <td>-2.9</td>\n",
              "      <td>Reino Unido</td>\n",
              "      <td>20</td>\n",
              "    </tr>\n",
              "    <tr>\n",
              "      <th>7</th>\n",
              "      <td>39.7</td>\n",
              "      <td>-100.6</td>\n",
              "      <td>Panamá</td>\n",
              "      <td>20</td>\n",
              "    </tr>\n",
              "    <tr>\n",
              "      <th>8</th>\n",
              "      <td>46.7</td>\n",
              "      <td>1.8</td>\n",
              "      <td>Estados Unidos</td>\n",
              "      <td>20</td>\n",
              "    </tr>\n",
              "  </tbody>\n",
              "</table>\n",
              "</div>"
            ],
            "text/plain": [
              "    lat    lon          paises  cant\n",
              "0 -34.9  -65.5       Argentina   116\n",
              "1  39.6   -3.3          España    50\n",
              "2 -10.3  -75.4          México    40\n",
              "3  23.8 -102.7           Chile    40\n",
              "4 -26.5  -71.1            Perú    40\n",
              "5   8.6  -80.0         Francia    20\n",
              "6  55.1   -2.9     Reino Unido    20\n",
              "7  39.7 -100.6          Panamá    20\n",
              "8  46.7    1.8  Estados Unidos    20"
            ]
          },
          "metadata": {
            "tags": []
          },
          "execution_count": 270
        }
      ]
    },
    {
      "cell_type": "code",
      "metadata": {
        "id": "VOtVCdVrAPDw",
        "colab": {
          "base_uri": "https://localhost:8080/",
          "height": 806
        },
        "outputId": "df73a8a7-30e9-4b07-f7a0-540a3938067c"
      },
      "source": [
        "# add marker one by one on the map\n",
        "for i in range(0,len(mapa)):\n",
        "   folium.Circle(\n",
        "      location=[mapa.iloc[i]['lat'], mapa.iloc[i]['lon']],\n",
        "      popup=mapa.iloc[i]['paises'],\n",
        "      radius=float(mapa.iloc[i]['cant']*10000),\n",
        "      color='#900C3F ',\n",
        "      fill=True,\n",
        "      fill_color='#900C3F '\n",
        "   ).add_to(m)\n",
        "\n",
        "# Show the map again\n",
        "m"
      ],
      "execution_count": null,
      "outputs": [
        {
          "output_type": "execute_result",
          "data": {
            "text/html": [
              "<div style=\"width:100%;\"><div style=\"position:relative;width:100%;height:0;padding-bottom:60%;\"><span style=\"color:#565656\">Make this Notebook Trusted to load map: File -> Trust Notebook</span><iframe src=\"about:blank\" style=\"position:absolute;width:100%;height:100%;left:0;top:0;border:none !important;\" data-html=%3C%21DOCTYPE%20html%3E%0A%3Chead%3E%20%20%20%20%0A%20%20%20%20%3Cmeta%20http-equiv%3D%22content-type%22%20content%3D%22text/html%3B%20charset%3DUTF-8%22%20/%3E%0A%20%20%20%20%3Cscript%3EL_PREFER_CANVAS%3Dfalse%3B%20L_NO_TOUCH%3Dfalse%3B%20L_DISABLE_3D%3Dfalse%3B%3C/script%3E%0A%20%20%20%20%3Cscript%20src%3D%22https%3A//cdn.jsdelivr.net/npm/leaflet%401.4.0/dist/leaflet.js%22%3E%3C/script%3E%0A%20%20%20%20%3Cscript%20src%3D%22https%3A//code.jquery.com/jquery-1.12.4.min.js%22%3E%3C/script%3E%0A%20%20%20%20%3Cscript%20src%3D%22https%3A//maxcdn.bootstrapcdn.com/bootstrap/3.2.0/js/bootstrap.min.js%22%3E%3C/script%3E%0A%20%20%20%20%3Cscript%20src%3D%22https%3A//cdnjs.cloudflare.com/ajax/libs/Leaflet.awesome-markers/2.0.2/leaflet.awesome-markers.js%22%3E%3C/script%3E%0A%20%20%20%20%3Clink%20rel%3D%22stylesheet%22%20href%3D%22https%3A//cdn.jsdelivr.net/npm/leaflet%401.4.0/dist/leaflet.css%22/%3E%0A%20%20%20%20%3Clink%20rel%3D%22stylesheet%22%20href%3D%22https%3A//maxcdn.bootstrapcdn.com/bootstrap/3.2.0/css/bootstrap.min.css%22/%3E%0A%20%20%20%20%3Clink%20rel%3D%22stylesheet%22%20href%3D%22https%3A//maxcdn.bootstrapcdn.com/bootstrap/3.2.0/css/bootstrap-theme.min.css%22/%3E%0A%20%20%20%20%3Clink%20rel%3D%22stylesheet%22%20href%3D%22https%3A//maxcdn.bootstrapcdn.com/font-awesome/4.6.3/css/font-awesome.min.css%22/%3E%0A%20%20%20%20%3Clink%20rel%3D%22stylesheet%22%20href%3D%22https%3A//cdnjs.cloudflare.com/ajax/libs/Leaflet.awesome-markers/2.0.2/leaflet.awesome-markers.css%22/%3E%0A%20%20%20%20%3Clink%20rel%3D%22stylesheet%22%20href%3D%22https%3A//rawcdn.githack.com/python-visualization/folium/master/folium/templates/leaflet.awesome.rotate.css%22/%3E%0A%20%20%20%20%3Cstyle%3Ehtml%2C%20body%20%7Bwidth%3A%20100%25%3Bheight%3A%20100%25%3Bmargin%3A%200%3Bpadding%3A%200%3B%7D%3C/style%3E%0A%20%20%20%20%3Cstyle%3E%23map%20%7Bposition%3Aabsolute%3Btop%3A0%3Bbottom%3A0%3Bright%3A0%3Bleft%3A0%3B%7D%3C/style%3E%0A%20%20%20%20%0A%20%20%20%20%3Cmeta%20name%3D%22viewport%22%20content%3D%22width%3Ddevice-width%2C%0A%20%20%20%20%20%20%20%20initial-scale%3D1.0%2C%20maximum-scale%3D1.0%2C%20user-scalable%3Dno%22%20/%3E%0A%20%20%20%20%3Cstyle%3E%23map_b37d4cccfec94a6fa96fa43345a5d221%20%7B%0A%20%20%20%20%20%20%20%20position%3A%20relative%3B%0A%20%20%20%20%20%20%20%20width%3A%20100.0%25%3B%0A%20%20%20%20%20%20%20%20height%3A%20100.0%25%3B%0A%20%20%20%20%20%20%20%20left%3A%200.0%25%3B%0A%20%20%20%20%20%20%20%20top%3A%200.0%25%3B%0A%20%20%20%20%20%20%20%20%7D%0A%20%20%20%20%3C/style%3E%0A%3C/head%3E%0A%3Cbody%3E%20%20%20%20%0A%20%20%20%20%0A%20%20%20%20%3Cdiv%20class%3D%22folium-map%22%20id%3D%22map_b37d4cccfec94a6fa96fa43345a5d221%22%20%3E%3C/div%3E%0A%3C/body%3E%0A%3Cscript%3E%20%20%20%20%0A%20%20%20%20%0A%20%20%20%20%0A%20%20%20%20%20%20%20%20var%20bounds%20%3D%20null%3B%0A%20%20%20%20%0A%0A%20%20%20%20var%20map_b37d4cccfec94a6fa96fa43345a5d221%20%3D%20L.map%28%0A%20%20%20%20%20%20%20%20%27map_b37d4cccfec94a6fa96fa43345a5d221%27%2C%20%7B%0A%20%20%20%20%20%20%20%20center%3A%20%5B20%2C%200%5D%2C%0A%20%20%20%20%20%20%20%20zoom%3A%202%2C%0A%20%20%20%20%20%20%20%20maxBounds%3A%20bounds%2C%0A%20%20%20%20%20%20%20%20layers%3A%20%5B%5D%2C%0A%20%20%20%20%20%20%20%20worldCopyJump%3A%20false%2C%0A%20%20%20%20%20%20%20%20crs%3A%20L.CRS.EPSG3857%2C%0A%20%20%20%20%20%20%20%20zoomControl%3A%20true%2C%0A%20%20%20%20%20%20%20%20%7D%29%3B%0A%0A%0A%20%20%20%20%0A%20%20%20%20var%20tile_layer_d507a221a03a463c83899cc9077798c0%20%3D%20L.tileLayer%28%0A%20%20%20%20%20%20%20%20%27https%3A//%7Bs%7D.tile.openstreetmap.org/%7Bz%7D/%7Bx%7D/%7By%7D.png%27%2C%0A%20%20%20%20%20%20%20%20%7B%0A%20%20%20%20%20%20%20%20%22attribution%22%3A%20null%2C%0A%20%20%20%20%20%20%20%20%22detectRetina%22%3A%20false%2C%0A%20%20%20%20%20%20%20%20%22maxNativeZoom%22%3A%2018%2C%0A%20%20%20%20%20%20%20%20%22maxZoom%22%3A%2018%2C%0A%20%20%20%20%20%20%20%20%22minZoom%22%3A%200%2C%0A%20%20%20%20%20%20%20%20%22noWrap%22%3A%20false%2C%0A%20%20%20%20%20%20%20%20%22opacity%22%3A%201%2C%0A%20%20%20%20%20%20%20%20%22subdomains%22%3A%20%22abc%22%2C%0A%20%20%20%20%20%20%20%20%22tms%22%3A%20false%0A%7D%29.addTo%28map_b37d4cccfec94a6fa96fa43345a5d221%29%3B%0A%20%20%20%20%0A%0A%20%20%20%20%20%20%20%20%20%20%20%20var%20circle_851d3a4376684b9eb90b89cb365a1580%20%3D%20L.circle%28%0A%20%20%20%20%20%20%20%20%20%20%20%20%20%20%20%20%5B-34.9%2C%20-65.5%5D%2C%0A%20%20%20%20%20%20%20%20%20%20%20%20%20%20%20%20%7B%0A%20%20%22bubblingMouseEvents%22%3A%20true%2C%0A%20%20%22color%22%3A%20%22%23900C3F%20%22%2C%0A%20%20%22dashArray%22%3A%20null%2C%0A%20%20%22dashOffset%22%3A%20null%2C%0A%20%20%22fill%22%3A%20true%2C%0A%20%20%22fillColor%22%3A%20%22%23900C3F%20%22%2C%0A%20%20%22fillOpacity%22%3A%200.2%2C%0A%20%20%22fillRule%22%3A%20%22evenodd%22%2C%0A%20%20%22lineCap%22%3A%20%22round%22%2C%0A%20%20%22lineJoin%22%3A%20%22round%22%2C%0A%20%20%22opacity%22%3A%201.0%2C%0A%20%20%22radius%22%3A%201160000.0%2C%0A%20%20%22stroke%22%3A%20true%2C%0A%20%20%22weight%22%3A%203%0A%7D%0A%20%20%20%20%20%20%20%20%20%20%20%20%20%20%20%20%29%0A%20%20%20%20%20%20%20%20%20%20%20%20%20%20%20%20.addTo%28map_b37d4cccfec94a6fa96fa43345a5d221%29%3B%0A%20%20%20%20%20%20%20%20%20%20%20%20%0A%20%20%20%20%0A%20%20%20%20%20%20%20%20%20%20%20%20var%20popup_13b84a3d55e8459398f2f90c77ddbb13%20%3D%20L.popup%28%7BmaxWidth%3A%20%27100%25%27%0A%20%20%20%20%20%20%20%20%20%20%20%20%0A%20%20%20%20%20%20%20%20%20%20%20%20%7D%29%3B%0A%0A%20%20%20%20%20%20%20%20%20%20%20%20%0A%20%20%20%20%20%20%20%20%20%20%20%20%20%20%20%20var%20html_5b66d86f7b6a4b548e18846bc04e5de0%20%3D%20%24%28%60%3Cdiv%20id%3D%22html_5b66d86f7b6a4b548e18846bc04e5de0%22%20style%3D%22width%3A%20100.0%25%3B%20height%3A%20100.0%25%3B%22%3EArgentina%3C/div%3E%60%29%5B0%5D%3B%0A%20%20%20%20%20%20%20%20%20%20%20%20%20%20%20%20popup_13b84a3d55e8459398f2f90c77ddbb13.setContent%28html_5b66d86f7b6a4b548e18846bc04e5de0%29%3B%0A%20%20%20%20%20%20%20%20%20%20%20%20%0A%0A%20%20%20%20%20%20%20%20%20%20%20%20circle_851d3a4376684b9eb90b89cb365a1580.bindPopup%28popup_13b84a3d55e8459398f2f90c77ddbb13%29%0A%20%20%20%20%20%20%20%20%20%20%20%20%3B%0A%0A%20%20%20%20%20%20%20%20%20%20%20%20%0A%20%20%20%20%20%20%20%20%0A%20%20%20%20%0A%0A%20%20%20%20%20%20%20%20%20%20%20%20var%20circle_af5d024bcff348828010a47b4678ce91%20%3D%20L.circle%28%0A%20%20%20%20%20%20%20%20%20%20%20%20%20%20%20%20%5B39.6%2C%20-3.3%5D%2C%0A%20%20%20%20%20%20%20%20%20%20%20%20%20%20%20%20%7B%0A%20%20%22bubblingMouseEvents%22%3A%20true%2C%0A%20%20%22color%22%3A%20%22%23900C3F%20%22%2C%0A%20%20%22dashArray%22%3A%20null%2C%0A%20%20%22dashOffset%22%3A%20null%2C%0A%20%20%22fill%22%3A%20true%2C%0A%20%20%22fillColor%22%3A%20%22%23900C3F%20%22%2C%0A%20%20%22fillOpacity%22%3A%200.2%2C%0A%20%20%22fillRule%22%3A%20%22evenodd%22%2C%0A%20%20%22lineCap%22%3A%20%22round%22%2C%0A%20%20%22lineJoin%22%3A%20%22round%22%2C%0A%20%20%22opacity%22%3A%201.0%2C%0A%20%20%22radius%22%3A%20500000.0%2C%0A%20%20%22stroke%22%3A%20true%2C%0A%20%20%22weight%22%3A%203%0A%7D%0A%20%20%20%20%20%20%20%20%20%20%20%20%20%20%20%20%29%0A%20%20%20%20%20%20%20%20%20%20%20%20%20%20%20%20.addTo%28map_b37d4cccfec94a6fa96fa43345a5d221%29%3B%0A%20%20%20%20%20%20%20%20%20%20%20%20%0A%20%20%20%20%0A%20%20%20%20%20%20%20%20%20%20%20%20var%20popup_04faea81c92646e3a8c69f02a52c4a6d%20%3D%20L.popup%28%7BmaxWidth%3A%20%27100%25%27%0A%20%20%20%20%20%20%20%20%20%20%20%20%0A%20%20%20%20%20%20%20%20%20%20%20%20%7D%29%3B%0A%0A%20%20%20%20%20%20%20%20%20%20%20%20%0A%20%20%20%20%20%20%20%20%20%20%20%20%20%20%20%20var%20html_785cc057dddd49eabf200ebf9f6f8495%20%3D%20%24%28%60%3Cdiv%20id%3D%22html_785cc057dddd49eabf200ebf9f6f8495%22%20style%3D%22width%3A%20100.0%25%3B%20height%3A%20100.0%25%3B%22%3EEspa%C3%B1a%3C/div%3E%60%29%5B0%5D%3B%0A%20%20%20%20%20%20%20%20%20%20%20%20%20%20%20%20popup_04faea81c92646e3a8c69f02a52c4a6d.setContent%28html_785cc057dddd49eabf200ebf9f6f8495%29%3B%0A%20%20%20%20%20%20%20%20%20%20%20%20%0A%0A%20%20%20%20%20%20%20%20%20%20%20%20circle_af5d024bcff348828010a47b4678ce91.bindPopup%28popup_04faea81c92646e3a8c69f02a52c4a6d%29%0A%20%20%20%20%20%20%20%20%20%20%20%20%3B%0A%0A%20%20%20%20%20%20%20%20%20%20%20%20%0A%20%20%20%20%20%20%20%20%0A%20%20%20%20%0A%0A%20%20%20%20%20%20%20%20%20%20%20%20var%20circle_fcaf8ae133324d499fe7cfc3497e9b89%20%3D%20L.circle%28%0A%20%20%20%20%20%20%20%20%20%20%20%20%20%20%20%20%5B-10.3%2C%20-75.4%5D%2C%0A%20%20%20%20%20%20%20%20%20%20%20%20%20%20%20%20%7B%0A%20%20%22bubblingMouseEvents%22%3A%20true%2C%0A%20%20%22color%22%3A%20%22%23900C3F%20%22%2C%0A%20%20%22dashArray%22%3A%20null%2C%0A%20%20%22dashOffset%22%3A%20null%2C%0A%20%20%22fill%22%3A%20true%2C%0A%20%20%22fillColor%22%3A%20%22%23900C3F%20%22%2C%0A%20%20%22fillOpacity%22%3A%200.2%2C%0A%20%20%22fillRule%22%3A%20%22evenodd%22%2C%0A%20%20%22lineCap%22%3A%20%22round%22%2C%0A%20%20%22lineJoin%22%3A%20%22round%22%2C%0A%20%20%22opacity%22%3A%201.0%2C%0A%20%20%22radius%22%3A%20400000.0%2C%0A%20%20%22stroke%22%3A%20true%2C%0A%20%20%22weight%22%3A%203%0A%7D%0A%20%20%20%20%20%20%20%20%20%20%20%20%20%20%20%20%29%0A%20%20%20%20%20%20%20%20%20%20%20%20%20%20%20%20.addTo%28map_b37d4cccfec94a6fa96fa43345a5d221%29%3B%0A%20%20%20%20%20%20%20%20%20%20%20%20%0A%20%20%20%20%0A%20%20%20%20%20%20%20%20%20%20%20%20var%20popup_28c4b2f8c62d410187641f5f4d7e1f18%20%3D%20L.popup%28%7BmaxWidth%3A%20%27100%25%27%0A%20%20%20%20%20%20%20%20%20%20%20%20%0A%20%20%20%20%20%20%20%20%20%20%20%20%7D%29%3B%0A%0A%20%20%20%20%20%20%20%20%20%20%20%20%0A%20%20%20%20%20%20%20%20%20%20%20%20%20%20%20%20var%20html_8ae32ec5d01d4b97bcd493afbadcde75%20%3D%20%24%28%60%3Cdiv%20id%3D%22html_8ae32ec5d01d4b97bcd493afbadcde75%22%20style%3D%22width%3A%20100.0%25%3B%20height%3A%20100.0%25%3B%22%3EM%C3%A9xico%3C/div%3E%60%29%5B0%5D%3B%0A%20%20%20%20%20%20%20%20%20%20%20%20%20%20%20%20popup_28c4b2f8c62d410187641f5f4d7e1f18.setContent%28html_8ae32ec5d01d4b97bcd493afbadcde75%29%3B%0A%20%20%20%20%20%20%20%20%20%20%20%20%0A%0A%20%20%20%20%20%20%20%20%20%20%20%20circle_fcaf8ae133324d499fe7cfc3497e9b89.bindPopup%28popup_28c4b2f8c62d410187641f5f4d7e1f18%29%0A%20%20%20%20%20%20%20%20%20%20%20%20%3B%0A%0A%20%20%20%20%20%20%20%20%20%20%20%20%0A%20%20%20%20%20%20%20%20%0A%20%20%20%20%0A%0A%20%20%20%20%20%20%20%20%20%20%20%20var%20circle_3a4c7a05dabe40e689c2bd471e5bb092%20%3D%20L.circle%28%0A%20%20%20%20%20%20%20%20%20%20%20%20%20%20%20%20%5B23.8%2C%20-102.7%5D%2C%0A%20%20%20%20%20%20%20%20%20%20%20%20%20%20%20%20%7B%0A%20%20%22bubblingMouseEvents%22%3A%20true%2C%0A%20%20%22color%22%3A%20%22%23900C3F%20%22%2C%0A%20%20%22dashArray%22%3A%20null%2C%0A%20%20%22dashOffset%22%3A%20null%2C%0A%20%20%22fill%22%3A%20true%2C%0A%20%20%22fillColor%22%3A%20%22%23900C3F%20%22%2C%0A%20%20%22fillOpacity%22%3A%200.2%2C%0A%20%20%22fillRule%22%3A%20%22evenodd%22%2C%0A%20%20%22lineCap%22%3A%20%22round%22%2C%0A%20%20%22lineJoin%22%3A%20%22round%22%2C%0A%20%20%22opacity%22%3A%201.0%2C%0A%20%20%22radius%22%3A%20400000.0%2C%0A%20%20%22stroke%22%3A%20true%2C%0A%20%20%22weight%22%3A%203%0A%7D%0A%20%20%20%20%20%20%20%20%20%20%20%20%20%20%20%20%29%0A%20%20%20%20%20%20%20%20%20%20%20%20%20%20%20%20.addTo%28map_b37d4cccfec94a6fa96fa43345a5d221%29%3B%0A%20%20%20%20%20%20%20%20%20%20%20%20%0A%20%20%20%20%0A%20%20%20%20%20%20%20%20%20%20%20%20var%20popup_4caa76ab889444c0ab9328bed87d137c%20%3D%20L.popup%28%7BmaxWidth%3A%20%27100%25%27%0A%20%20%20%20%20%20%20%20%20%20%20%20%0A%20%20%20%20%20%20%20%20%20%20%20%20%7D%29%3B%0A%0A%20%20%20%20%20%20%20%20%20%20%20%20%0A%20%20%20%20%20%20%20%20%20%20%20%20%20%20%20%20var%20html_bc4e432d999948968682ddb372ba2c89%20%3D%20%24%28%60%3Cdiv%20id%3D%22html_bc4e432d999948968682ddb372ba2c89%22%20style%3D%22width%3A%20100.0%25%3B%20height%3A%20100.0%25%3B%22%3EChile%3C/div%3E%60%29%5B0%5D%3B%0A%20%20%20%20%20%20%20%20%20%20%20%20%20%20%20%20popup_4caa76ab889444c0ab9328bed87d137c.setContent%28html_bc4e432d999948968682ddb372ba2c89%29%3B%0A%20%20%20%20%20%20%20%20%20%20%20%20%0A%0A%20%20%20%20%20%20%20%20%20%20%20%20circle_3a4c7a05dabe40e689c2bd471e5bb092.bindPopup%28popup_4caa76ab889444c0ab9328bed87d137c%29%0A%20%20%20%20%20%20%20%20%20%20%20%20%3B%0A%0A%20%20%20%20%20%20%20%20%20%20%20%20%0A%20%20%20%20%20%20%20%20%0A%20%20%20%20%0A%0A%20%20%20%20%20%20%20%20%20%20%20%20var%20circle_5ccfe00f939a46e8bc2b838890c78b8e%20%3D%20L.circle%28%0A%20%20%20%20%20%20%20%20%20%20%20%20%20%20%20%20%5B-26.5%2C%20-71.1%5D%2C%0A%20%20%20%20%20%20%20%20%20%20%20%20%20%20%20%20%7B%0A%20%20%22bubblingMouseEvents%22%3A%20true%2C%0A%20%20%22color%22%3A%20%22%23900C3F%20%22%2C%0A%20%20%22dashArray%22%3A%20null%2C%0A%20%20%22dashOffset%22%3A%20null%2C%0A%20%20%22fill%22%3A%20true%2C%0A%20%20%22fillColor%22%3A%20%22%23900C3F%20%22%2C%0A%20%20%22fillOpacity%22%3A%200.2%2C%0A%20%20%22fillRule%22%3A%20%22evenodd%22%2C%0A%20%20%22lineCap%22%3A%20%22round%22%2C%0A%20%20%22lineJoin%22%3A%20%22round%22%2C%0A%20%20%22opacity%22%3A%201.0%2C%0A%20%20%22radius%22%3A%20400000.0%2C%0A%20%20%22stroke%22%3A%20true%2C%0A%20%20%22weight%22%3A%203%0A%7D%0A%20%20%20%20%20%20%20%20%20%20%20%20%20%20%20%20%29%0A%20%20%20%20%20%20%20%20%20%20%20%20%20%20%20%20.addTo%28map_b37d4cccfec94a6fa96fa43345a5d221%29%3B%0A%20%20%20%20%20%20%20%20%20%20%20%20%0A%20%20%20%20%0A%20%20%20%20%20%20%20%20%20%20%20%20var%20popup_eb918cecfa7b4b6dbe29259e3128071c%20%3D%20L.popup%28%7BmaxWidth%3A%20%27100%25%27%0A%20%20%20%20%20%20%20%20%20%20%20%20%0A%20%20%20%20%20%20%20%20%20%20%20%20%7D%29%3B%0A%0A%20%20%20%20%20%20%20%20%20%20%20%20%0A%20%20%20%20%20%20%20%20%20%20%20%20%20%20%20%20var%20html_98319724fd084dfab5afe66ddea1f4ec%20%3D%20%24%28%60%3Cdiv%20id%3D%22html_98319724fd084dfab5afe66ddea1f4ec%22%20style%3D%22width%3A%20100.0%25%3B%20height%3A%20100.0%25%3B%22%3EPer%C3%BA%3C/div%3E%60%29%5B0%5D%3B%0A%20%20%20%20%20%20%20%20%20%20%20%20%20%20%20%20popup_eb918cecfa7b4b6dbe29259e3128071c.setContent%28html_98319724fd084dfab5afe66ddea1f4ec%29%3B%0A%20%20%20%20%20%20%20%20%20%20%20%20%0A%0A%20%20%20%20%20%20%20%20%20%20%20%20circle_5ccfe00f939a46e8bc2b838890c78b8e.bindPopup%28popup_eb918cecfa7b4b6dbe29259e3128071c%29%0A%20%20%20%20%20%20%20%20%20%20%20%20%3B%0A%0A%20%20%20%20%20%20%20%20%20%20%20%20%0A%20%20%20%20%20%20%20%20%0A%20%20%20%20%0A%0A%20%20%20%20%20%20%20%20%20%20%20%20var%20circle_7e00b2a280c441369de0a8415cc73081%20%3D%20L.circle%28%0A%20%20%20%20%20%20%20%20%20%20%20%20%20%20%20%20%5B8.6%2C%20-80.0%5D%2C%0A%20%20%20%20%20%20%20%20%20%20%20%20%20%20%20%20%7B%0A%20%20%22bubblingMouseEvents%22%3A%20true%2C%0A%20%20%22color%22%3A%20%22%23900C3F%20%22%2C%0A%20%20%22dashArray%22%3A%20null%2C%0A%20%20%22dashOffset%22%3A%20null%2C%0A%20%20%22fill%22%3A%20true%2C%0A%20%20%22fillColor%22%3A%20%22%23900C3F%20%22%2C%0A%20%20%22fillOpacity%22%3A%200.2%2C%0A%20%20%22fillRule%22%3A%20%22evenodd%22%2C%0A%20%20%22lineCap%22%3A%20%22round%22%2C%0A%20%20%22lineJoin%22%3A%20%22round%22%2C%0A%20%20%22opacity%22%3A%201.0%2C%0A%20%20%22radius%22%3A%20200000.0%2C%0A%20%20%22stroke%22%3A%20true%2C%0A%20%20%22weight%22%3A%203%0A%7D%0A%20%20%20%20%20%20%20%20%20%20%20%20%20%20%20%20%29%0A%20%20%20%20%20%20%20%20%20%20%20%20%20%20%20%20.addTo%28map_b37d4cccfec94a6fa96fa43345a5d221%29%3B%0A%20%20%20%20%20%20%20%20%20%20%20%20%0A%20%20%20%20%0A%20%20%20%20%20%20%20%20%20%20%20%20var%20popup_4ab39143dce54dec982f723a0d125dd4%20%3D%20L.popup%28%7BmaxWidth%3A%20%27100%25%27%0A%20%20%20%20%20%20%20%20%20%20%20%20%0A%20%20%20%20%20%20%20%20%20%20%20%20%7D%29%3B%0A%0A%20%20%20%20%20%20%20%20%20%20%20%20%0A%20%20%20%20%20%20%20%20%20%20%20%20%20%20%20%20var%20html_545e84f9b66f43e2949323f84a692fc7%20%3D%20%24%28%60%3Cdiv%20id%3D%22html_545e84f9b66f43e2949323f84a692fc7%22%20style%3D%22width%3A%20100.0%25%3B%20height%3A%20100.0%25%3B%22%3EFrancia%3C/div%3E%60%29%5B0%5D%3B%0A%20%20%20%20%20%20%20%20%20%20%20%20%20%20%20%20popup_4ab39143dce54dec982f723a0d125dd4.setContent%28html_545e84f9b66f43e2949323f84a692fc7%29%3B%0A%20%20%20%20%20%20%20%20%20%20%20%20%0A%0A%20%20%20%20%20%20%20%20%20%20%20%20circle_7e00b2a280c441369de0a8415cc73081.bindPopup%28popup_4ab39143dce54dec982f723a0d125dd4%29%0A%20%20%20%20%20%20%20%20%20%20%20%20%3B%0A%0A%20%20%20%20%20%20%20%20%20%20%20%20%0A%20%20%20%20%20%20%20%20%0A%20%20%20%20%0A%0A%20%20%20%20%20%20%20%20%20%20%20%20var%20circle_21e1f5c503f5417aac04b948825e5ef8%20%3D%20L.circle%28%0A%20%20%20%20%20%20%20%20%20%20%20%20%20%20%20%20%5B55.1%2C%20-2.9%5D%2C%0A%20%20%20%20%20%20%20%20%20%20%20%20%20%20%20%20%7B%0A%20%20%22bubblingMouseEvents%22%3A%20true%2C%0A%20%20%22color%22%3A%20%22%23900C3F%20%22%2C%0A%20%20%22dashArray%22%3A%20null%2C%0A%20%20%22dashOffset%22%3A%20null%2C%0A%20%20%22fill%22%3A%20true%2C%0A%20%20%22fillColor%22%3A%20%22%23900C3F%20%22%2C%0A%20%20%22fillOpacity%22%3A%200.2%2C%0A%20%20%22fillRule%22%3A%20%22evenodd%22%2C%0A%20%20%22lineCap%22%3A%20%22round%22%2C%0A%20%20%22lineJoin%22%3A%20%22round%22%2C%0A%20%20%22opacity%22%3A%201.0%2C%0A%20%20%22radius%22%3A%20200000.0%2C%0A%20%20%22stroke%22%3A%20true%2C%0A%20%20%22weight%22%3A%203%0A%7D%0A%20%20%20%20%20%20%20%20%20%20%20%20%20%20%20%20%29%0A%20%20%20%20%20%20%20%20%20%20%20%20%20%20%20%20.addTo%28map_b37d4cccfec94a6fa96fa43345a5d221%29%3B%0A%20%20%20%20%20%20%20%20%20%20%20%20%0A%20%20%20%20%0A%20%20%20%20%20%20%20%20%20%20%20%20var%20popup_06b8058badaf4a5d9be77ae8d006b79b%20%3D%20L.popup%28%7BmaxWidth%3A%20%27100%25%27%0A%20%20%20%20%20%20%20%20%20%20%20%20%0A%20%20%20%20%20%20%20%20%20%20%20%20%7D%29%3B%0A%0A%20%20%20%20%20%20%20%20%20%20%20%20%0A%20%20%20%20%20%20%20%20%20%20%20%20%20%20%20%20var%20html_405e2c48aaf64407a01a4fbb2ba8381a%20%3D%20%24%28%60%3Cdiv%20id%3D%22html_405e2c48aaf64407a01a4fbb2ba8381a%22%20style%3D%22width%3A%20100.0%25%3B%20height%3A%20100.0%25%3B%22%3EReino%20Unido%3C/div%3E%60%29%5B0%5D%3B%0A%20%20%20%20%20%20%20%20%20%20%20%20%20%20%20%20popup_06b8058badaf4a5d9be77ae8d006b79b.setContent%28html_405e2c48aaf64407a01a4fbb2ba8381a%29%3B%0A%20%20%20%20%20%20%20%20%20%20%20%20%0A%0A%20%20%20%20%20%20%20%20%20%20%20%20circle_21e1f5c503f5417aac04b948825e5ef8.bindPopup%28popup_06b8058badaf4a5d9be77ae8d006b79b%29%0A%20%20%20%20%20%20%20%20%20%20%20%20%3B%0A%0A%20%20%20%20%20%20%20%20%20%20%20%20%0A%20%20%20%20%20%20%20%20%0A%20%20%20%20%0A%0A%20%20%20%20%20%20%20%20%20%20%20%20var%20circle_6638ccd01e4647debccb1a833fe2b301%20%3D%20L.circle%28%0A%20%20%20%20%20%20%20%20%20%20%20%20%20%20%20%20%5B39.7%2C%20-100.6%5D%2C%0A%20%20%20%20%20%20%20%20%20%20%20%20%20%20%20%20%7B%0A%20%20%22bubblingMouseEvents%22%3A%20true%2C%0A%20%20%22color%22%3A%20%22%23900C3F%20%22%2C%0A%20%20%22dashArray%22%3A%20null%2C%0A%20%20%22dashOffset%22%3A%20null%2C%0A%20%20%22fill%22%3A%20true%2C%0A%20%20%22fillColor%22%3A%20%22%23900C3F%20%22%2C%0A%20%20%22fillOpacity%22%3A%200.2%2C%0A%20%20%22fillRule%22%3A%20%22evenodd%22%2C%0A%20%20%22lineCap%22%3A%20%22round%22%2C%0A%20%20%22lineJoin%22%3A%20%22round%22%2C%0A%20%20%22opacity%22%3A%201.0%2C%0A%20%20%22radius%22%3A%20200000.0%2C%0A%20%20%22stroke%22%3A%20true%2C%0A%20%20%22weight%22%3A%203%0A%7D%0A%20%20%20%20%20%20%20%20%20%20%20%20%20%20%20%20%29%0A%20%20%20%20%20%20%20%20%20%20%20%20%20%20%20%20.addTo%28map_b37d4cccfec94a6fa96fa43345a5d221%29%3B%0A%20%20%20%20%20%20%20%20%20%20%20%20%0A%20%20%20%20%0A%20%20%20%20%20%20%20%20%20%20%20%20var%20popup_fb18516bacab4f4b97e850a40bdb9c2c%20%3D%20L.popup%28%7BmaxWidth%3A%20%27100%25%27%0A%20%20%20%20%20%20%20%20%20%20%20%20%0A%20%20%20%20%20%20%20%20%20%20%20%20%7D%29%3B%0A%0A%20%20%20%20%20%20%20%20%20%20%20%20%0A%20%20%20%20%20%20%20%20%20%20%20%20%20%20%20%20var%20html_5e3d6a893b3542959b528c5e65627e00%20%3D%20%24%28%60%3Cdiv%20id%3D%22html_5e3d6a893b3542959b528c5e65627e00%22%20style%3D%22width%3A%20100.0%25%3B%20height%3A%20100.0%25%3B%22%3EPanam%C3%A1%3C/div%3E%60%29%5B0%5D%3B%0A%20%20%20%20%20%20%20%20%20%20%20%20%20%20%20%20popup_fb18516bacab4f4b97e850a40bdb9c2c.setContent%28html_5e3d6a893b3542959b528c5e65627e00%29%3B%0A%20%20%20%20%20%20%20%20%20%20%20%20%0A%0A%20%20%20%20%20%20%20%20%20%20%20%20circle_6638ccd01e4647debccb1a833fe2b301.bindPopup%28popup_fb18516bacab4f4b97e850a40bdb9c2c%29%0A%20%20%20%20%20%20%20%20%20%20%20%20%3B%0A%0A%20%20%20%20%20%20%20%20%20%20%20%20%0A%20%20%20%20%20%20%20%20%0A%20%20%20%20%0A%0A%20%20%20%20%20%20%20%20%20%20%20%20var%20circle_cc5e5e9befa74a46bbe1f2b92b968b30%20%3D%20L.circle%28%0A%20%20%20%20%20%20%20%20%20%20%20%20%20%20%20%20%5B46.7%2C%201.8%5D%2C%0A%20%20%20%20%20%20%20%20%20%20%20%20%20%20%20%20%7B%0A%20%20%22bubblingMouseEvents%22%3A%20true%2C%0A%20%20%22color%22%3A%20%22%23900C3F%20%22%2C%0A%20%20%22dashArray%22%3A%20null%2C%0A%20%20%22dashOffset%22%3A%20null%2C%0A%20%20%22fill%22%3A%20true%2C%0A%20%20%22fillColor%22%3A%20%22%23900C3F%20%22%2C%0A%20%20%22fillOpacity%22%3A%200.2%2C%0A%20%20%22fillRule%22%3A%20%22evenodd%22%2C%0A%20%20%22lineCap%22%3A%20%22round%22%2C%0A%20%20%22lineJoin%22%3A%20%22round%22%2C%0A%20%20%22opacity%22%3A%201.0%2C%0A%20%20%22radius%22%3A%20200000.0%2C%0A%20%20%22stroke%22%3A%20true%2C%0A%20%20%22weight%22%3A%203%0A%7D%0A%20%20%20%20%20%20%20%20%20%20%20%20%20%20%20%20%29%0A%20%20%20%20%20%20%20%20%20%20%20%20%20%20%20%20.addTo%28map_b37d4cccfec94a6fa96fa43345a5d221%29%3B%0A%20%20%20%20%20%20%20%20%20%20%20%20%0A%20%20%20%20%0A%20%20%20%20%20%20%20%20%20%20%20%20var%20popup_d642401a908a487081e4eef95f9babd0%20%3D%20L.popup%28%7BmaxWidth%3A%20%27100%25%27%0A%20%20%20%20%20%20%20%20%20%20%20%20%0A%20%20%20%20%20%20%20%20%20%20%20%20%7D%29%3B%0A%0A%20%20%20%20%20%20%20%20%20%20%20%20%0A%20%20%20%20%20%20%20%20%20%20%20%20%20%20%20%20var%20html_5f73659827e04738bba519ba289b305c%20%3D%20%24%28%60%3Cdiv%20id%3D%22html_5f73659827e04738bba519ba289b305c%22%20style%3D%22width%3A%20100.0%25%3B%20height%3A%20100.0%25%3B%22%3EEstados%20Unidos%3C/div%3E%60%29%5B0%5D%3B%0A%20%20%20%20%20%20%20%20%20%20%20%20%20%20%20%20popup_d642401a908a487081e4eef95f9babd0.setContent%28html_5f73659827e04738bba519ba289b305c%29%3B%0A%20%20%20%20%20%20%20%20%20%20%20%20%0A%0A%20%20%20%20%20%20%20%20%20%20%20%20circle_cc5e5e9befa74a46bbe1f2b92b968b30.bindPopup%28popup_d642401a908a487081e4eef95f9babd0%29%0A%20%20%20%20%20%20%20%20%20%20%20%20%3B%0A%0A%20%20%20%20%20%20%20%20%20%20%20%20%0A%20%20%20%20%20%20%20%20%0A%3C/script%3E onload=\"this.contentDocument.open();this.contentDocument.write(    decodeURIComponent(this.getAttribute('data-html')));this.contentDocument.close();\" allowfullscreen webkitallowfullscreen mozallowfullscreen></iframe></div></div>"
            ],
            "text/plain": [
              "<folium.folium.Map at 0x7f98b1943950>"
            ]
          },
          "metadata": {
            "tags": []
          },
          "execution_count": 271
        }
      ]
    },
    {
      "cell_type": "markdown",
      "metadata": {
        "id": "wKrZF_QQObs7"
      },
      "source": [
        "##Word Cloud"
      ]
    },
    {
      "cell_type": "code",
      "metadata": {
        "id": "I51dkPyFNUf4"
      },
      "source": [
        "#comentarios = df['comentario'].dropna().to_list()\n",
        "#comentarios"
      ],
      "execution_count": null,
      "outputs": []
    },
    {
      "cell_type": "code",
      "metadata": {
        "id": "Ohhaw9YxVLGO"
      },
      "source": [
        "frases = ' '.join(df['comentario'].dropna().to_list())\n",
        "#frases"
      ],
      "execution_count": null,
      "outputs": []
    },
    {
      "cell_type": "code",
      "metadata": {
        "id": "m_0NTIqLPRHX"
      },
      "source": [
        "palabras = [palabra.strip(string.punctuation) for palabra in frases.split()]"
      ],
      "execution_count": null,
      "outputs": []
    },
    {
      "cell_type": "code",
      "metadata": {
        "id": "uiXTRxr8YJOC"
      },
      "source": [
        "contador_palabras=Counter(palabras)\n",
        "palabras_ordenadas = sorted(contador_palabras.items(), key=lambda x: x[1], reverse=True)\n",
        "\n",
        "#for i in palabras_ordenadas:\n",
        "#\tprint(i[0], i[1])"
      ],
      "execution_count": null,
      "outputs": []
    },
    {
      "cell_type": "code",
      "metadata": {
        "id": "GXys4wD4WfhU"
      },
      "source": [
        "pal= ['adolescente', 'segregado','hetero','chicas','partidas','sexo','rol',\n",
        "      'mesas', 'discriminación', 'personaje', 'juego', 'experiencia', 'amigos', \n",
        "      'personas','mujeres', 'grupos', 'sexual', 'varones', 'cis', 'queer', \n",
        "      'rolear','ignorancia','sexo','vida','personas','mesa', 'mujer', 'hombres',\n",
        "      'mundo', 'varones','jugar','orientación', 'pregunta', 'género', 'confianza', \n",
        "      'inclusivo', 'alguien','confianza', 'Creo', 'sé', 'uso','interpretar',\n",
        "      'distinto', 'medio','parte','falta','grupo','gente','mesa']\n",
        "\n",
        "palabras_filtradas = {}\n",
        "for key, value in contador_palabras.items():\n",
        "    if (key in pal):\n",
        "        palabras_filtradas[key] = value\n",
        "\n",
        "#print(palabras_filtradas)"
      ],
      "execution_count": null,
      "outputs": []
    },
    {
      "cell_type": "code",
      "metadata": {
        "id": "OBOyVgBwmzQP",
        "colab": {
          "base_uri": "https://localhost:8080/",
          "height": 266
        },
        "outputId": "594b84da-d78d-4780-ecb5-ca800d9a5e4c"
      },
      "source": [
        "nube_palabras = WordCloud(width = 1000, height = 1000, colormap='rocket',\n",
        "                          background_color=\"grey\").generate_from_frequencies(palabras_filtradas)\n",
        "# Display the generated image:\n",
        "plt.imshow(nube_palabras, interpolation='bilinear')\n",
        "plt.axis(\"off\")\n",
        "plt.margins(x=0, y=0)\n",
        "plt.show()\n",
        "#plt.savefig(\"23.jpg\",bbox_inches='tight')\n",
        "#files.download(\"23.jpg\") "
      ],
      "execution_count": null,
      "outputs": [
        {
          "output_type": "display_data",
          "data": {
            "image/png": "[encoded data removed]",
            "text/plain": [
              "<Figure size 432x288 with 1 Axes>"
            ]
          },
          "metadata": {
            "tags": [],
            "needs_background": "light"
          }
        },
        {
          "output_type": "display_data",
          "data": {
            "application/javascript": [
              "\n",
              "    async function download(id, filename, size) {\n",
              "      if (!google.colab.kernel.accessAllowed) {\n",
              "        return;\n",
              "      }\n",
              "      const div = document.createElement('div');\n",
              "      const label = document.createElement('label');\n",
              "      label.textContent = `Downloading \"${filename}\": `;\n",
              "      div.appendChild(label);\n",
              "      const progress = document.createElement('progress');\n",
              "      progress.max = size;\n",
              "      div.appendChild(progress);\n",
              "      document.body.appendChild(div);\n",
              "\n",
              "      const buffers = [];\n",
              "      let downloaded = 0;\n",
              "\n",
              "      const channel = await google.colab.kernel.comms.open(id);\n",
              "      // Send a message to notify the kernel that we're ready.\n",
              "      channel.send({})\n",
              "\n",
              "      for await (const message of channel.messages) {\n",
              "        // Send a message to notify the kernel that we're ready.\n",
              "        channel.send({})\n",
              "        if (message.buffers) {\n",
              "          for (const buffer of message.buffers) {\n",
              "            buffers.push(buffer);\n",
              "            downloaded += buffer.byteLength;\n",
              "            progress.value = downloaded;\n",
              "          }\n",
              "        }\n",
              "      }\n",
              "      const blob = new Blob(buffers, {type: 'application/binary'});\n",
              "      const a = document.createElement('a');\n",
              "      a.href = window.URL.createObjectURL(blob);\n",
              "      a.download = filename;\n",
              "      div.appendChild(a);\n",
              "      a.click();\n",
              "      div.remove();\n",
              "    }\n",
              "  "
            ],
            "text/plain": [
              "<IPython.core.display.Javascript object>"
            ]
          },
          "metadata": {
            "tags": []
          }
        },
        {
          "output_type": "display_data",
          "data": {
            "application/javascript": [
              "download(\"download_6ccfd2b0-817b-4c49-8fba-6039a1b473bf\", \"23.jpg\", 2755)"
            ],
            "text/plain": [
              "<IPython.core.display.Javascript object>"
            ]
          },
          "metadata": {
            "tags": []
          }
        },
        {
          "output_type": "display_data",
          "data": {
            "text/plain": [
              "<Figure size 432x288 with 0 Axes>"
            ]
          },
          "metadata": {
            "tags": []
          }
        }
      ]
    },
    {
      "cell_type": "code",
      "metadata": {
        "id": "DBvAeI6C8bmA"
      },
      "source": [
        ""
      ],
      "execution_count": null,
      "outputs": []
    }
  ]
}