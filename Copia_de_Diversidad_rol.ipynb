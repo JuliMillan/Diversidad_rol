{
  "nbformat": 4,
  "nbformat_minor": 0,
  "metadata": {
    "colab": {
      "name": "Copia de Diversidad_rol.ipynb",
      "provenance": [],
      "collapsed_sections": [
        "oskFuwTwgBdF"
      ],
      "mount_file_id": "1z0HuPMFrk3AVRMfEleQYWhs5TiPQJeCW",
      "authorship_tag": "ABX9TyOsh58YYnvUFau6Jb1cyye3",
      "include_colab_link": true
    },
    "kernelspec": {
      "name": "python3",
      "display_name": "Python 3"
    },
    "language_info": {
      "name": "python"
    }
  },
  "cells": [
    {
      "cell_type": "markdown",
      "metadata": {
        "id": "view-in-github",
        "colab_type": "text"
      },
      "source": [
        "<a href=\"https://colab.research.google.com/github/JuliMillan/Diversidad_rol/blob/main/Copia_de_Diversidad_rol.ipynb\" target=\"_parent\"><img src=\"https://colab.research.google.com/assets/colab-badge.svg\" alt=\"Open In Colab\"/></a>"
      ]
    },
    {
      "cell_type": "code",
      "metadata": {
        "id": "NaCP_a1i68rg",
        "colab": {
          "base_uri": "https://localhost:8080/"
        },
        "outputId": "781fae57-924b-4890-bc0f-97d9316a0131"
      },
      "source": [
        "!pip install squarify\n",
        "import pandas as pd\n",
        "import numpy as np\n",
        "import matplotlib.pyplot as plt\n",
        "import seaborn as sns\n",
        "from wordcloud import WordCloud\n",
        "from collections import Counter\n",
        "import string\n",
        "import matplotlib.patches as mpatches\n",
        "from scipy import stats\n",
        "import folium\n",
        "import scipy.stats as ss\n",
        "import squarify "
      ],
      "execution_count": 1,
      "outputs": [
        {
          "output_type": "stream",
          "text": [
            "Requirement already satisfied: squarify in /usr/local/lib/python3.7/dist-packages (0.4.3)\n"
          ],
          "name": "stdout"
        }
      ]
    },
    {
      "cell_type": "markdown",
      "metadata": {
        "id": "v3_4maZiocXN"
      },
      "source": [
        "###Correr si no tenés montado GDrive"
      ]
    },
    {
      "cell_type": "code",
      "metadata": {
        "colab": {
          "base_uri": "https://localhost:8080/"
        },
        "id": "gv8Mzd7nSc2n",
        "outputId": "aa799753-0639-4f01-a54a-5ff995be3664"
      },
      "source": [
        "from google.colab import drive\n",
        "drive.mount('/content/drive')"
      ],
      "execution_count": 2,
      "outputs": [
        {
          "output_type": "stream",
          "text": [
            "Drive already mounted at /content/drive; to attempt to forcibly remount, call drive.mount(\"/content/drive\", force_remount=True).\n"
          ],
          "name": "stdout"
        }
      ]
    },
    {
      "cell_type": "markdown",
      "metadata": {
        "id": "cBw8fTf5hSta"
      },
      "source": [
        "##Funciones útiles"
      ]
    },
    {
      "cell_type": "code",
      "metadata": {
        "id": "GuYRNqFghSPK"
      },
      "source": [
        "def normalidad(datos, alfa):\n",
        "  k2, p = stats.normaltest(edades, nan_policy='omit')\n",
        "  print(\"p = {:g}\".format(p))\n",
        "  if p < alpha:  # Hipótesis nula: la distribución proviene de una distribución Guassiana\n",
        "    print(\"La distribución no es normal\")\n",
        "  else:\n",
        "    print(\"La distribución parece normal\")\n",
        "\n",
        "\n",
        "\n",
        "def pie_plot(datos, explode, titulo):\n",
        "  d = datos.value_counts()\n",
        "  pie, ax = plt.subplots(figsize=[10,6])\n",
        "  labels=d.keys()\n",
        "  plt.pie(x=d, autopct='%.1f%%', \n",
        "          explode=explode, labels=labels, \n",
        "          pctdistance=0.5, startangle=90,\n",
        "          colors = sns.color_palette('Set2'))\n",
        "  ax.axis('equal')\n",
        "  plt.title('{}'.format(titulo), fontsize=14)\n",
        "  return plt.show()\n",
        "\n",
        "\n",
        "def heat_map(columna_1, columna_2):\n",
        "  matriz = pd.crosstab(index=columna_1, columns=columna_2)\n",
        "  fig = sns.heatmap(matriz)\n",
        "  return matriz, fig\n",
        "\n",
        "def tree_plot(datos, columna, titulo):\n",
        "  d = pd.DataFrame(datos.value_counts().reset_index())\n",
        "  d.columns = [columna, 'conteo']\n",
        "  color=sns.color_palette(\"inferno\")\n",
        "  squarify.plot(sizes=d['conteo'], label=d[columna], alpha=.7, color=color)\n",
        "  plt.axis('off')\n",
        "  plt.title('{}'.format(titulo), fontsize=14)\n",
        "  return plt.show()\n",
        "\n",
        "def cramers_v(x, y):\n",
        "    confusion_matrix = pd.crosstab(x,y)\n",
        "    chi2 = ss.chi2_contingency(confusion_matrix)[0]\n",
        "    n = confusion_matrix.sum().sum()\n",
        "    phi2 = chi2/n\n",
        "    r,k = confusion_matrix.shape\n",
        "    phi2corr = max(0, phi2-((k-1)*(r-1))/(n-1))\n",
        "    rcorr = r-((r-1)**2)/(n-1)\n",
        "    kcorr = k-((k-1)**2)/(n-1)\n",
        "    return np.sqrt(phi2corr/min((kcorr-1),(rcorr-1)))"
      ],
      "execution_count": 69,
      "outputs": []
    },
    {
      "cell_type": "markdown",
      "metadata": {
        "id": "FmIy14Q-hhz0"
      },
      "source": [
        "##Exploramos los datos"
      ]
    },
    {
      "cell_type": "code",
      "metadata": {
        "colab": {
          "base_uri": "https://localhost:8080/",
          "height": 519
        },
        "id": "Abh5sJKn8nbs",
        "outputId": "2188b0ce-708b-47c6-fae1-d5f15d7d672d"
      },
      "source": [
        "archivo = \"/content/drive/MyDrive/Copia de Diversidad sexual y de género en el mundo de los juegos de rol (respuestas) - Respuestas de formulario 1.csv\"\n",
        "df = pd.read_csv(archivo)\n",
        "df.head(3)"
      ],
      "execution_count": 4,
      "outputs": [
        {
          "output_type": "execute_result",
          "data": {
            "text/html": [
              "<div>\n",
              "<style scoped>\n",
              "    .dataframe tbody tr th:only-of-type {\n",
              "        vertical-align: middle;\n",
              "    }\n",
              "\n",
              "    .dataframe tbody tr th {\n",
              "        vertical-align: top;\n",
              "    }\n",
              "\n",
              "    .dataframe thead th {\n",
              "        text-align: right;\n",
              "    }\n",
              "</style>\n",
              "<table border=\"1\" class=\"dataframe\">\n",
              "  <thead>\n",
              "    <tr style=\"text-align: right;\">\n",
              "      <th></th>\n",
              "      <th>Marca temporal</th>\n",
              "      <th>Qué edad tenés?</th>\n",
              "      <th>Qué juego/s jugás?</th>\n",
              "      <th>Participás como</th>\n",
              "      <th>Con qué género te identificás?</th>\n",
              "      <th>En relación al género que se te asignó al nacer, te considerás</th>\n",
              "      <th>Cuál es tu orientación sexual?</th>\n",
              "      <th>Alguna vez sufriste  discriminación (como jugadorx) por tu género u orientación sexual durante una partida?</th>\n",
              "      <th>Presenciaste algún tipo de discriminación hacia otra persona?</th>\n",
              "      <th>En caso de haber sufrido/presenciado casos de discriminación, reaccionaste de alguna manera?</th>\n",
              "      <th>Tus grupos de juego normalmente están conformados por</th>\n",
              "      <th>En qué país naciste?</th>\n",
              "      <th>En qué país vivís?</th>\n",
              "      <th>Algo que quieras agregar, contar, comentar, criticar?</th>\n",
              "    </tr>\n",
              "  </thead>\n",
              "  <tbody>\n",
              "    <tr>\n",
              "      <th>0</th>\n",
              "      <td>16/06/2021 22:13:54</td>\n",
              "      <td>29.0</td>\n",
              "      <td>Dungeons &amp; Dragons 5E</td>\n",
              "      <td>Jugador</td>\n",
              "      <td>Mujer</td>\n",
              "      <td>Cis</td>\n",
              "      <td>Heterosexual</td>\n",
              "      <td>No estoy segurx</td>\n",
              "      <td>No estoy segurx</td>\n",
              "      <td>Sí</td>\n",
              "      <td>Mayoría de varones</td>\n",
              "      <td>Argentina</td>\n",
              "      <td>Argentina</td>\n",
              "      <td>NaN</td>\n",
              "    </tr>\n",
              "    <tr>\n",
              "      <th>1</th>\n",
              "      <td>17/06/2021 10:11:50</td>\n",
              "      <td>29.0</td>\n",
              "      <td>Dungeons &amp; Dragons 5E</td>\n",
              "      <td>Jugadorx</td>\n",
              "      <td>Mujer</td>\n",
              "      <td>Cis</td>\n",
              "      <td>Heterosexual</td>\n",
              "      <td>No</td>\n",
              "      <td>No</td>\n",
              "      <td>NaN</td>\n",
              "      <td>Mayoría de varones</td>\n",
              "      <td>Argentina</td>\n",
              "      <td>Argentina</td>\n",
              "      <td>NaN</td>\n",
              "    </tr>\n",
              "    <tr>\n",
              "      <th>2</th>\n",
              "      <td>17/06/2021 10:25:49</td>\n",
              "      <td>32.0</td>\n",
              "      <td>Dungeons &amp; Dragons 5E, Dungeons &amp; Dragons 3.5</td>\n",
              "      <td>Ambos</td>\n",
              "      <td>Varón</td>\n",
              "      <td>Cis</td>\n",
              "      <td>Heterosexual</td>\n",
              "      <td>No</td>\n",
              "      <td>No</td>\n",
              "      <td>NaN</td>\n",
              "      <td>Mayoría de varones</td>\n",
              "      <td>Argentina</td>\n",
              "      <td>Argentina</td>\n",
              "      <td>NaN</td>\n",
              "    </tr>\n",
              "  </tbody>\n",
              "</table>\n",
              "</div>"
            ],
            "text/plain": [
              "        Marca temporal  ...  Algo que quieras agregar, contar, comentar, criticar?\n",
              "0  16/06/2021 22:13:54  ...                                                NaN    \n",
              "1  17/06/2021 10:11:50  ...                                                NaN    \n",
              "2  17/06/2021 10:25:49  ...                                                NaN    \n",
              "\n",
              "[3 rows x 14 columns]"
            ]
          },
          "metadata": {
            "tags": []
          },
          "execution_count": 4
        }
      ]
    },
    {
      "cell_type": "code",
      "metadata": {
        "colab": {
          "base_uri": "https://localhost:8080/"
        },
        "id": "_5opZglQkvLI",
        "outputId": "ad00afa7-bda9-4edd-afc8-bf454c2d4900"
      },
      "source": [
        "df.info()"
      ],
      "execution_count": 5,
      "outputs": [
        {
          "output_type": "stream",
          "text": [
            "<class 'pandas.core.frame.DataFrame'>\n",
            "RangeIndex: 146 entries, 0 to 145\n",
            "Data columns (total 14 columns):\n",
            " #   Column                                                                                                       Non-Null Count  Dtype  \n",
            "---  ------                                                                                                       --------------  -----  \n",
            " 0   Marca temporal                                                                                               146 non-null    object \n",
            " 1   Qué edad tenés?                                                                                              139 non-null    float64\n",
            " 2   Qué juego/s jugás?                                                                                           145 non-null    object \n",
            " 3   Participás como                                                                                              145 non-null    object \n",
            " 4   Con qué género te identificás?                                                                               146 non-null    object \n",
            " 5   En relación al género que se te asignó al nacer, te considerás                                               140 non-null    object \n",
            " 6   Cuál es tu orientación sexual?                                                                               146 non-null    object \n",
            " 7   Alguna vez sufriste  discriminación (como jugadorx) por tu género u orientación sexual durante una partida?  146 non-null    object \n",
            " 8   Presenciaste algún tipo de discriminación hacia otra persona?                                                146 non-null    object \n",
            " 9   En caso de haber sufrido/presenciado casos de discriminación, reaccionaste de alguna manera?                 74 non-null     object \n",
            " 10  Tus grupos de juego normalmente están conformados por                                                        144 non-null    object \n",
            " 11  En qué país naciste?                                                                                         146 non-null    object \n",
            " 12  En qué país vivís?                                                                                           144 non-null    object \n",
            " 13  Algo que quieras agregar, contar, comentar, criticar?                                                        59 non-null     object \n",
            "dtypes: float64(1), object(13)\n",
            "memory usage: 16.1+ KB\n"
          ],
          "name": "stdout"
        }
      ]
    },
    {
      "cell_type": "code",
      "metadata": {
        "id": "W0PJV-QV8lLR",
        "colab": {
          "base_uri": "https://localhost:8080/",
          "height": 383
        },
        "outputId": "c2915cdb-067f-43fb-fb24-6939daeb083b"
      },
      "source": [
        "df.columns = [\n",
        "              'fecha', 'edad', 'juegos', 'rol', 'genero', 'cistrans', 'sexualidad', \n",
        "              'discriminacion_personal', 'discriminacion_otre', 'reaccion',\n",
        "              'grupo', 'nacimiento', 'residencia', 'comentario'\n",
        "              ]\n",
        "\n",
        "df.head(3)"
      ],
      "execution_count": 6,
      "outputs": [
        {
          "output_type": "execute_result",
          "data": {
            "text/html": [
              "<div>\n",
              "<style scoped>\n",
              "    .dataframe tbody tr th:only-of-type {\n",
              "        vertical-align: middle;\n",
              "    }\n",
              "\n",
              "    .dataframe tbody tr th {\n",
              "        vertical-align: top;\n",
              "    }\n",
              "\n",
              "    .dataframe thead th {\n",
              "        text-align: right;\n",
              "    }\n",
              "</style>\n",
              "<table border=\"1\" class=\"dataframe\">\n",
              "  <thead>\n",
              "    <tr style=\"text-align: right;\">\n",
              "      <th></th>\n",
              "      <th>fecha</th>\n",
              "      <th>edad</th>\n",
              "      <th>juegos</th>\n",
              "      <th>rol</th>\n",
              "      <th>genero</th>\n",
              "      <th>cistrans</th>\n",
              "      <th>sexualidad</th>\n",
              "      <th>discriminacion_personal</th>\n",
              "      <th>discriminacion_otre</th>\n",
              "      <th>reaccion</th>\n",
              "      <th>grupo</th>\n",
              "      <th>nacimiento</th>\n",
              "      <th>residencia</th>\n",
              "      <th>comentario</th>\n",
              "    </tr>\n",
              "  </thead>\n",
              "  <tbody>\n",
              "    <tr>\n",
              "      <th>0</th>\n",
              "      <td>16/06/2021 22:13:54</td>\n",
              "      <td>29.0</td>\n",
              "      <td>Dungeons &amp; Dragons 5E</td>\n",
              "      <td>Jugador</td>\n",
              "      <td>Mujer</td>\n",
              "      <td>Cis</td>\n",
              "      <td>Heterosexual</td>\n",
              "      <td>No estoy segurx</td>\n",
              "      <td>No estoy segurx</td>\n",
              "      <td>Sí</td>\n",
              "      <td>Mayoría de varones</td>\n",
              "      <td>Argentina</td>\n",
              "      <td>Argentina</td>\n",
              "      <td>NaN</td>\n",
              "    </tr>\n",
              "    <tr>\n",
              "      <th>1</th>\n",
              "      <td>17/06/2021 10:11:50</td>\n",
              "      <td>29.0</td>\n",
              "      <td>Dungeons &amp; Dragons 5E</td>\n",
              "      <td>Jugadorx</td>\n",
              "      <td>Mujer</td>\n",
              "      <td>Cis</td>\n",
              "      <td>Heterosexual</td>\n",
              "      <td>No</td>\n",
              "      <td>No</td>\n",
              "      <td>NaN</td>\n",
              "      <td>Mayoría de varones</td>\n",
              "      <td>Argentina</td>\n",
              "      <td>Argentina</td>\n",
              "      <td>NaN</td>\n",
              "    </tr>\n",
              "    <tr>\n",
              "      <th>2</th>\n",
              "      <td>17/06/2021 10:25:49</td>\n",
              "      <td>32.0</td>\n",
              "      <td>Dungeons &amp; Dragons 5E, Dungeons &amp; Dragons 3.5</td>\n",
              "      <td>Ambos</td>\n",
              "      <td>Varón</td>\n",
              "      <td>Cis</td>\n",
              "      <td>Heterosexual</td>\n",
              "      <td>No</td>\n",
              "      <td>No</td>\n",
              "      <td>NaN</td>\n",
              "      <td>Mayoría de varones</td>\n",
              "      <td>Argentina</td>\n",
              "      <td>Argentina</td>\n",
              "      <td>NaN</td>\n",
              "    </tr>\n",
              "  </tbody>\n",
              "</table>\n",
              "</div>"
            ],
            "text/plain": [
              "                 fecha  edad  ... residencia comentario\n",
              "0  16/06/2021 22:13:54  29.0  ...  Argentina        NaN\n",
              "1  17/06/2021 10:11:50  29.0  ...  Argentina        NaN\n",
              "2  17/06/2021 10:25:49  32.0  ...  Argentina        NaN\n",
              "\n",
              "[3 rows x 14 columns]"
            ]
          },
          "metadata": {
            "tags": []
          },
          "execution_count": 6
        }
      ]
    },
    {
      "cell_type": "code",
      "metadata": {
        "id": "G8a-VzlfGtTw",
        "colab": {
          "base_uri": "https://localhost:8080/",
          "height": 193
        },
        "outputId": "9bba0a32-4d7c-4d06-b15e-00ec715206da"
      },
      "source": [
        "df1 = df.iloc[:,1:13]\n",
        "df1.head(3)"
      ],
      "execution_count": 7,
      "outputs": [
        {
          "output_type": "execute_result",
          "data": {
            "text/html": [
              "<div>\n",
              "<style scoped>\n",
              "    .dataframe tbody tr th:only-of-type {\n",
              "        vertical-align: middle;\n",
              "    }\n",
              "\n",
              "    .dataframe tbody tr th {\n",
              "        vertical-align: top;\n",
              "    }\n",
              "\n",
              "    .dataframe thead th {\n",
              "        text-align: right;\n",
              "    }\n",
              "</style>\n",
              "<table border=\"1\" class=\"dataframe\">\n",
              "  <thead>\n",
              "    <tr style=\"text-align: right;\">\n",
              "      <th></th>\n",
              "      <th>edad</th>\n",
              "      <th>juegos</th>\n",
              "      <th>rol</th>\n",
              "      <th>genero</th>\n",
              "      <th>cistrans</th>\n",
              "      <th>sexualidad</th>\n",
              "      <th>discriminacion_personal</th>\n",
              "      <th>discriminacion_otre</th>\n",
              "      <th>reaccion</th>\n",
              "      <th>grupo</th>\n",
              "      <th>nacimiento</th>\n",
              "      <th>residencia</th>\n",
              "    </tr>\n",
              "  </thead>\n",
              "  <tbody>\n",
              "    <tr>\n",
              "      <th>0</th>\n",
              "      <td>29.0</td>\n",
              "      <td>Dungeons &amp; Dragons 5E</td>\n",
              "      <td>Jugador</td>\n",
              "      <td>Mujer</td>\n",
              "      <td>Cis</td>\n",
              "      <td>Heterosexual</td>\n",
              "      <td>No estoy segurx</td>\n",
              "      <td>No estoy segurx</td>\n",
              "      <td>Sí</td>\n",
              "      <td>Mayoría de varones</td>\n",
              "      <td>Argentina</td>\n",
              "      <td>Argentina</td>\n",
              "    </tr>\n",
              "    <tr>\n",
              "      <th>1</th>\n",
              "      <td>29.0</td>\n",
              "      <td>Dungeons &amp; Dragons 5E</td>\n",
              "      <td>Jugadorx</td>\n",
              "      <td>Mujer</td>\n",
              "      <td>Cis</td>\n",
              "      <td>Heterosexual</td>\n",
              "      <td>No</td>\n",
              "      <td>No</td>\n",
              "      <td>NaN</td>\n",
              "      <td>Mayoría de varones</td>\n",
              "      <td>Argentina</td>\n",
              "      <td>Argentina</td>\n",
              "    </tr>\n",
              "    <tr>\n",
              "      <th>2</th>\n",
              "      <td>32.0</td>\n",
              "      <td>Dungeons &amp; Dragons 5E, Dungeons &amp; Dragons 3.5</td>\n",
              "      <td>Ambos</td>\n",
              "      <td>Varón</td>\n",
              "      <td>Cis</td>\n",
              "      <td>Heterosexual</td>\n",
              "      <td>No</td>\n",
              "      <td>No</td>\n",
              "      <td>NaN</td>\n",
              "      <td>Mayoría de varones</td>\n",
              "      <td>Argentina</td>\n",
              "      <td>Argentina</td>\n",
              "    </tr>\n",
              "  </tbody>\n",
              "</table>\n",
              "</div>"
            ],
            "text/plain": [
              "   edad                                         juegos  ... nacimiento residencia\n",
              "0  29.0                          Dungeons & Dragons 5E  ...  Argentina  Argentina\n",
              "1  29.0                          Dungeons & Dragons 5E  ...  Argentina  Argentina\n",
              "2  32.0  Dungeons & Dragons 5E, Dungeons & Dragons 3.5  ...  Argentina  Argentina\n",
              "\n",
              "[3 rows x 12 columns]"
            ]
          },
          "metadata": {
            "tags": []
          },
          "execution_count": 7
        }
      ]
    },
    {
      "cell_type": "markdown",
      "metadata": {
        "id": "oskFuwTwgBdF"
      },
      "source": [
        "##Edades y género"
      ]
    },
    {
      "cell_type": "code",
      "metadata": {
        "colab": {
          "base_uri": "https://localhost:8080/"
        },
        "id": "hQD_OlG_U2Uj",
        "outputId": "a58a2e8d-8b84-4d1b-a96c-3ebd05677369"
      },
      "source": [
        "edades = (df1['edad'])\n",
        "#print(edades)\n",
        "print(edades.shape)\n",
        "#print(type(edades))\n",
        "print(edades.describe())\n",
        "edades_np = edades.dropna()\n",
        "edades_np = edades_np.to_numpy()\n",
        "#print(type(edades_np))\n",
        "print(edades_np.mean())\n"
      ],
      "execution_count": 8,
      "outputs": [
        {
          "output_type": "stream",
          "text": [
            "(146,)\n",
            "count    139.000000\n",
            "mean      30.366906\n",
            "std        6.739612\n",
            "min       16.000000\n",
            "25%       26.000000\n",
            "50%       30.000000\n",
            "75%       35.000000\n",
            "max       51.000000\n",
            "Name: edad, dtype: float64\n",
            "30.366906474820144\n"
          ],
          "name": "stdout"
        }
      ]
    },
    {
      "cell_type": "code",
      "metadata": {
        "id": "yqb-Cvk1Rp_1",
        "colab": {
          "base_uri": "https://localhost:8080/"
        },
        "outputId": "751e9cf4-77f6-4315-ddfb-e133ca80e08e"
      },
      "source": [
        "mediana = (edades.median())\n",
        "print('La edad más representada es {} años, con {} personas.'.format(int(mediana), np.sum([df1['edad']==30])))"
      ],
      "execution_count": 9,
      "outputs": [
        {
          "output_type": "stream",
          "text": [
            "La edad más representada es 30 años, con 16 personas.\n"
          ],
          "name": "stdout"
        }
      ]
    },
    {
      "cell_type": "code",
      "metadata": {
        "id": "B12gCT_oSYtX",
        "colab": {
          "base_uri": "https://localhost:8080/"
        },
        "outputId": "c20f4eb2-3994-4103-93fc-913628490aaf"
      },
      "source": [
        "edad_maxima = int(edades.max())\n",
        "edad_minima = int(edades.min())\n",
        "print('Edad máxima: ', edad_maxima ,'\\nEdad mínima: ', edad_minima)"
      ],
      "execution_count": 10,
      "outputs": [
        {
          "output_type": "stream",
          "text": [
            "Edad máxima:  51 \n",
            "Edad mínima:  16\n"
          ],
          "name": "stdout"
        }
      ]
    },
    {
      "cell_type": "code",
      "metadata": {
        "id": "CCvQ0VTMYPLB",
        "colab": {
          "base_uri": "https://localhost:8080/"
        },
        "outputId": "e2c5b6c0-e195-47b2-cb3d-93ca5dc1b9be"
      },
      "source": [
        "alpha = 1e-3\n",
        "normalidad(edades_np, alpha)"
      ],
      "execution_count": 11,
      "outputs": [
        {
          "output_type": "stream",
          "text": [
            "p = 0.105404\n",
            "La distribución parece normal\n"
          ],
          "name": "stdout"
        }
      ]
    },
    {
      "cell_type": "code",
      "metadata": {
        "id": "F4VOksFLaq_m",
        "colab": {
          "base_uri": "https://localhost:8080/",
          "height": 142
        },
        "outputId": "2402569b-caa7-4568-8d54-5680081cfa7e"
      },
      "source": [
        "edades_genero = df1[['edad', 'genero']]\n",
        "edades_genero.head(3)"
      ],
      "execution_count": 12,
      "outputs": [
        {
          "output_type": "execute_result",
          "data": {
            "text/html": [
              "<div>\n",
              "<style scoped>\n",
              "    .dataframe tbody tr th:only-of-type {\n",
              "        vertical-align: middle;\n",
              "    }\n",
              "\n",
              "    .dataframe tbody tr th {\n",
              "        vertical-align: top;\n",
              "    }\n",
              "\n",
              "    .dataframe thead th {\n",
              "        text-align: right;\n",
              "    }\n",
              "</style>\n",
              "<table border=\"1\" class=\"dataframe\">\n",
              "  <thead>\n",
              "    <tr style=\"text-align: right;\">\n",
              "      <th></th>\n",
              "      <th>edad</th>\n",
              "      <th>genero</th>\n",
              "    </tr>\n",
              "  </thead>\n",
              "  <tbody>\n",
              "    <tr>\n",
              "      <th>0</th>\n",
              "      <td>29.0</td>\n",
              "      <td>Mujer</td>\n",
              "    </tr>\n",
              "    <tr>\n",
              "      <th>1</th>\n",
              "      <td>29.0</td>\n",
              "      <td>Mujer</td>\n",
              "    </tr>\n",
              "    <tr>\n",
              "      <th>2</th>\n",
              "      <td>32.0</td>\n",
              "      <td>Varón</td>\n",
              "    </tr>\n",
              "  </tbody>\n",
              "</table>\n",
              "</div>"
            ],
            "text/plain": [
              "   edad genero\n",
              "0  29.0  Mujer\n",
              "1  29.0  Mujer\n",
              "2  32.0  Varón"
            ]
          },
          "metadata": {
            "tags": []
          },
          "execution_count": 12
        }
      ]
    },
    {
      "cell_type": "code",
      "metadata": {
        "colab": {
          "base_uri": "https://localhost:8080/",
          "height": 265
        },
        "id": "DVY4YII9WxhO",
        "outputId": "6a8fb962-e939-4a5c-bc1a-13baef0344a7"
      },
      "source": [
        "fig, ax = plt.subplots()\n",
        "bin=(edad_maxima-edad_minima)\n",
        "\n",
        "N, bins, patches = ax.hist(edades, bins=bin)\n",
        "\n",
        "for i in range(0,6):\n",
        "    patches[i].set_facecolor('#D12229')\n",
        "for i in range(6,10):    \n",
        "    patches[i].set_facecolor('#F68A1E')\n",
        "for i in range(10,14):\n",
        "    patches[i].set_facecolor('#FDE01A')\n",
        "for i in range(14,19):\n",
        "    patches[i].set_facecolor('#007940')\n",
        "for i in range(19,24):    \n",
        "    patches[i].set_facecolor('#24408E')\n",
        "for i in range(24, len(patches)):\n",
        "    patches[i].set_facecolor('#732982')\n",
        "\n",
        "plt.show()"
      ],
      "execution_count": 13,
      "outputs": [
        {
          "output_type": "display_data",
          "data": {
            "image/png": "[encoded data removed]",
            "text/plain": [
              "<Figure size 432x288 with 1 Axes>"
            ]
          },
          "metadata": {
            "tags": [],
            "needs_background": "light"
          }
        }
      ]
    },
    {
      "cell_type": "code",
      "metadata": {
        "colab": {
          "base_uri": "https://localhost:8080/",
          "height": 383
        },
        "id": "vGK8Tm_RLnbe",
        "outputId": "af92d0be-810f-4e43-fe8a-83001d8c50a5"
      },
      "source": [
        "figure = sns.catplot(x=\"genero\", kind=\"count\", palette=\"gist_stern\", \n",
        "                     data=df1, order=['Mujer', 'Varón', 'No binarie','Otro'])\n",
        "plt.show()"
      ],
      "execution_count": 14,
      "outputs": [
        {
          "output_type": "display_data",
          "data": {
            "image/png": "[encoded data removed]",
            "text/plain": [
              "<Figure size 360x360 with 1 Axes>"
            ]
          },
          "metadata": {
            "tags": [],
            "needs_background": "light"
          }
        }
      ]
    },
    {
      "cell_type": "code",
      "metadata": {
        "id": "aCkDJC3jclec"
      },
      "source": [
        "edades_m = edades_genero[edades_genero['genero']=='Mujer'].dropna()\n",
        "#edades_m"
      ],
      "execution_count": 15,
      "outputs": []
    },
    {
      "cell_type": "code",
      "metadata": {
        "id": "LKgd8j3oqTNt"
      },
      "source": [
        "edades_v = edades_genero[edades_genero['genero']=='Varón'].dropna()\n",
        "#edades_v"
      ],
      "execution_count": 16,
      "outputs": []
    },
    {
      "cell_type": "code",
      "metadata": {
        "colab": {
          "base_uri": "https://localhost:8080/",
          "height": 279
        },
        "id": "aQsZIy__YjN2",
        "outputId": "f5336d3b-5a6c-42cb-e196-04c4185e85e4"
      },
      "source": [
        "figure = sns.histplot(data=edades_genero, x=\"edad\", hue=\"genero\", multiple=\"dodge\", palette='gist_stern')\n",
        "plt.show()"
      ],
      "execution_count": 81,
      "outputs": [
        {
          "output_type": "display_data",
          "data": {
            "image/png": "[encoded data removed]",
            "text/plain": [
              "<Figure size 432x288 with 1 Axes>"
            ]
          },
          "metadata": {
            "tags": [],
            "needs_background": "light"
          }
        }
      ]
    },
    {
      "cell_type": "code",
      "metadata": {
        "colab": {
          "base_uri": "https://localhost:8080/",
          "height": 335
        },
        "id": "9UwClkwfdHZW",
        "outputId": "d532685a-7d63-4d0c-80dd-bab9a9114fa1"
      },
      "source": [
        "fig = sns.distplot(edades_genero['edad'], bins=30)\n",
        "#sns.kdeplot(edades_m['edad'])\n",
        "#sns.kdeplot(edades_v['edad'])\n",
        "plt.show()"
      ],
      "execution_count": 18,
      "outputs": [
        {
          "output_type": "stream",
          "text": [
            "/usr/local/lib/python3.7/dist-packages/seaborn/distributions.py:2557: FutureWarning: `distplot` is a deprecated function and will be removed in a future version. Please adapt your code to use either `displot` (a figure-level function with similar flexibility) or `histplot` (an axes-level function for histograms).\n",
            "  warnings.warn(msg, FutureWarning)\n"
          ],
          "name": "stderr"
        },
        {
          "output_type": "display_data",
          "data": {
            "image/png": "[encoded data removed]",
            "text/plain": [
              "<Figure size 432x288 with 1 Axes>"
            ]
          },
          "metadata": {
            "tags": [],
            "needs_background": "light"
          }
        }
      ]
    },
    {
      "cell_type": "code",
      "metadata": {
        "colab": {
          "base_uri": "https://localhost:8080/",
          "height": 374
        },
        "id": "k04SzpSgapVv",
        "outputId": "9c9d3d57-9d92-430c-cb1e-6d2a0ebc75f9"
      },
      "source": [
        "pie_plot(df1['genero'], np.zeros(4), 'Género')\n"
      ],
      "execution_count": 19,
      "outputs": [
        {
          "output_type": "display_data",
          "data": {
            "image/png": "[encoded data removed]",
            "text/plain": [
              "<Figure size 720x432 with 1 Axes>"
            ]
          },
          "metadata": {
            "tags": []
          }
        }
      ]
    },
    {
      "cell_type": "code",
      "metadata": {
        "colab": {
          "base_uri": "https://localhost:8080/",
          "height": 266
        },
        "id": "Qvdqz8qNvODH",
        "outputId": "8c24f651-790e-4428-bfdf-8c8902940b61"
      },
      "source": [
        "tree_plot(df1['genero'], 'genero', 'Proporción de géneros')"
      ],
      "execution_count": 70,
      "outputs": [
        {
          "output_type": "display_data",
          "data": {
            "image/png": "[encoded data removed]",
            "text/plain": [
              "<Figure size 432x288 with 1 Axes>"
            ]
          },
          "metadata": {
            "tags": [],
            "needs_background": "light"
          }
        }
      ]
    },
    {
      "cell_type": "code",
      "metadata": {
        "colab": {
          "base_uri": "https://localhost:8080/",
          "height": 442
        },
        "id": "_7zaVamVe_SQ",
        "outputId": "e73a068f-9be2-4160-ca39-b22d81fee804"
      },
      "source": [
        "f, ax = plt.subplots(figsize=(10, 7))\n",
        "sns.violinplot(x=df1.genero, y=df1.edad, palette=\"BuPu\", inner='stick')\n",
        "plt.show()"
      ],
      "execution_count": 21,
      "outputs": [
        {
          "output_type": "display_data",
          "data": {
            "image/png": "[encoded data removed]",
            "text/plain": [
              "<Figure size 720x504 with 1 Axes>"
            ]
          },
          "metadata": {
            "tags": [],
            "needs_background": "light"
          }
        }
      ]
    },
    {
      "cell_type": "code",
      "metadata": {
        "colab": {
          "base_uri": "https://localhost:8080/",
          "height": 459
        },
        "id": "xDjlF_Ew5rIQ",
        "outputId": "e614aa2c-36c7-4a57-b7a1-c37846f3dff4"
      },
      "source": [
        "f, ax = plt.subplots(figsize=(10, 7))\n",
        "sns.violinplot(x=df1.cistrans, y=df1.edad, palette=\"pastel\", inner='stick')"
      ],
      "execution_count": 22,
      "outputs": [
        {
          "output_type": "execute_result",
          "data": {
            "text/plain": [
              "<matplotlib.axes._subplots.AxesSubplot at 0x7ff2195504d0>"
            ]
          },
          "metadata": {
            "tags": []
          },
          "execution_count": 22
        },
        {
          "output_type": "display_data",
          "data": {
            "image/png": "[encoded data removed]",
            "text/plain": [
              "<Figure size 720x504 with 1 Axes>"
            ]
          },
          "metadata": {
            "tags": [],
            "needs_background": "light"
          }
        }
      ]
    },
    {
      "cell_type": "markdown",
      "metadata": {
        "id": "ga7J3Kw_gHk6"
      },
      "source": [
        "##Juegos"
      ]
    },
    {
      "cell_type": "code",
      "metadata": {
        "colab": {
          "base_uri": "https://localhost:8080/"
        },
        "id": "1UPShoJytX5N",
        "outputId": "4e5b8ff5-9b52-47c2-9498-a5c9beecba38"
      },
      "source": [
        "type(df['juegos'])"
      ],
      "execution_count": 23,
      "outputs": [
        {
          "output_type": "execute_result",
          "data": {
            "text/plain": [
              "pandas.core.series.Series"
            ]
          },
          "metadata": {
            "tags": []
          },
          "execution_count": 23
        }
      ]
    },
    {
      "cell_type": "code",
      "metadata": {
        "colab": {
          "base_uri": "https://localhost:8080/"
        },
        "id": "jE5GItyGtyty",
        "outputId": "a5d69c8b-5ce3-4d58-ab3b-c0f1a1a496ca"
      },
      "source": [
        "juegos1 = df['juegos'].dropna()\n",
        "type(juegos1)"
      ],
      "execution_count": 24,
      "outputs": [
        {
          "output_type": "execute_result",
          "data": {
            "text/plain": [
              "pandas.core.series.Series"
            ]
          },
          "metadata": {
            "tags": []
          },
          "execution_count": 24
        }
      ]
    },
    {
      "cell_type": "code",
      "metadata": {
        "colab": {
          "base_uri": "https://localhost:8080/"
        },
        "id": "nv_2wzwitbWS",
        "outputId": "9f327d85-591f-4a8f-d3c3-c97ce7607ba9"
      },
      "source": [
        "juegos = [j.split(';') for j in juegos1]\n",
        "flat_list = [item for sublist in juegos for item in sublist]\n",
        "juegos_ = [i.split(', ') for i in flat_list]\n",
        "otra_vez = [item for sublist in juegos_ for item in sublist]\n",
        "print(len(otra_vez))"
      ],
      "execution_count": 25,
      "outputs": [
        {
          "output_type": "stream",
          "text": [
            "363\n"
          ],
          "name": "stdout"
        }
      ]
    },
    {
      "cell_type": "code",
      "metadata": {
        "colab": {
          "base_uri": "https://localhost:8080/"
        },
        "id": "yzfq7Hz7m1zk",
        "outputId": "f8049053-9d48-48cb-e40c-ccdd8e0a4292"
      },
      "source": [
        "contador = Counter(otra_vez)\n",
        "mas_comunes = contador.most_common(11)\n",
        "juegos_mas_comunes = pd.DataFrame(mas_comunes)\n",
        "juegos_mas_comunes\n",
        "print(mas_comunes)"
      ],
      "execution_count": 26,
      "outputs": [
        {
          "output_type": "stream",
          "text": [
            "[('Dungeons & Dragons 5E', 93), ('La Llamada de Cthulhu', 40), ('Vampiros', 35), ('Pathfinder', 33), ('Dungeons & Dragons 3.5', 32), ('Hombre Lobo', 9), ('GURPS', 9), ('PbtA', 8), ('Warhammer', 5), ('Indies', 5), ('Homebrew', 4)]\n"
          ],
          "name": "stdout"
        }
      ]
    },
    {
      "cell_type": "code",
      "metadata": {
        "id": "upKYsBzH8djk"
      },
      "source": [
        "#labels = [item[0] for item in mas_comunes]\n",
        "#cantidad = [item[1] for item in mas_comunes]\n",
        "#nbars = len(mas_comunes)\n",
        "\n",
        "#plt.bar(np.arange(nbars), cantidad, tick_label=labels)\n",
        "#plt.show()"
      ],
      "execution_count": 27,
      "outputs": []
    },
    {
      "cell_type": "code",
      "metadata": {
        "colab": {
          "base_uri": "https://localhost:8080/",
          "height": 390
        },
        "id": "6tjgC_FRAebo",
        "outputId": "5c88dda7-8a5c-404d-ab75-4ac84489f71d"
      },
      "source": [
        "datos = pd.DataFrame(mas_comunes)\n",
        "datos.columns=['juego', 'cantidad']\n",
        "datos"
      ],
      "execution_count": 28,
      "outputs": [
        {
          "output_type": "execute_result",
          "data": {
            "text/html": [
              "<div>\n",
              "<style scoped>\n",
              "    .dataframe tbody tr th:only-of-type {\n",
              "        vertical-align: middle;\n",
              "    }\n",
              "\n",
              "    .dataframe tbody tr th {\n",
              "        vertical-align: top;\n",
              "    }\n",
              "\n",
              "    .dataframe thead th {\n",
              "        text-align: right;\n",
              "    }\n",
              "</style>\n",
              "<table border=\"1\" class=\"dataframe\">\n",
              "  <thead>\n",
              "    <tr style=\"text-align: right;\">\n",
              "      <th></th>\n",
              "      <th>juego</th>\n",
              "      <th>cantidad</th>\n",
              "    </tr>\n",
              "  </thead>\n",
              "  <tbody>\n",
              "    <tr>\n",
              "      <th>0</th>\n",
              "      <td>Dungeons &amp; Dragons 5E</td>\n",
              "      <td>93</td>\n",
              "    </tr>\n",
              "    <tr>\n",
              "      <th>1</th>\n",
              "      <td>La Llamada de Cthulhu</td>\n",
              "      <td>40</td>\n",
              "    </tr>\n",
              "    <tr>\n",
              "      <th>2</th>\n",
              "      <td>Vampiros</td>\n",
              "      <td>35</td>\n",
              "    </tr>\n",
              "    <tr>\n",
              "      <th>3</th>\n",
              "      <td>Pathfinder</td>\n",
              "      <td>33</td>\n",
              "    </tr>\n",
              "    <tr>\n",
              "      <th>4</th>\n",
              "      <td>Dungeons &amp; Dragons 3.5</td>\n",
              "      <td>32</td>\n",
              "    </tr>\n",
              "    <tr>\n",
              "      <th>5</th>\n",
              "      <td>Hombre Lobo</td>\n",
              "      <td>9</td>\n",
              "    </tr>\n",
              "    <tr>\n",
              "      <th>6</th>\n",
              "      <td>GURPS</td>\n",
              "      <td>9</td>\n",
              "    </tr>\n",
              "    <tr>\n",
              "      <th>7</th>\n",
              "      <td>PbtA</td>\n",
              "      <td>8</td>\n",
              "    </tr>\n",
              "    <tr>\n",
              "      <th>8</th>\n",
              "      <td>Warhammer</td>\n",
              "      <td>5</td>\n",
              "    </tr>\n",
              "    <tr>\n",
              "      <th>9</th>\n",
              "      <td>Indies</td>\n",
              "      <td>5</td>\n",
              "    </tr>\n",
              "    <tr>\n",
              "      <th>10</th>\n",
              "      <td>Homebrew</td>\n",
              "      <td>4</td>\n",
              "    </tr>\n",
              "  </tbody>\n",
              "</table>\n",
              "</div>"
            ],
            "text/plain": [
              "                     juego  cantidad\n",
              "0    Dungeons & Dragons 5E        93\n",
              "1    La Llamada de Cthulhu        40\n",
              "2                 Vampiros        35\n",
              "3               Pathfinder        33\n",
              "4   Dungeons & Dragons 3.5        32\n",
              "5              Hombre Lobo         9\n",
              "6                    GURPS         9\n",
              "7                     PbtA         8\n",
              "8                Warhammer         5\n",
              "9                   Indies         5\n",
              "10                Homebrew         4"
            ]
          },
          "metadata": {
            "tags": []
          },
          "execution_count": 28
        }
      ]
    },
    {
      "cell_type": "code",
      "metadata": {
        "colab": {
          "base_uri": "https://localhost:8080/",
          "height": 279
        },
        "id": "OTvolOp4BPY7",
        "outputId": "553b060c-a68d-455a-8863-fa729534d0e8"
      },
      "source": [
        "ax = sns.barplot(x='cantidad', y='juego', data=datos)"
      ],
      "execution_count": 29,
      "outputs": [
        {
          "output_type": "display_data",
          "data": {
            "image/png": "[encoded data removed]",
            "text/plain": [
              "<Figure size 432x288 with 1 Axes>"
            ]
          },
          "metadata": {
            "tags": [],
            "needs_background": "light"
          }
        }
      ]
    },
    {
      "cell_type": "code",
      "metadata": {
        "colab": {
          "base_uri": "https://localhost:8080/",
          "height": 390
        },
        "id": "3P5SViZgCLHM",
        "outputId": "f64b821b-8bca-48bd-e446-1a522c3b6a9d"
      },
      "source": [
        "total = len(otra_vez)\n",
        "datos['porcentaje'] = ((datos['cantidad']*100)/total)\n",
        "datos"
      ],
      "execution_count": 30,
      "outputs": [
        {
          "output_type": "execute_result",
          "data": {
            "text/html": [
              "<div>\n",
              "<style scoped>\n",
              "    .dataframe tbody tr th:only-of-type {\n",
              "        vertical-align: middle;\n",
              "    }\n",
              "\n",
              "    .dataframe tbody tr th {\n",
              "        vertical-align: top;\n",
              "    }\n",
              "\n",
              "    .dataframe thead th {\n",
              "        text-align: right;\n",
              "    }\n",
              "</style>\n",
              "<table border=\"1\" class=\"dataframe\">\n",
              "  <thead>\n",
              "    <tr style=\"text-align: right;\">\n",
              "      <th></th>\n",
              "      <th>juego</th>\n",
              "      <th>cantidad</th>\n",
              "      <th>porcentaje</th>\n",
              "    </tr>\n",
              "  </thead>\n",
              "  <tbody>\n",
              "    <tr>\n",
              "      <th>0</th>\n",
              "      <td>Dungeons &amp; Dragons 5E</td>\n",
              "      <td>93</td>\n",
              "      <td>25.619835</td>\n",
              "    </tr>\n",
              "    <tr>\n",
              "      <th>1</th>\n",
              "      <td>La Llamada de Cthulhu</td>\n",
              "      <td>40</td>\n",
              "      <td>11.019284</td>\n",
              "    </tr>\n",
              "    <tr>\n",
              "      <th>2</th>\n",
              "      <td>Vampiros</td>\n",
              "      <td>35</td>\n",
              "      <td>9.641873</td>\n",
              "    </tr>\n",
              "    <tr>\n",
              "      <th>3</th>\n",
              "      <td>Pathfinder</td>\n",
              "      <td>33</td>\n",
              "      <td>9.090909</td>\n",
              "    </tr>\n",
              "    <tr>\n",
              "      <th>4</th>\n",
              "      <td>Dungeons &amp; Dragons 3.5</td>\n",
              "      <td>32</td>\n",
              "      <td>8.815427</td>\n",
              "    </tr>\n",
              "    <tr>\n",
              "      <th>5</th>\n",
              "      <td>Hombre Lobo</td>\n",
              "      <td>9</td>\n",
              "      <td>2.479339</td>\n",
              "    </tr>\n",
              "    <tr>\n",
              "      <th>6</th>\n",
              "      <td>GURPS</td>\n",
              "      <td>9</td>\n",
              "      <td>2.479339</td>\n",
              "    </tr>\n",
              "    <tr>\n",
              "      <th>7</th>\n",
              "      <td>PbtA</td>\n",
              "      <td>8</td>\n",
              "      <td>2.203857</td>\n",
              "    </tr>\n",
              "    <tr>\n",
              "      <th>8</th>\n",
              "      <td>Warhammer</td>\n",
              "      <td>5</td>\n",
              "      <td>1.377410</td>\n",
              "    </tr>\n",
              "    <tr>\n",
              "      <th>9</th>\n",
              "      <td>Indies</td>\n",
              "      <td>5</td>\n",
              "      <td>1.377410</td>\n",
              "    </tr>\n",
              "    <tr>\n",
              "      <th>10</th>\n",
              "      <td>Homebrew</td>\n",
              "      <td>4</td>\n",
              "      <td>1.101928</td>\n",
              "    </tr>\n",
              "  </tbody>\n",
              "</table>\n",
              "</div>"
            ],
            "text/plain": [
              "                     juego  cantidad  porcentaje\n",
              "0    Dungeons & Dragons 5E        93   25.619835\n",
              "1    La Llamada de Cthulhu        40   11.019284\n",
              "2                 Vampiros        35    9.641873\n",
              "3               Pathfinder        33    9.090909\n",
              "4   Dungeons & Dragons 3.5        32    8.815427\n",
              "5              Hombre Lobo         9    2.479339\n",
              "6                    GURPS         9    2.479339\n",
              "7                     PbtA         8    2.203857\n",
              "8                Warhammer         5    1.377410\n",
              "9                   Indies         5    1.377410\n",
              "10                Homebrew         4    1.101928"
            ]
          },
          "metadata": {
            "tags": []
          },
          "execution_count": 30
        }
      ]
    },
    {
      "cell_type": "code",
      "metadata": {
        "colab": {
          "base_uri": "https://localhost:8080/",
          "height": 279
        },
        "id": "qDQM1B4BC05s",
        "outputId": "1833628f-0b10-464d-be3b-9ba0db817939"
      },
      "source": [
        "ax = sns.barplot(x='porcentaje', y='juego', data=datos)"
      ],
      "execution_count": 31,
      "outputs": [
        {
          "output_type": "display_data",
          "data": {
            "image/png": "[encoded data removed]",
            "text/plain": [
              "<Figure size 432x288 with 1 Axes>"
            ]
          },
          "metadata": {
            "tags": [],
            "needs_background": "light"
          }
        }
      ]
    },
    {
      "cell_type": "code",
      "metadata": {
        "id": "pmYfcVslHN_M"
      },
      "source": [
        "#Falta hacerlo por género"
      ],
      "execution_count": 32,
      "outputs": []
    },
    {
      "cell_type": "markdown",
      "metadata": {
        "id": "UxUK8DhVHQXG"
      },
      "source": [
        "##Cis/Trans"
      ]
    },
    {
      "cell_type": "code",
      "metadata": {
        "colab": {
          "base_uri": "https://localhost:8080/",
          "height": 306
        },
        "id": "oxOh9U6DHQ1V",
        "outputId": "fa664fb1-8fd2-4f7f-b90e-28a5e1d85200"
      },
      "source": [
        "df1.head()"
      ],
      "execution_count": 33,
      "outputs": [
        {
          "output_type": "execute_result",
          "data": {
            "text/html": [
              "<div>\n",
              "<style scoped>\n",
              "    .dataframe tbody tr th:only-of-type {\n",
              "        vertical-align: middle;\n",
              "    }\n",
              "\n",
              "    .dataframe tbody tr th {\n",
              "        vertical-align: top;\n",
              "    }\n",
              "\n",
              "    .dataframe thead th {\n",
              "        text-align: right;\n",
              "    }\n",
              "</style>\n",
              "<table border=\"1\" class=\"dataframe\">\n",
              "  <thead>\n",
              "    <tr style=\"text-align: right;\">\n",
              "      <th></th>\n",
              "      <th>edad</th>\n",
              "      <th>juegos</th>\n",
              "      <th>rol</th>\n",
              "      <th>genero</th>\n",
              "      <th>cistrans</th>\n",
              "      <th>sexualidad</th>\n",
              "      <th>discriminacion_personal</th>\n",
              "      <th>discriminacion_otre</th>\n",
              "      <th>reaccion</th>\n",
              "      <th>grupo</th>\n",
              "      <th>nacimiento</th>\n",
              "      <th>residencia</th>\n",
              "    </tr>\n",
              "  </thead>\n",
              "  <tbody>\n",
              "    <tr>\n",
              "      <th>0</th>\n",
              "      <td>29.0</td>\n",
              "      <td>Dungeons &amp; Dragons 5E</td>\n",
              "      <td>Jugador</td>\n",
              "      <td>Mujer</td>\n",
              "      <td>Cis</td>\n",
              "      <td>Heterosexual</td>\n",
              "      <td>No estoy segurx</td>\n",
              "      <td>No estoy segurx</td>\n",
              "      <td>Sí</td>\n",
              "      <td>Mayoría de varones</td>\n",
              "      <td>Argentina</td>\n",
              "      <td>Argentina</td>\n",
              "    </tr>\n",
              "    <tr>\n",
              "      <th>1</th>\n",
              "      <td>29.0</td>\n",
              "      <td>Dungeons &amp; Dragons 5E</td>\n",
              "      <td>Jugadorx</td>\n",
              "      <td>Mujer</td>\n",
              "      <td>Cis</td>\n",
              "      <td>Heterosexual</td>\n",
              "      <td>No</td>\n",
              "      <td>No</td>\n",
              "      <td>NaN</td>\n",
              "      <td>Mayoría de varones</td>\n",
              "      <td>Argentina</td>\n",
              "      <td>Argentina</td>\n",
              "    </tr>\n",
              "    <tr>\n",
              "      <th>2</th>\n",
              "      <td>32.0</td>\n",
              "      <td>Dungeons &amp; Dragons 5E, Dungeons &amp; Dragons 3.5</td>\n",
              "      <td>Ambos</td>\n",
              "      <td>Varón</td>\n",
              "      <td>Cis</td>\n",
              "      <td>Heterosexual</td>\n",
              "      <td>No</td>\n",
              "      <td>No</td>\n",
              "      <td>NaN</td>\n",
              "      <td>Mayoría de varones</td>\n",
              "      <td>Argentina</td>\n",
              "      <td>Argentina</td>\n",
              "    </tr>\n",
              "    <tr>\n",
              "      <th>3</th>\n",
              "      <td>32.0</td>\n",
              "      <td>Dungeons &amp; Dragons 3.5, Homebrew</td>\n",
              "      <td>Jugadorx</td>\n",
              "      <td>Varón</td>\n",
              "      <td>Cis</td>\n",
              "      <td>Heterosexual</td>\n",
              "      <td>No</td>\n",
              "      <td>No</td>\n",
              "      <td>NaN</td>\n",
              "      <td>Mayoría de varones</td>\n",
              "      <td>Argentina</td>\n",
              "      <td>Argentina</td>\n",
              "    </tr>\n",
              "    <tr>\n",
              "      <th>4</th>\n",
              "      <td>30.0</td>\n",
              "      <td>Dungeons &amp; Dragons 5E, Dungeons &amp; Dragons 3.5,...</td>\n",
              "      <td>Ambos</td>\n",
              "      <td>Varón</td>\n",
              "      <td>NaN</td>\n",
              "      <td>Heterosexual</td>\n",
              "      <td>No</td>\n",
              "      <td>No</td>\n",
              "      <td>NaN</td>\n",
              "      <td>Mayoría de varones</td>\n",
              "      <td>Argentina</td>\n",
              "      <td>Argentina</td>\n",
              "    </tr>\n",
              "  </tbody>\n",
              "</table>\n",
              "</div>"
            ],
            "text/plain": [
              "   edad  ... residencia\n",
              "0  29.0  ...  Argentina\n",
              "1  29.0  ...  Argentina\n",
              "2  32.0  ...  Argentina\n",
              "3  32.0  ...  Argentina\n",
              "4  30.0  ...  Argentina\n",
              "\n",
              "[5 rows x 12 columns]"
            ]
          },
          "metadata": {
            "tags": []
          },
          "execution_count": 33
        }
      ]
    },
    {
      "cell_type": "code",
      "metadata": {
        "colab": {
          "base_uri": "https://localhost:8080/",
          "height": 296
        },
        "id": "L5j4jjCjV_Dl",
        "outputId": "6da9dd29-68e0-46b9-8cff-84afbaf38539"
      },
      "source": [
        "sns.countplot(x=\"cistrans\", data=df1, palette='rocket')"
      ],
      "execution_count": 34,
      "outputs": [
        {
          "output_type": "execute_result",
          "data": {
            "text/plain": [
              "<matplotlib.axes._subplots.AxesSubplot at 0x7ff21937b510>"
            ]
          },
          "metadata": {
            "tags": []
          },
          "execution_count": 34
        },
        {
          "output_type": "display_data",
          "data": {
            "image/png": "[encoded data removed]",
            "text/plain": [
              "<Figure size 432x288 with 1 Axes>"
            ]
          },
          "metadata": {
            "tags": [],
            "needs_background": "light"
          }
        }
      ]
    },
    {
      "cell_type": "code",
      "metadata": {
        "colab": {
          "base_uri": "https://localhost:8080/",
          "height": 374
        },
        "id": "KzfQ0RcsuYBW",
        "outputId": "04218ff4-79cc-4b0e-9228-326b4048ce18"
      },
      "source": [
        "#datos = df1['cistrans']\n",
        "pie_plot(df1['cistrans'],[0,.1,0], 'Cis o Trans')"
      ],
      "execution_count": 35,
      "outputs": [
        {
          "output_type": "display_data",
          "data": {
            "image/png": "[encoded data removed]",
            "text/plain": [
              "<Figure size 720x432 with 1 Axes>"
            ]
          },
          "metadata": {
            "tags": []
          }
        }
      ]
    },
    {
      "cell_type": "markdown",
      "metadata": {
        "id": "GGeyHb48cKxP"
      },
      "source": [
        "##Sexualidad"
      ]
    },
    {
      "cell_type": "code",
      "metadata": {
        "id": "TJCquoSoy03W"
      },
      "source": [
        "palette = sns.color_palette(\"rocket\")"
      ],
      "execution_count": 36,
      "outputs": []
    },
    {
      "cell_type": "code",
      "metadata": {
        "colab": {
          "base_uri": "https://localhost:8080/"
        },
        "id": "2s-JNtXGwaGS",
        "outputId": "e5cc8dbb-26f6-431d-b016-d3cff55b8ba4"
      },
      "source": [
        "df1['sexualidad'].value_counts()"
      ],
      "execution_count": 37,
      "outputs": [
        {
          "output_type": "execute_result",
          "data": {
            "text/plain": [
              "Heterosexual    78\n",
              "Bisexual        40\n",
              "Homosexual      11\n",
              "Pansexual        7\n",
              "Asexual          6\n",
              "Otro             4\n",
              "Name: sexualidad, dtype: int64"
            ]
          },
          "metadata": {
            "tags": []
          },
          "execution_count": 37
        }
      ]
    },
    {
      "cell_type": "code",
      "metadata": {
        "colab": {
          "base_uri": "https://localhost:8080/",
          "height": 374
        },
        "id": "uzOiae6xvwuR",
        "outputId": "e90cec80-fe69-4277-948a-a0adab155ed1"
      },
      "source": [
        "pie_plot(df1['sexualidad'], np.zeros(6), ' ')"
      ],
      "execution_count": 38,
      "outputs": [
        {
          "output_type": "display_data",
          "data": {
            "image/png": "[encoded data removed]",
            "text/plain": [
              "<Figure size 720x432 with 1 Axes>"
            ]
          },
          "metadata": {
            "tags": []
          }
        }
      ]
    },
    {
      "cell_type": "markdown",
      "metadata": {
        "id": "cBT8Fywub04u"
      },
      "source": [
        "##Discriminación"
      ]
    },
    {
      "cell_type": "code",
      "metadata": {
        "colab": {
          "base_uri": "https://localhost:8080/",
          "height": 306
        },
        "id": "e2hEikSPb1PT",
        "outputId": "11c40bc5-4a8a-427d-8e38-2058e84cbfcf"
      },
      "source": [
        "df1.head()"
      ],
      "execution_count": 39,
      "outputs": [
        {
          "output_type": "execute_result",
          "data": {
            "text/html": [
              "<div>\n",
              "<style scoped>\n",
              "    .dataframe tbody tr th:only-of-type {\n",
              "        vertical-align: middle;\n",
              "    }\n",
              "\n",
              "    .dataframe tbody tr th {\n",
              "        vertical-align: top;\n",
              "    }\n",
              "\n",
              "    .dataframe thead th {\n",
              "        text-align: right;\n",
              "    }\n",
              "</style>\n",
              "<table border=\"1\" class=\"dataframe\">\n",
              "  <thead>\n",
              "    <tr style=\"text-align: right;\">\n",
              "      <th></th>\n",
              "      <th>edad</th>\n",
              "      <th>juegos</th>\n",
              "      <th>rol</th>\n",
              "      <th>genero</th>\n",
              "      <th>cistrans</th>\n",
              "      <th>sexualidad</th>\n",
              "      <th>discriminacion_personal</th>\n",
              "      <th>discriminacion_otre</th>\n",
              "      <th>reaccion</th>\n",
              "      <th>grupo</th>\n",
              "      <th>nacimiento</th>\n",
              "      <th>residencia</th>\n",
              "    </tr>\n",
              "  </thead>\n",
              "  <tbody>\n",
              "    <tr>\n",
              "      <th>0</th>\n",
              "      <td>29.0</td>\n",
              "      <td>Dungeons &amp; Dragons 5E</td>\n",
              "      <td>Jugador</td>\n",
              "      <td>Mujer</td>\n",
              "      <td>Cis</td>\n",
              "      <td>Heterosexual</td>\n",
              "      <td>No estoy segurx</td>\n",
              "      <td>No estoy segurx</td>\n",
              "      <td>Sí</td>\n",
              "      <td>Mayoría de varones</td>\n",
              "      <td>Argentina</td>\n",
              "      <td>Argentina</td>\n",
              "    </tr>\n",
              "    <tr>\n",
              "      <th>1</th>\n",
              "      <td>29.0</td>\n",
              "      <td>Dungeons &amp; Dragons 5E</td>\n",
              "      <td>Jugadorx</td>\n",
              "      <td>Mujer</td>\n",
              "      <td>Cis</td>\n",
              "      <td>Heterosexual</td>\n",
              "      <td>No</td>\n",
              "      <td>No</td>\n",
              "      <td>NaN</td>\n",
              "      <td>Mayoría de varones</td>\n",
              "      <td>Argentina</td>\n",
              "      <td>Argentina</td>\n",
              "    </tr>\n",
              "    <tr>\n",
              "      <th>2</th>\n",
              "      <td>32.0</td>\n",
              "      <td>Dungeons &amp; Dragons 5E, Dungeons &amp; Dragons 3.5</td>\n",
              "      <td>Ambos</td>\n",
              "      <td>Varón</td>\n",
              "      <td>Cis</td>\n",
              "      <td>Heterosexual</td>\n",
              "      <td>No</td>\n",
              "      <td>No</td>\n",
              "      <td>NaN</td>\n",
              "      <td>Mayoría de varones</td>\n",
              "      <td>Argentina</td>\n",
              "      <td>Argentina</td>\n",
              "    </tr>\n",
              "    <tr>\n",
              "      <th>3</th>\n",
              "      <td>32.0</td>\n",
              "      <td>Dungeons &amp; Dragons 3.5, Homebrew</td>\n",
              "      <td>Jugadorx</td>\n",
              "      <td>Varón</td>\n",
              "      <td>Cis</td>\n",
              "      <td>Heterosexual</td>\n",
              "      <td>No</td>\n",
              "      <td>No</td>\n",
              "      <td>NaN</td>\n",
              "      <td>Mayoría de varones</td>\n",
              "      <td>Argentina</td>\n",
              "      <td>Argentina</td>\n",
              "    </tr>\n",
              "    <tr>\n",
              "      <th>4</th>\n",
              "      <td>30.0</td>\n",
              "      <td>Dungeons &amp; Dragons 5E, Dungeons &amp; Dragons 3.5,...</td>\n",
              "      <td>Ambos</td>\n",
              "      <td>Varón</td>\n",
              "      <td>NaN</td>\n",
              "      <td>Heterosexual</td>\n",
              "      <td>No</td>\n",
              "      <td>No</td>\n",
              "      <td>NaN</td>\n",
              "      <td>Mayoría de varones</td>\n",
              "      <td>Argentina</td>\n",
              "      <td>Argentina</td>\n",
              "    </tr>\n",
              "  </tbody>\n",
              "</table>\n",
              "</div>"
            ],
            "text/plain": [
              "   edad  ... residencia\n",
              "0  29.0  ...  Argentina\n",
              "1  29.0  ...  Argentina\n",
              "2  32.0  ...  Argentina\n",
              "3  32.0  ...  Argentina\n",
              "4  30.0  ...  Argentina\n",
              "\n",
              "[5 rows x 12 columns]"
            ]
          },
          "metadata": {
            "tags": []
          },
          "execution_count": 39
        }
      ]
    },
    {
      "cell_type": "code",
      "metadata": {
        "colab": {
          "base_uri": "https://localhost:8080/",
          "height": 374
        },
        "id": "szPtCQ9McEnr",
        "outputId": "7d02398c-8d8a-47c8-ac0d-c70f696ae633"
      },
      "source": [
        "pie_plot(df1['discriminacion_personal'], [0,0,.2], 'Te sentiste discriminadx?')"
      ],
      "execution_count": 40,
      "outputs": [
        {
          "output_type": "display_data",
          "data": {
            "image/png": "[encoded data removed]",
            "text/plain": [
              "<Figure size 720x432 with 1 Axes>"
            ]
          },
          "metadata": {
            "tags": []
          }
        }
      ]
    },
    {
      "cell_type": "code",
      "metadata": {
        "colab": {
          "base_uri": "https://localhost:8080/",
          "height": 374
        },
        "id": "ypbQmEfLcEZ3",
        "outputId": "2058c3d4-1285-42e3-e85a-1e59b0d754ab"
      },
      "source": [
        "pie_plot(df1['discriminacion_otre'], [0,.1,0], 'Presenciaste discriminación?')"
      ],
      "execution_count": 41,
      "outputs": [
        {
          "output_type": "display_data",
          "data": {
            "image/png": "[encoded data removed]",
            "text/plain": [
              "<Figure size 720x432 with 1 Axes>"
            ]
          },
          "metadata": {
            "tags": []
          }
        }
      ]
    },
    {
      "cell_type": "code",
      "metadata": {
        "colab": {
          "base_uri": "https://localhost:8080/",
          "height": 374
        },
        "id": "R29Ry2VwcERP",
        "outputId": "27bca213-20eb-47b5-d15a-2e9c6e53b5c3"
      },
      "source": [
        "pie_plot(df1['reaccion'], np.zeros(3), 'Reaccionaste?')\n",
        "#df1.reaccion.str.get_dummies().sum().plot.pie(label='Reaccionaste?', autopct='%1.0f%%')"
      ],
      "execution_count": 42,
      "outputs": [
        {
          "output_type": "display_data",
          "data": {
            "image/png": "[encoded data removed]",
            "text/plain": [
              "<Figure size 720x432 with 1 Axes>"
            ]
          },
          "metadata": {
            "tags": []
          }
        }
      ]
    },
    {
      "cell_type": "code",
      "metadata": {
        "colab": {
          "base_uri": "https://localhost:8080/",
          "height": 375
        },
        "id": "PMYjI9IQ2j7h",
        "outputId": "0d32326a-9de6-4ada-daa9-54af72d1b45d"
      },
      "source": [
        "pie_plot(df1['grupo'], np.zeros(5), 'Composición de los grupos')"
      ],
      "execution_count": 43,
      "outputs": [
        {
          "output_type": "display_data",
          "data": {
            "image/png": "[encoded data removed]",
            "text/plain": [
              "<Figure size 720x432 with 1 Axes>"
            ]
          },
          "metadata": {
            "tags": []
          }
        }
      ]
    },
    {
      "cell_type": "markdown",
      "metadata": {
        "id": "IA_XRBo3iLxE"
      },
      "source": [
        "##Correlaciones"
      ]
    },
    {
      "cell_type": "code",
      "metadata": {
        "colab": {
          "base_uri": "https://localhost:8080/",
          "height": 306
        },
        "id": "P2kwHc8xiLcm",
        "outputId": "5710e52b-8f50-4a63-fc77-fa6bd75b0373"
      },
      "source": [
        "df1.head()"
      ],
      "execution_count": 44,
      "outputs": [
        {
          "output_type": "execute_result",
          "data": {
            "text/html": [
              "<div>\n",
              "<style scoped>\n",
              "    .dataframe tbody tr th:only-of-type {\n",
              "        vertical-align: middle;\n",
              "    }\n",
              "\n",
              "    .dataframe tbody tr th {\n",
              "        vertical-align: top;\n",
              "    }\n",
              "\n",
              "    .dataframe thead th {\n",
              "        text-align: right;\n",
              "    }\n",
              "</style>\n",
              "<table border=\"1\" class=\"dataframe\">\n",
              "  <thead>\n",
              "    <tr style=\"text-align: right;\">\n",
              "      <th></th>\n",
              "      <th>edad</th>\n",
              "      <th>juegos</th>\n",
              "      <th>rol</th>\n",
              "      <th>genero</th>\n",
              "      <th>cistrans</th>\n",
              "      <th>sexualidad</th>\n",
              "      <th>discriminacion_personal</th>\n",
              "      <th>discriminacion_otre</th>\n",
              "      <th>reaccion</th>\n",
              "      <th>grupo</th>\n",
              "      <th>nacimiento</th>\n",
              "      <th>residencia</th>\n",
              "    </tr>\n",
              "  </thead>\n",
              "  <tbody>\n",
              "    <tr>\n",
              "      <th>0</th>\n",
              "      <td>29.0</td>\n",
              "      <td>Dungeons &amp; Dragons 5E</td>\n",
              "      <td>Jugador</td>\n",
              "      <td>Mujer</td>\n",
              "      <td>Cis</td>\n",
              "      <td>Heterosexual</td>\n",
              "      <td>No estoy segurx</td>\n",
              "      <td>No estoy segurx</td>\n",
              "      <td>Sí</td>\n",
              "      <td>Mayoría de varones</td>\n",
              "      <td>Argentina</td>\n",
              "      <td>Argentina</td>\n",
              "    </tr>\n",
              "    <tr>\n",
              "      <th>1</th>\n",
              "      <td>29.0</td>\n",
              "      <td>Dungeons &amp; Dragons 5E</td>\n",
              "      <td>Jugadorx</td>\n",
              "      <td>Mujer</td>\n",
              "      <td>Cis</td>\n",
              "      <td>Heterosexual</td>\n",
              "      <td>No</td>\n",
              "      <td>No</td>\n",
              "      <td>NaN</td>\n",
              "      <td>Mayoría de varones</td>\n",
              "      <td>Argentina</td>\n",
              "      <td>Argentina</td>\n",
              "    </tr>\n",
              "    <tr>\n",
              "      <th>2</th>\n",
              "      <td>32.0</td>\n",
              "      <td>Dungeons &amp; Dragons 5E, Dungeons &amp; Dragons 3.5</td>\n",
              "      <td>Ambos</td>\n",
              "      <td>Varón</td>\n",
              "      <td>Cis</td>\n",
              "      <td>Heterosexual</td>\n",
              "      <td>No</td>\n",
              "      <td>No</td>\n",
              "      <td>NaN</td>\n",
              "      <td>Mayoría de varones</td>\n",
              "      <td>Argentina</td>\n",
              "      <td>Argentina</td>\n",
              "    </tr>\n",
              "    <tr>\n",
              "      <th>3</th>\n",
              "      <td>32.0</td>\n",
              "      <td>Dungeons &amp; Dragons 3.5, Homebrew</td>\n",
              "      <td>Jugadorx</td>\n",
              "      <td>Varón</td>\n",
              "      <td>Cis</td>\n",
              "      <td>Heterosexual</td>\n",
              "      <td>No</td>\n",
              "      <td>No</td>\n",
              "      <td>NaN</td>\n",
              "      <td>Mayoría de varones</td>\n",
              "      <td>Argentina</td>\n",
              "      <td>Argentina</td>\n",
              "    </tr>\n",
              "    <tr>\n",
              "      <th>4</th>\n",
              "      <td>30.0</td>\n",
              "      <td>Dungeons &amp; Dragons 5E, Dungeons &amp; Dragons 3.5,...</td>\n",
              "      <td>Ambos</td>\n",
              "      <td>Varón</td>\n",
              "      <td>NaN</td>\n",
              "      <td>Heterosexual</td>\n",
              "      <td>No</td>\n",
              "      <td>No</td>\n",
              "      <td>NaN</td>\n",
              "      <td>Mayoría de varones</td>\n",
              "      <td>Argentina</td>\n",
              "      <td>Argentina</td>\n",
              "    </tr>\n",
              "  </tbody>\n",
              "</table>\n",
              "</div>"
            ],
            "text/plain": [
              "   edad  ... residencia\n",
              "0  29.0  ...  Argentina\n",
              "1  29.0  ...  Argentina\n",
              "2  32.0  ...  Argentina\n",
              "3  32.0  ...  Argentina\n",
              "4  30.0  ...  Argentina\n",
              "\n",
              "[5 rows x 12 columns]"
            ]
          },
          "metadata": {
            "tags": []
          },
          "execution_count": 44
        }
      ]
    },
    {
      "cell_type": "code",
      "metadata": {
        "colab": {
          "base_uri": "https://localhost:8080/"
        },
        "id": "gH_azGLGiPas",
        "outputId": "6964d7dc-13ad-4e78-d2d6-76e080b5df33"
      },
      "source": [
        "cramers_v(df1['genero'], df1['discriminacion_personal'])"
      ],
      "execution_count": 45,
      "outputs": [
        {
          "output_type": "execute_result",
          "data": {
            "text/plain": [
              "0.25008724071461536"
            ]
          },
          "metadata": {
            "tags": []
          },
          "execution_count": 45
        }
      ]
    },
    {
      "cell_type": "code",
      "metadata": {
        "colab": {
          "base_uri": "https://localhost:8080/"
        },
        "id": "Wxl2tRXpw66o",
        "outputId": "705de795-a862-440c-e1a9-3fe298786578"
      },
      "source": [
        "cramers_v(df1['genero'], df1['discriminacion_otre'])"
      ],
      "execution_count": 46,
      "outputs": [
        {
          "output_type": "execute_result",
          "data": {
            "text/plain": [
              "0.0"
            ]
          },
          "metadata": {
            "tags": []
          },
          "execution_count": 46
        }
      ]
    },
    {
      "cell_type": "code",
      "metadata": {
        "colab": {
          "base_uri": "https://localhost:8080/"
        },
        "id": "hz4fVNvmxIWU",
        "outputId": "888449ee-261b-433c-e4b6-61d0c2ee235f"
      },
      "source": [
        "cramers_v(df1['sexualidad'], df1['discriminacion_personal'])"
      ],
      "execution_count": 47,
      "outputs": [
        {
          "output_type": "execute_result",
          "data": {
            "text/plain": [
              "0.10341231498049532"
            ]
          },
          "metadata": {
            "tags": []
          },
          "execution_count": 47
        }
      ]
    },
    {
      "cell_type": "code",
      "metadata": {
        "colab": {
          "base_uri": "https://localhost:8080/"
        },
        "id": "rMZZTxx9xNoI",
        "outputId": "3ede22af-69cd-4fa9-8d6c-fb657882b235"
      },
      "source": [
        "cramers_v(df1['cistrans'], df1['discriminacion_personal'])"
      ],
      "execution_count": 48,
      "outputs": [
        {
          "output_type": "execute_result",
          "data": {
            "text/plain": [
              "0.1839448873582002"
            ]
          },
          "metadata": {
            "tags": []
          },
          "execution_count": 48
        }
      ]
    },
    {
      "cell_type": "code",
      "metadata": {
        "colab": {
          "base_uri": "https://localhost:8080/"
        },
        "id": "_Qv75qGRvG8V",
        "outputId": "cf250f02-c3f8-4a1f-e8d4-1bf8eec9f501"
      },
      "source": [
        "# importing the required function\n",
        "from scipy.stats import chi2_contingency\n",
        "\n",
        "CrosstabResult=pd.crosstab(index=df1['genero'],columns=df1['discriminacion_personal'])\n",
        "print(CrosstabResult)\n",
        " \n",
        "# Performing Chi-sq test\n",
        "ChiSqResult = chi2_contingency(CrosstabResult)\n",
        " \n",
        "# P-Value is the Probability of H0 being True\n",
        "# If P-Value>0.05 then only we Accept the assumption(H0)\n",
        " \n",
        "print('The P-Value of the ChiSq Test is:', ChiSqResult[1])"
      ],
      "execution_count": 49,
      "outputs": [
        {
          "output_type": "stream",
          "text": [
            "discriminacion_personal  No  No estoy segurx  Sí\n",
            "genero                                          \n",
            "Mujer                    34                8   6\n",
            "No binarie                8                1   3\n",
            "Otro                      1                2   1\n",
            "Varón                    76                3   3\n",
            "The P-Value of the ChiSq Test is: 0.0005108324495840528\n"
          ],
          "name": "stdout"
        }
      ]
    },
    {
      "cell_type": "code",
      "metadata": {
        "colab": {
          "base_uri": "https://localhost:8080/",
          "height": 297
        },
        "id": "A6KUn2yqvbA2",
        "outputId": "80ebe9a9-e96b-48c5-e4e7-4e216f97b231"
      },
      "source": [
        "sns.heatmap(CrosstabResult)"
      ],
      "execution_count": 50,
      "outputs": [
        {
          "output_type": "execute_result",
          "data": {
            "text/plain": [
              "<matplotlib.axes._subplots.AxesSubplot at 0x7ff2193f6390>"
            ]
          },
          "metadata": {
            "tags": []
          },
          "execution_count": 50
        },
        {
          "output_type": "display_data",
          "data": {
            "image/png": "[encoded data removed]",
            "text/plain": [
              "<Figure size 432x288 with 2 Axes>"
            ]
          },
          "metadata": {
            "tags": [],
            "needs_background": "light"
          }
        }
      ]
    },
    {
      "cell_type": "code",
      "metadata": {
        "colab": {
          "base_uri": "https://localhost:8080/",
          "height": 398
        },
        "id": "i9_qkn2p0JQ4",
        "outputId": "685e4622-a42b-4dfc-9bb7-3015e7ba2774"
      },
      "source": [
        "heat_map(df1['genero'], df1['rol'])"
      ],
      "execution_count": 51,
      "outputs": [
        {
          "output_type": "execute_result",
          "data": {
            "text/plain": [
              "(rol         Ambos  GM  Jugador  Jugadorx\n",
              " genero                                  \n",
              " Mujer          13   0        1        33\n",
              " No binarie      6   1        0         5\n",
              " Otro            3   0        0         1\n",
              " Varón          46   8        0        28,\n",
              " <matplotlib.axes._subplots.AxesSubplot at 0x7ff218fb0c90>)"
            ]
          },
          "metadata": {
            "tags": []
          },
          "execution_count": 51
        },
        {
          "output_type": "display_data",
          "data": {
            "image/png": "[encoded data removed]",
            "text/plain": [
              "<Figure size 432x288 with 2 Axes>"
            ]
          },
          "metadata": {
            "tags": [],
            "needs_background": "light"
          }
        }
      ]
    },
    {
      "cell_type": "code",
      "metadata": {
        "colab": {
          "base_uri": "https://localhost:8080/",
          "height": 221
        },
        "id": "I89YZzSAx5Aw",
        "outputId": "22cb5797-6d77-4b26-94f8-229d77462fdd"
      },
      "source": [
        "# importing the required function\n",
        "from scipy.stats import chi2_contingency\n",
        "\n",
        "CrosstabResult=pd.crosstab(index=df1['genero'],columns=df1['grupo'])\n",
        "#print(CrosstabResult)\n",
        " \n",
        "# Performing Chi-sq test\n",
        "ChiSqResult = chi2_contingency(CrosstabResult)\n",
        " \n",
        "# P-Value is the Probability of H0 being True\n",
        "# If P-Value>0.05 then only we Accept the assumption(H0)\n",
        "\n",
        "print('The P-Value of the ChiSq Test is:', ChiSqResult[1])\n",
        "CrosstabResult"
      ],
      "execution_count": 52,
      "outputs": [
        {
          "output_type": "stream",
          "text": [
            "The P-Value of the ChiSq Test is: 0.0010597859757829522\n"
          ],
          "name": "stdout"
        },
        {
          "output_type": "execute_result",
          "data": {
            "text/html": [
              "<div>\n",
              "<style scoped>\n",
              "    .dataframe tbody tr th:only-of-type {\n",
              "        vertical-align: middle;\n",
              "    }\n",
              "\n",
              "    .dataframe tbody tr th {\n",
              "        vertical-align: top;\n",
              "    }\n",
              "\n",
              "    .dataframe thead th {\n",
              "        text-align: right;\n",
              "    }\n",
              "</style>\n",
              "<table border=\"1\" class=\"dataframe\">\n",
              "  <thead>\n",
              "    <tr style=\"text-align: right;\">\n",
              "      <th>grupo</th>\n",
              "      <th>Mayoría de mujeres</th>\n",
              "      <th>Mayoría de varones</th>\n",
              "      <th>Mitad y mitad</th>\n",
              "      <th>Otros</th>\n",
              "      <th>Sólo varones</th>\n",
              "    </tr>\n",
              "    <tr>\n",
              "      <th>genero</th>\n",
              "      <th></th>\n",
              "      <th></th>\n",
              "      <th></th>\n",
              "      <th></th>\n",
              "      <th></th>\n",
              "    </tr>\n",
              "  </thead>\n",
              "  <tbody>\n",
              "    <tr>\n",
              "      <th>Mujer</th>\n",
              "      <td>7</td>\n",
              "      <td>27</td>\n",
              "      <td>9</td>\n",
              "      <td>3</td>\n",
              "      <td>1</td>\n",
              "    </tr>\n",
              "    <tr>\n",
              "      <th>No binarie</th>\n",
              "      <td>4</td>\n",
              "      <td>4</td>\n",
              "      <td>0</td>\n",
              "      <td>3</td>\n",
              "      <td>1</td>\n",
              "    </tr>\n",
              "    <tr>\n",
              "      <th>Otro</th>\n",
              "      <td>0</td>\n",
              "      <td>4</td>\n",
              "      <td>0</td>\n",
              "      <td>0</td>\n",
              "      <td>0</td>\n",
              "    </tr>\n",
              "    <tr>\n",
              "      <th>Varón</th>\n",
              "      <td>4</td>\n",
              "      <td>42</td>\n",
              "      <td>14</td>\n",
              "      <td>3</td>\n",
              "      <td>18</td>\n",
              "    </tr>\n",
              "  </tbody>\n",
              "</table>\n",
              "</div>"
            ],
            "text/plain": [
              "grupo       Mayoría de mujeres  Mayoría de varones  ...  Otros  Sólo varones\n",
              "genero                                              ...                     \n",
              "Mujer                        7                  27  ...      3             1\n",
              "No binarie                   4                   4  ...      3             1\n",
              "Otro                         0                   4  ...      0             0\n",
              "Varón                        4                  42  ...      3            18\n",
              "\n",
              "[4 rows x 5 columns]"
            ]
          },
          "metadata": {
            "tags": []
          },
          "execution_count": 52
        }
      ]
    },
    {
      "cell_type": "code",
      "metadata": {
        "colab": {
          "base_uri": "https://localhost:8080/",
          "height": 173
        },
        "id": "rOE2ifAd6fvx",
        "outputId": "7b9757b7-a00d-4359-9629-5c38dd6cb098"
      },
      "source": [
        "pd.crosstab(index=df1['cistrans'],columns=df1['grupo'])"
      ],
      "execution_count": 53,
      "outputs": [
        {
          "output_type": "execute_result",
          "data": {
            "text/html": [
              "<div>\n",
              "<style scoped>\n",
              "    .dataframe tbody tr th:only-of-type {\n",
              "        vertical-align: middle;\n",
              "    }\n",
              "\n",
              "    .dataframe tbody tr th {\n",
              "        vertical-align: top;\n",
              "    }\n",
              "\n",
              "    .dataframe thead th {\n",
              "        text-align: right;\n",
              "    }\n",
              "</style>\n",
              "<table border=\"1\" class=\"dataframe\">\n",
              "  <thead>\n",
              "    <tr style=\"text-align: right;\">\n",
              "      <th>grupo</th>\n",
              "      <th>Mayoría de mujeres</th>\n",
              "      <th>Mayoría de varones</th>\n",
              "      <th>Mitad y mitad</th>\n",
              "      <th>Otros</th>\n",
              "      <th>Sólo varones</th>\n",
              "    </tr>\n",
              "    <tr>\n",
              "      <th>cistrans</th>\n",
              "      <th></th>\n",
              "      <th></th>\n",
              "      <th></th>\n",
              "      <th></th>\n",
              "      <th></th>\n",
              "    </tr>\n",
              "  </thead>\n",
              "  <tbody>\n",
              "    <tr>\n",
              "      <th>Cis</th>\n",
              "      <td>8</td>\n",
              "      <td>65</td>\n",
              "      <td>21</td>\n",
              "      <td>6</td>\n",
              "      <td>18</td>\n",
              "    </tr>\n",
              "    <tr>\n",
              "      <th>Otro</th>\n",
              "      <td>0</td>\n",
              "      <td>4</td>\n",
              "      <td>0</td>\n",
              "      <td>0</td>\n",
              "      <td>0</td>\n",
              "    </tr>\n",
              "    <tr>\n",
              "      <th>Trans</th>\n",
              "      <td>7</td>\n",
              "      <td>5</td>\n",
              "      <td>1</td>\n",
              "      <td>3</td>\n",
              "      <td>0</td>\n",
              "    </tr>\n",
              "  </tbody>\n",
              "</table>\n",
              "</div>"
            ],
            "text/plain": [
              "grupo     Mayoría de mujeres  Mayoría de varones  ...  Otros  Sólo varones\n",
              "cistrans                                          ...                     \n",
              "Cis                        8                  65  ...      6            18\n",
              "Otro                       0                   4  ...      0             0\n",
              "Trans                      7                   5  ...      3             0\n",
              "\n",
              "[3 rows x 5 columns]"
            ]
          },
          "metadata": {
            "tags": []
          },
          "execution_count": 53
        }
      ]
    },
    {
      "cell_type": "code",
      "metadata": {
        "colab": {
          "base_uri": "https://localhost:8080/",
          "height": 504
        },
        "id": "QvD0z8pH0G_9",
        "outputId": "30dd94ca-5d58-4984-bed8-f073f5578560"
      },
      "source": [
        "heat_map(df1['cistrans'], df1['grupo'])"
      ],
      "execution_count": 54,
      "outputs": [
        {
          "output_type": "execute_result",
          "data": {
            "text/plain": [
              "(grupo     Mayoría de mujeres  Mayoría de varones  ...  Otros  Sólo varones\n",
              " cistrans                                          ...                     \n",
              " Cis                        8                  65  ...      6            18\n",
              " Otro                       0                   4  ...      0             0\n",
              " Trans                      7                   5  ...      3             0\n",
              " \n",
              " [3 rows x 5 columns],\n",
              " <matplotlib.axes._subplots.AxesSubplot at 0x7ff218ef15d0>)"
            ]
          },
          "metadata": {
            "tags": []
          },
          "execution_count": 54
        },
        {
          "output_type": "display_data",
          "data": {
            "image/png": "[encoded data removed]",
            "text/plain": [
              "<Figure size 432x288 with 2 Axes>"
            ]
          },
          "metadata": {
            "tags": [],
            "needs_background": "light"
          }
        }
      ]
    },
    {
      "cell_type": "code",
      "metadata": {
        "colab": {
          "base_uri": "https://localhost:8080/",
          "height": 204
        },
        "id": "MUlQ6EPpBa-Z",
        "outputId": "2d2c598a-1952-4165-b13e-1986f2f740cd"
      },
      "source": [
        "b = df1[['genero', 'grupo']]\n",
        "b.head(3)\n",
        "c = pd.crosstab(index=b['genero'],columns=b['grupo'])\n",
        "c"
      ],
      "execution_count": 55,
      "outputs": [
        {
          "output_type": "execute_result",
          "data": {
            "text/html": [
              "<div>\n",
              "<style scoped>\n",
              "    .dataframe tbody tr th:only-of-type {\n",
              "        vertical-align: middle;\n",
              "    }\n",
              "\n",
              "    .dataframe tbody tr th {\n",
              "        vertical-align: top;\n",
              "    }\n",
              "\n",
              "    .dataframe thead th {\n",
              "        text-align: right;\n",
              "    }\n",
              "</style>\n",
              "<table border=\"1\" class=\"dataframe\">\n",
              "  <thead>\n",
              "    <tr style=\"text-align: right;\">\n",
              "      <th>grupo</th>\n",
              "      <th>Mayoría de mujeres</th>\n",
              "      <th>Mayoría de varones</th>\n",
              "      <th>Mitad y mitad</th>\n",
              "      <th>Otros</th>\n",
              "      <th>Sólo varones</th>\n",
              "    </tr>\n",
              "    <tr>\n",
              "      <th>genero</th>\n",
              "      <th></th>\n",
              "      <th></th>\n",
              "      <th></th>\n",
              "      <th></th>\n",
              "      <th></th>\n",
              "    </tr>\n",
              "  </thead>\n",
              "  <tbody>\n",
              "    <tr>\n",
              "      <th>Mujer</th>\n",
              "      <td>7</td>\n",
              "      <td>27</td>\n",
              "      <td>9</td>\n",
              "      <td>3</td>\n",
              "      <td>1</td>\n",
              "    </tr>\n",
              "    <tr>\n",
              "      <th>No binarie</th>\n",
              "      <td>4</td>\n",
              "      <td>4</td>\n",
              "      <td>0</td>\n",
              "      <td>3</td>\n",
              "      <td>1</td>\n",
              "    </tr>\n",
              "    <tr>\n",
              "      <th>Otro</th>\n",
              "      <td>0</td>\n",
              "      <td>4</td>\n",
              "      <td>0</td>\n",
              "      <td>0</td>\n",
              "      <td>0</td>\n",
              "    </tr>\n",
              "    <tr>\n",
              "      <th>Varón</th>\n",
              "      <td>4</td>\n",
              "      <td>42</td>\n",
              "      <td>14</td>\n",
              "      <td>3</td>\n",
              "      <td>18</td>\n",
              "    </tr>\n",
              "  </tbody>\n",
              "</table>\n",
              "</div>"
            ],
            "text/plain": [
              "grupo       Mayoría de mujeres  Mayoría de varones  ...  Otros  Sólo varones\n",
              "genero                                              ...                     \n",
              "Mujer                        7                  27  ...      3             1\n",
              "No binarie                   4                   4  ...      3             1\n",
              "Otro                         0                   4  ...      0             0\n",
              "Varón                        4                  42  ...      3            18\n",
              "\n",
              "[4 rows x 5 columns]"
            ]
          },
          "metadata": {
            "tags": []
          },
          "execution_count": 55
        }
      ]
    },
    {
      "cell_type": "code",
      "metadata": {
        "colab": {
          "base_uri": "https://localhost:8080/",
          "height": 204
        },
        "id": "Sr9qzpBEBCiX",
        "outputId": "34f9dd59-9d08-4616-df6a-4a002a8bc6e1"
      },
      "source": [
        "a = pd.crosstab(index=df1['genero'],columns=df1['grupo'])\n",
        "a"
      ],
      "execution_count": 56,
      "outputs": [
        {
          "output_type": "execute_result",
          "data": {
            "text/html": [
              "<div>\n",
              "<style scoped>\n",
              "    .dataframe tbody tr th:only-of-type {\n",
              "        vertical-align: middle;\n",
              "    }\n",
              "\n",
              "    .dataframe tbody tr th {\n",
              "        vertical-align: top;\n",
              "    }\n",
              "\n",
              "    .dataframe thead th {\n",
              "        text-align: right;\n",
              "    }\n",
              "</style>\n",
              "<table border=\"1\" class=\"dataframe\">\n",
              "  <thead>\n",
              "    <tr style=\"text-align: right;\">\n",
              "      <th>grupo</th>\n",
              "      <th>Mayoría de mujeres</th>\n",
              "      <th>Mayoría de varones</th>\n",
              "      <th>Mitad y mitad</th>\n",
              "      <th>Otros</th>\n",
              "      <th>Sólo varones</th>\n",
              "    </tr>\n",
              "    <tr>\n",
              "      <th>genero</th>\n",
              "      <th></th>\n",
              "      <th></th>\n",
              "      <th></th>\n",
              "      <th></th>\n",
              "      <th></th>\n",
              "    </tr>\n",
              "  </thead>\n",
              "  <tbody>\n",
              "    <tr>\n",
              "      <th>Mujer</th>\n",
              "      <td>7</td>\n",
              "      <td>27</td>\n",
              "      <td>9</td>\n",
              "      <td>3</td>\n",
              "      <td>1</td>\n",
              "    </tr>\n",
              "    <tr>\n",
              "      <th>No binarie</th>\n",
              "      <td>4</td>\n",
              "      <td>4</td>\n",
              "      <td>0</td>\n",
              "      <td>3</td>\n",
              "      <td>1</td>\n",
              "    </tr>\n",
              "    <tr>\n",
              "      <th>Otro</th>\n",
              "      <td>0</td>\n",
              "      <td>4</td>\n",
              "      <td>0</td>\n",
              "      <td>0</td>\n",
              "      <td>0</td>\n",
              "    </tr>\n",
              "    <tr>\n",
              "      <th>Varón</th>\n",
              "      <td>4</td>\n",
              "      <td>42</td>\n",
              "      <td>14</td>\n",
              "      <td>3</td>\n",
              "      <td>18</td>\n",
              "    </tr>\n",
              "  </tbody>\n",
              "</table>\n",
              "</div>"
            ],
            "text/plain": [
              "grupo       Mayoría de mujeres  Mayoría de varones  ...  Otros  Sólo varones\n",
              "genero                                              ...                     \n",
              "Mujer                        7                  27  ...      3             1\n",
              "No binarie                   4                   4  ...      3             1\n",
              "Otro                         0                   4  ...      0             0\n",
              "Varón                        4                  42  ...      3            18\n",
              "\n",
              "[4 rows x 5 columns]"
            ]
          },
          "metadata": {
            "tags": []
          },
          "execution_count": 56
        }
      ]
    },
    {
      "cell_type": "code",
      "metadata": {
        "colab": {
          "base_uri": "https://localhost:8080/",
          "height": 383
        },
        "id": "8dLOZY4FMeca",
        "outputId": "0cc6189e-d0c0-420a-f5f7-ebcf61a153d5"
      },
      "source": [
        "sns.catplot(y=\"genero\", hue=\"grupo\", kind=\"count\",\n",
        "            palette=\"coolwarm\", edgecolor=\".6\",\n",
        "            data=df1)\n",
        "plt.show()"
      ],
      "execution_count": 57,
      "outputs": [
        {
          "output_type": "display_data",
          "data": {
            "image/png": "[encoded data removed]",
            "text/plain": [
              "<Figure size 494.75x360 with 1 Axes>"
            ]
          },
          "metadata": {
            "tags": [],
            "needs_background": "light"
          }
        }
      ]
    },
    {
      "cell_type": "markdown",
      "metadata": {
        "id": "9FZHM_ht5_Kc"
      },
      "source": [
        "##Paises"
      ]
    },
    {
      "cell_type": "code",
      "metadata": {
        "id": "CTVEMx395vyT"
      },
      "source": [
        "# import the library\n",
        "\n",
        "\n",
        "# Make an empty map\n",
        "m = folium.Map(location=[20,0], tiles=\"OpenStreetMap\", zoom_start=2)\n",
        "\n",
        "# Show the map\n",
        "#m"
      ],
      "execution_count": 58,
      "outputs": []
    },
    {
      "cell_type": "code",
      "metadata": {
        "id": "-SlHxPUd5-vv"
      },
      "source": [
        "paises_cuenta = (df1['residencia'].value_counts()[:].to_list())\n"
      ],
      "execution_count": 59,
      "outputs": []
    },
    {
      "cell_type": "code",
      "metadata": {
        "colab": {
          "base_uri": "https://localhost:8080/"
        },
        "id": "xQzbPrSG_5JF",
        "outputId": "eae1775d-5b98-42a8-f1d8-260a5f9b8aeb"
      },
      "source": [
        "paises = (df1['residencia'].value_counts().index.to_list())\n",
        "paises"
      ],
      "execution_count": 60,
      "outputs": [
        {
          "output_type": "execute_result",
          "data": {
            "text/plain": [
              "['Argentina',\n",
              " 'España',\n",
              " 'México',\n",
              " 'Chile',\n",
              " 'Perú',\n",
              " 'Francia',\n",
              " 'Estados Unidos',\n",
              " 'Panamá',\n",
              " 'Reino Unido']"
            ]
          },
          "metadata": {
            "tags": []
          },
          "execution_count": 60
        }
      ]
    },
    {
      "cell_type": "code",
      "metadata": {
        "colab": {
          "base_uri": "https://localhost:8080/",
          "height": 0
        },
        "id": "pX2M0jqz6YsV",
        "outputId": "2611518f-3362-442d-cd7b-c6510097ff33"
      },
      "source": [
        "#lat = [-34.9,39.6,-10.3,23.8, -26.5, 8.6, 55.1, 39.7, 46.7]\n",
        "#lon = [-65.5, -3.3,-75.4,-102.7, -71.1, -80.0, -2.9, -100.6, 1.8]\n",
        "#paises = ['Argentina', 'España', 'Perú', 'México', 'Chile','Panamá','Reino Unido','Estados Unidos', 'Francia']\n",
        "\n",
        "mapa = pd.DataFrame({'lat':[-34.9,39.6,-10.3,23.8, -26.5, 8.6, 55.1, 39.7, 46.7],\n",
        "                     'lon': [-65.5, -3.3,-75.4,-102.7, -71.1, -80.0, -2.9, -100.6, 1.8],\n",
        "                     'paises': paises, \n",
        "                     #['Argentina', 'España', 'Perú', 'México', 'Chile','Panamá','Reino Unido','Estados Unidos', 'Francia'],\n",
        "                     'cant': [116,50,40,40,40,20,20,20,20]})\n",
        "\n",
        "mapa"
      ],
      "execution_count": 61,
      "outputs": [
        {
          "output_type": "execute_result",
          "data": {
            "text/html": [
              "<div>\n",
              "<style scoped>\n",
              "    .dataframe tbody tr th:only-of-type {\n",
              "        vertical-align: middle;\n",
              "    }\n",
              "\n",
              "    .dataframe tbody tr th {\n",
              "        vertical-align: top;\n",
              "    }\n",
              "\n",
              "    .dataframe thead th {\n",
              "        text-align: right;\n",
              "    }\n",
              "</style>\n",
              "<table border=\"1\" class=\"dataframe\">\n",
              "  <thead>\n",
              "    <tr style=\"text-align: right;\">\n",
              "      <th></th>\n",
              "      <th>lat</th>\n",
              "      <th>lon</th>\n",
              "      <th>paises</th>\n",
              "      <th>cant</th>\n",
              "    </tr>\n",
              "  </thead>\n",
              "  <tbody>\n",
              "    <tr>\n",
              "      <th>0</th>\n",
              "      <td>-34.9</td>\n",
              "      <td>-65.5</td>\n",
              "      <td>Argentina</td>\n",
              "      <td>116</td>\n",
              "    </tr>\n",
              "    <tr>\n",
              "      <th>1</th>\n",
              "      <td>39.6</td>\n",
              "      <td>-3.3</td>\n",
              "      <td>España</td>\n",
              "      <td>50</td>\n",
              "    </tr>\n",
              "    <tr>\n",
              "      <th>2</th>\n",
              "      <td>-10.3</td>\n",
              "      <td>-75.4</td>\n",
              "      <td>México</td>\n",
              "      <td>40</td>\n",
              "    </tr>\n",
              "    <tr>\n",
              "      <th>3</th>\n",
              "      <td>23.8</td>\n",
              "      <td>-102.7</td>\n",
              "      <td>Chile</td>\n",
              "      <td>40</td>\n",
              "    </tr>\n",
              "    <tr>\n",
              "      <th>4</th>\n",
              "      <td>-26.5</td>\n",
              "      <td>-71.1</td>\n",
              "      <td>Perú</td>\n",
              "      <td>40</td>\n",
              "    </tr>\n",
              "    <tr>\n",
              "      <th>5</th>\n",
              "      <td>8.6</td>\n",
              "      <td>-80.0</td>\n",
              "      <td>Francia</td>\n",
              "      <td>20</td>\n",
              "    </tr>\n",
              "    <tr>\n",
              "      <th>6</th>\n",
              "      <td>55.1</td>\n",
              "      <td>-2.9</td>\n",
              "      <td>Estados Unidos</td>\n",
              "      <td>20</td>\n",
              "    </tr>\n",
              "    <tr>\n",
              "      <th>7</th>\n",
              "      <td>39.7</td>\n",
              "      <td>-100.6</td>\n",
              "      <td>Panamá</td>\n",
              "      <td>20</td>\n",
              "    </tr>\n",
              "    <tr>\n",
              "      <th>8</th>\n",
              "      <td>46.7</td>\n",
              "      <td>1.8</td>\n",
              "      <td>Reino Unido</td>\n",
              "      <td>20</td>\n",
              "    </tr>\n",
              "  </tbody>\n",
              "</table>\n",
              "</div>"
            ],
            "text/plain": [
              "    lat    lon          paises  cant\n",
              "0 -34.9  -65.5       Argentina   116\n",
              "1  39.6   -3.3          España    50\n",
              "2 -10.3  -75.4          México    40\n",
              "3  23.8 -102.7           Chile    40\n",
              "4 -26.5  -71.1            Perú    40\n",
              "5   8.6  -80.0         Francia    20\n",
              "6  55.1   -2.9  Estados Unidos    20\n",
              "7  39.7 -100.6          Panamá    20\n",
              "8  46.7    1.8     Reino Unido    20"
            ]
          },
          "metadata": {
            "tags": []
          },
          "execution_count": 61
        }
      ]
    },
    {
      "cell_type": "code",
      "metadata": {
        "colab": {
          "base_uri": "https://localhost:8080/",
          "height": 0
        },
        "id": "VOtVCdVrAPDw",
        "outputId": "a1857c3d-4a84-4069-bbfa-9241122dc16e"
      },
      "source": [
        "# add marker one by one on the map\n",
        "for i in range(0,len(mapa)):\n",
        "   folium.Circle(\n",
        "      location=[mapa.iloc[i]['lat'], mapa.iloc[i]['lon']],\n",
        "      popup=mapa.iloc[i]['paises'],\n",
        "      radius=float(mapa.iloc[i]['cant']*10000),\n",
        "      color='#900C3F ',\n",
        "      fill=True,\n",
        "      fill_color='#900C3F '\n",
        "   ).add_to(m)\n",
        "\n",
        "# Show the map again\n",
        "m"
      ],
      "execution_count": 62,
      "outputs": [
        {
          "output_type": "execute_result",
          "data": {
            "text/html": [
              "<div style=\"width:100%;\"><div style=\"position:relative;width:100%;height:0;padding-bottom:60%;\"><span style=\"color:#565656\">Make this Notebook Trusted to load map: File -> Trust Notebook</span><iframe src=\"about:blank\" style=\"position:absolute;width:100%;height:100%;left:0;top:0;border:none !important;\" data-html=%3C%21DOCTYPE%20html%3E%0A%3Chead%3E%20%20%20%20%0A%20%20%20%20%3Cmeta%20http-equiv%3D%22content-type%22%20content%3D%22text/html%3B%20charset%3DUTF-8%22%20/%3E%0A%20%20%20%20%3Cscript%3EL_PREFER_CANVAS%3Dfalse%3B%20L_NO_TOUCH%3Dfalse%3B%20L_DISABLE_3D%3Dfalse%3B%3C/script%3E%0A%20%20%20%20%3Cscript%20src%3D%22https%3A//cdn.jsdelivr.net/npm/leaflet%401.4.0/dist/leaflet.js%22%3E%3C/script%3E%0A%20%20%20%20%3Cscript%20src%3D%22https%3A//code.jquery.com/jquery-1.12.4.min.js%22%3E%3C/script%3E%0A%20%20%20%20%3Cscript%20src%3D%22https%3A//maxcdn.bootstrapcdn.com/bootstrap/3.2.0/js/bootstrap.min.js%22%3E%3C/script%3E%0A%20%20%20%20%3Cscript%20src%3D%22https%3A//cdnjs.cloudflare.com/ajax/libs/Leaflet.awesome-markers/2.0.2/leaflet.awesome-markers.js%22%3E%3C/script%3E%0A%20%20%20%20%3Clink%20rel%3D%22stylesheet%22%20href%3D%22https%3A//cdn.jsdelivr.net/npm/leaflet%401.4.0/dist/leaflet.css%22/%3E%0A%20%20%20%20%3Clink%20rel%3D%22stylesheet%22%20href%3D%22https%3A//maxcdn.bootstrapcdn.com/bootstrap/3.2.0/css/bootstrap.min.css%22/%3E%0A%20%20%20%20%3Clink%20rel%3D%22stylesheet%22%20href%3D%22https%3A//maxcdn.bootstrapcdn.com/bootstrap/3.2.0/css/bootstrap-theme.min.css%22/%3E%0A%20%20%20%20%3Clink%20rel%3D%22stylesheet%22%20href%3D%22https%3A//maxcdn.bootstrapcdn.com/font-awesome/4.6.3/css/font-awesome.min.css%22/%3E%0A%20%20%20%20%3Clink%20rel%3D%22stylesheet%22%20href%3D%22https%3A//cdnjs.cloudflare.com/ajax/libs/Leaflet.awesome-markers/2.0.2/leaflet.awesome-markers.css%22/%3E%0A%20%20%20%20%3Clink%20rel%3D%22stylesheet%22%20href%3D%22https%3A//rawcdn.githack.com/python-visualization/folium/master/folium/templates/leaflet.awesome.rotate.css%22/%3E%0A%20%20%20%20%3Cstyle%3Ehtml%2C%20body%20%7Bwidth%3A%20100%25%3Bheight%3A%20100%25%3Bmargin%3A%200%3Bpadding%3A%200%3B%7D%3C/style%3E%0A%20%20%20%20%3Cstyle%3E%23map%20%7Bposition%3Aabsolute%3Btop%3A0%3Bbottom%3A0%3Bright%3A0%3Bleft%3A0%3B%7D%3C/style%3E%0A%20%20%20%20%0A%20%20%20%20%3Cmeta%20name%3D%22viewport%22%20content%3D%22width%3Ddevice-width%2C%0A%20%20%20%20%20%20%20%20initial-scale%3D1.0%2C%20maximum-scale%3D1.0%2C%20user-scalable%3Dno%22%20/%3E%0A%20%20%20%20%3Cstyle%3E%23map_f415033cfa1d49c7869958d550b09ca3%20%7B%0A%20%20%20%20%20%20%20%20position%3A%20relative%3B%0A%20%20%20%20%20%20%20%20width%3A%20100.0%25%3B%0A%20%20%20%20%20%20%20%20height%3A%20100.0%25%3B%0A%20%20%20%20%20%20%20%20left%3A%200.0%25%3B%0A%20%20%20%20%20%20%20%20top%3A%200.0%25%3B%0A%20%20%20%20%20%20%20%20%7D%0A%20%20%20%20%3C/style%3E%0A%3C/head%3E%0A%3Cbody%3E%20%20%20%20%0A%20%20%20%20%0A%20%20%20%20%3Cdiv%20class%3D%22folium-map%22%20id%3D%22map_f415033cfa1d49c7869958d550b09ca3%22%20%3E%3C/div%3E%0A%3C/body%3E%0A%3Cscript%3E%20%20%20%20%0A%20%20%20%20%0A%20%20%20%20%0A%20%20%20%20%20%20%20%20var%20bounds%20%3D%20null%3B%0A%20%20%20%20%0A%0A%20%20%20%20var%20map_f415033cfa1d49c7869958d550b09ca3%20%3D%20L.map%28%0A%20%20%20%20%20%20%20%20%27map_f415033cfa1d49c7869958d550b09ca3%27%2C%20%7B%0A%20%20%20%20%20%20%20%20center%3A%20%5B20%2C%200%5D%2C%0A%20%20%20%20%20%20%20%20zoom%3A%202%2C%0A%20%20%20%20%20%20%20%20maxBounds%3A%20bounds%2C%0A%20%20%20%20%20%20%20%20layers%3A%20%5B%5D%2C%0A%20%20%20%20%20%20%20%20worldCopyJump%3A%20false%2C%0A%20%20%20%20%20%20%20%20crs%3A%20L.CRS.EPSG3857%2C%0A%20%20%20%20%20%20%20%20zoomControl%3A%20true%2C%0A%20%20%20%20%20%20%20%20%7D%29%3B%0A%0A%0A%20%20%20%20%0A%20%20%20%20var%20tile_layer_f0fc56ac8fd54bc7bf163d148d46ff26%20%3D%20L.tileLayer%28%0A%20%20%20%20%20%20%20%20%27https%3A//%7Bs%7D.tile.openstreetmap.org/%7Bz%7D/%7Bx%7D/%7By%7D.png%27%2C%0A%20%20%20%20%20%20%20%20%7B%0A%20%20%20%20%20%20%20%20%22attribution%22%3A%20null%2C%0A%20%20%20%20%20%20%20%20%22detectRetina%22%3A%20false%2C%0A%20%20%20%20%20%20%20%20%22maxNativeZoom%22%3A%2018%2C%0A%20%20%20%20%20%20%20%20%22maxZoom%22%3A%2018%2C%0A%20%20%20%20%20%20%20%20%22minZoom%22%3A%200%2C%0A%20%20%20%20%20%20%20%20%22noWrap%22%3A%20false%2C%0A%20%20%20%20%20%20%20%20%22opacity%22%3A%201%2C%0A%20%20%20%20%20%20%20%20%22subdomains%22%3A%20%22abc%22%2C%0A%20%20%20%20%20%20%20%20%22tms%22%3A%20false%0A%7D%29.addTo%28map_f415033cfa1d49c7869958d550b09ca3%29%3B%0A%20%20%20%20%0A%0A%20%20%20%20%20%20%20%20%20%20%20%20var%20circle_7a4bd712a651403980f2d4daba56fcda%20%3D%20L.circle%28%0A%20%20%20%20%20%20%20%20%20%20%20%20%20%20%20%20%5B-34.9%2C%20-65.5%5D%2C%0A%20%20%20%20%20%20%20%20%20%20%20%20%20%20%20%20%7B%0A%20%20%22bubblingMouseEvents%22%3A%20true%2C%0A%20%20%22color%22%3A%20%22%23900C3F%20%22%2C%0A%20%20%22dashArray%22%3A%20null%2C%0A%20%20%22dashOffset%22%3A%20null%2C%0A%20%20%22fill%22%3A%20true%2C%0A%20%20%22fillColor%22%3A%20%22%23900C3F%20%22%2C%0A%20%20%22fillOpacity%22%3A%200.2%2C%0A%20%20%22fillRule%22%3A%20%22evenodd%22%2C%0A%20%20%22lineCap%22%3A%20%22round%22%2C%0A%20%20%22lineJoin%22%3A%20%22round%22%2C%0A%20%20%22opacity%22%3A%201.0%2C%0A%20%20%22radius%22%3A%201160000.0%2C%0A%20%20%22stroke%22%3A%20true%2C%0A%20%20%22weight%22%3A%203%0A%7D%0A%20%20%20%20%20%20%20%20%20%20%20%20%20%20%20%20%29%0A%20%20%20%20%20%20%20%20%20%20%20%20%20%20%20%20.addTo%28map_f415033cfa1d49c7869958d550b09ca3%29%3B%0A%20%20%20%20%20%20%20%20%20%20%20%20%0A%20%20%20%20%0A%20%20%20%20%20%20%20%20%20%20%20%20var%20popup_9c88c45bfab645a8af7925faf2b6d6a9%20%3D%20L.popup%28%7BmaxWidth%3A%20%27100%25%27%0A%20%20%20%20%20%20%20%20%20%20%20%20%0A%20%20%20%20%20%20%20%20%20%20%20%20%7D%29%3B%0A%0A%20%20%20%20%20%20%20%20%20%20%20%20%0A%20%20%20%20%20%20%20%20%20%20%20%20%20%20%20%20var%20html_e753ba287971447c89228185a7f3894e%20%3D%20%24%28%60%3Cdiv%20id%3D%22html_e753ba287971447c89228185a7f3894e%22%20style%3D%22width%3A%20100.0%25%3B%20height%3A%20100.0%25%3B%22%3EArgentina%3C/div%3E%60%29%5B0%5D%3B%0A%20%20%20%20%20%20%20%20%20%20%20%20%20%20%20%20popup_9c88c45bfab645a8af7925faf2b6d6a9.setContent%28html_e753ba287971447c89228185a7f3894e%29%3B%0A%20%20%20%20%20%20%20%20%20%20%20%20%0A%0A%20%20%20%20%20%20%20%20%20%20%20%20circle_7a4bd712a651403980f2d4daba56fcda.bindPopup%28popup_9c88c45bfab645a8af7925faf2b6d6a9%29%0A%20%20%20%20%20%20%20%20%20%20%20%20%3B%0A%0A%20%20%20%20%20%20%20%20%20%20%20%20%0A%20%20%20%20%20%20%20%20%0A%20%20%20%20%0A%0A%20%20%20%20%20%20%20%20%20%20%20%20var%20circle_089415e3dc994acba3df839180b257ed%20%3D%20L.circle%28%0A%20%20%20%20%20%20%20%20%20%20%20%20%20%20%20%20%5B39.6%2C%20-3.3%5D%2C%0A%20%20%20%20%20%20%20%20%20%20%20%20%20%20%20%20%7B%0A%20%20%22bubblingMouseEvents%22%3A%20true%2C%0A%20%20%22color%22%3A%20%22%23900C3F%20%22%2C%0A%20%20%22dashArray%22%3A%20null%2C%0A%20%20%22dashOffset%22%3A%20null%2C%0A%20%20%22fill%22%3A%20true%2C%0A%20%20%22fillColor%22%3A%20%22%23900C3F%20%22%2C%0A%20%20%22fillOpacity%22%3A%200.2%2C%0A%20%20%22fillRule%22%3A%20%22evenodd%22%2C%0A%20%20%22lineCap%22%3A%20%22round%22%2C%0A%20%20%22lineJoin%22%3A%20%22round%22%2C%0A%20%20%22opacity%22%3A%201.0%2C%0A%20%20%22radius%22%3A%20500000.0%2C%0A%20%20%22stroke%22%3A%20true%2C%0A%20%20%22weight%22%3A%203%0A%7D%0A%20%20%20%20%20%20%20%20%20%20%20%20%20%20%20%20%29%0A%20%20%20%20%20%20%20%20%20%20%20%20%20%20%20%20.addTo%28map_f415033cfa1d49c7869958d550b09ca3%29%3B%0A%20%20%20%20%20%20%20%20%20%20%20%20%0A%20%20%20%20%0A%20%20%20%20%20%20%20%20%20%20%20%20var%20popup_a4723eb46d244f939f6ad9177d096864%20%3D%20L.popup%28%7BmaxWidth%3A%20%27100%25%27%0A%20%20%20%20%20%20%20%20%20%20%20%20%0A%20%20%20%20%20%20%20%20%20%20%20%20%7D%29%3B%0A%0A%20%20%20%20%20%20%20%20%20%20%20%20%0A%20%20%20%20%20%20%20%20%20%20%20%20%20%20%20%20var%20html_27db05c7e470472fb57e1e2f34d4a2d2%20%3D%20%24%28%60%3Cdiv%20id%3D%22html_27db05c7e470472fb57e1e2f34d4a2d2%22%20style%3D%22width%3A%20100.0%25%3B%20height%3A%20100.0%25%3B%22%3EEspa%C3%B1a%3C/div%3E%60%29%5B0%5D%3B%0A%20%20%20%20%20%20%20%20%20%20%20%20%20%20%20%20popup_a4723eb46d244f939f6ad9177d096864.setContent%28html_27db05c7e470472fb57e1e2f34d4a2d2%29%3B%0A%20%20%20%20%20%20%20%20%20%20%20%20%0A%0A%20%20%20%20%20%20%20%20%20%20%20%20circle_089415e3dc994acba3df839180b257ed.bindPopup%28popup_a4723eb46d244f939f6ad9177d096864%29%0A%20%20%20%20%20%20%20%20%20%20%20%20%3B%0A%0A%20%20%20%20%20%20%20%20%20%20%20%20%0A%20%20%20%20%20%20%20%20%0A%20%20%20%20%0A%0A%20%20%20%20%20%20%20%20%20%20%20%20var%20circle_e72d8a96174b42db8c51580cc09b3428%20%3D%20L.circle%28%0A%20%20%20%20%20%20%20%20%20%20%20%20%20%20%20%20%5B-10.3%2C%20-75.4%5D%2C%0A%20%20%20%20%20%20%20%20%20%20%20%20%20%20%20%20%7B%0A%20%20%22bubblingMouseEvents%22%3A%20true%2C%0A%20%20%22color%22%3A%20%22%23900C3F%20%22%2C%0A%20%20%22dashArray%22%3A%20null%2C%0A%20%20%22dashOffset%22%3A%20null%2C%0A%20%20%22fill%22%3A%20true%2C%0A%20%20%22fillColor%22%3A%20%22%23900C3F%20%22%2C%0A%20%20%22fillOpacity%22%3A%200.2%2C%0A%20%20%22fillRule%22%3A%20%22evenodd%22%2C%0A%20%20%22lineCap%22%3A%20%22round%22%2C%0A%20%20%22lineJoin%22%3A%20%22round%22%2C%0A%20%20%22opacity%22%3A%201.0%2C%0A%20%20%22radius%22%3A%20400000.0%2C%0A%20%20%22stroke%22%3A%20true%2C%0A%20%20%22weight%22%3A%203%0A%7D%0A%20%20%20%20%20%20%20%20%20%20%20%20%20%20%20%20%29%0A%20%20%20%20%20%20%20%20%20%20%20%20%20%20%20%20.addTo%28map_f415033cfa1d49c7869958d550b09ca3%29%3B%0A%20%20%20%20%20%20%20%20%20%20%20%20%0A%20%20%20%20%0A%20%20%20%20%20%20%20%20%20%20%20%20var%20popup_ee2688b64d0740ab891a45eab695d6a6%20%3D%20L.popup%28%7BmaxWidth%3A%20%27100%25%27%0A%20%20%20%20%20%20%20%20%20%20%20%20%0A%20%20%20%20%20%20%20%20%20%20%20%20%7D%29%3B%0A%0A%20%20%20%20%20%20%20%20%20%20%20%20%0A%20%20%20%20%20%20%20%20%20%20%20%20%20%20%20%20var%20html_afb3223e669945b7842bf23851a87cfb%20%3D%20%24%28%60%3Cdiv%20id%3D%22html_afb3223e669945b7842bf23851a87cfb%22%20style%3D%22width%3A%20100.0%25%3B%20height%3A%20100.0%25%3B%22%3EM%C3%A9xico%3C/div%3E%60%29%5B0%5D%3B%0A%20%20%20%20%20%20%20%20%20%20%20%20%20%20%20%20popup_ee2688b64d0740ab891a45eab695d6a6.setContent%28html_afb3223e669945b7842bf23851a87cfb%29%3B%0A%20%20%20%20%20%20%20%20%20%20%20%20%0A%0A%20%20%20%20%20%20%20%20%20%20%20%20circle_e72d8a96174b42db8c51580cc09b3428.bindPopup%28popup_ee2688b64d0740ab891a45eab695d6a6%29%0A%20%20%20%20%20%20%20%20%20%20%20%20%3B%0A%0A%20%20%20%20%20%20%20%20%20%20%20%20%0A%20%20%20%20%20%20%20%20%0A%20%20%20%20%0A%0A%20%20%20%20%20%20%20%20%20%20%20%20var%20circle_7ba0033490004b55ac6629ab2b65e06b%20%3D%20L.circle%28%0A%20%20%20%20%20%20%20%20%20%20%20%20%20%20%20%20%5B23.8%2C%20-102.7%5D%2C%0A%20%20%20%20%20%20%20%20%20%20%20%20%20%20%20%20%7B%0A%20%20%22bubblingMouseEvents%22%3A%20true%2C%0A%20%20%22color%22%3A%20%22%23900C3F%20%22%2C%0A%20%20%22dashArray%22%3A%20null%2C%0A%20%20%22dashOffset%22%3A%20null%2C%0A%20%20%22fill%22%3A%20true%2C%0A%20%20%22fillColor%22%3A%20%22%23900C3F%20%22%2C%0A%20%20%22fillOpacity%22%3A%200.2%2C%0A%20%20%22fillRule%22%3A%20%22evenodd%22%2C%0A%20%20%22lineCap%22%3A%20%22round%22%2C%0A%20%20%22lineJoin%22%3A%20%22round%22%2C%0A%20%20%22opacity%22%3A%201.0%2C%0A%20%20%22radius%22%3A%20400000.0%2C%0A%20%20%22stroke%22%3A%20true%2C%0A%20%20%22weight%22%3A%203%0A%7D%0A%20%20%20%20%20%20%20%20%20%20%20%20%20%20%20%20%29%0A%20%20%20%20%20%20%20%20%20%20%20%20%20%20%20%20.addTo%28map_f415033cfa1d49c7869958d550b09ca3%29%3B%0A%20%20%20%20%20%20%20%20%20%20%20%20%0A%20%20%20%20%0A%20%20%20%20%20%20%20%20%20%20%20%20var%20popup_8130ecb08ba14cc985bc6b8dc73382d3%20%3D%20L.popup%28%7BmaxWidth%3A%20%27100%25%27%0A%20%20%20%20%20%20%20%20%20%20%20%20%0A%20%20%20%20%20%20%20%20%20%20%20%20%7D%29%3B%0A%0A%20%20%20%20%20%20%20%20%20%20%20%20%0A%20%20%20%20%20%20%20%20%20%20%20%20%20%20%20%20var%20html_45aefb6769a94a52bc4cdcccbd6ef742%20%3D%20%24%28%60%3Cdiv%20id%3D%22html_45aefb6769a94a52bc4cdcccbd6ef742%22%20style%3D%22width%3A%20100.0%25%3B%20height%3A%20100.0%25%3B%22%3EChile%3C/div%3E%60%29%5B0%5D%3B%0A%20%20%20%20%20%20%20%20%20%20%20%20%20%20%20%20popup_8130ecb08ba14cc985bc6b8dc73382d3.setContent%28html_45aefb6769a94a52bc4cdcccbd6ef742%29%3B%0A%20%20%20%20%20%20%20%20%20%20%20%20%0A%0A%20%20%20%20%20%20%20%20%20%20%20%20circle_7ba0033490004b55ac6629ab2b65e06b.bindPopup%28popup_8130ecb08ba14cc985bc6b8dc73382d3%29%0A%20%20%20%20%20%20%20%20%20%20%20%20%3B%0A%0A%20%20%20%20%20%20%20%20%20%20%20%20%0A%20%20%20%20%20%20%20%20%0A%20%20%20%20%0A%0A%20%20%20%20%20%20%20%20%20%20%20%20var%20circle_88507be0d7fe4dada8bed9ef4e2600d6%20%3D%20L.circle%28%0A%20%20%20%20%20%20%20%20%20%20%20%20%20%20%20%20%5B-26.5%2C%20-71.1%5D%2C%0A%20%20%20%20%20%20%20%20%20%20%20%20%20%20%20%20%7B%0A%20%20%22bubblingMouseEvents%22%3A%20true%2C%0A%20%20%22color%22%3A%20%22%23900C3F%20%22%2C%0A%20%20%22dashArray%22%3A%20null%2C%0A%20%20%22dashOffset%22%3A%20null%2C%0A%20%20%22fill%22%3A%20true%2C%0A%20%20%22fillColor%22%3A%20%22%23900C3F%20%22%2C%0A%20%20%22fillOpacity%22%3A%200.2%2C%0A%20%20%22fillRule%22%3A%20%22evenodd%22%2C%0A%20%20%22lineCap%22%3A%20%22round%22%2C%0A%20%20%22lineJoin%22%3A%20%22round%22%2C%0A%20%20%22opacity%22%3A%201.0%2C%0A%20%20%22radius%22%3A%20400000.0%2C%0A%20%20%22stroke%22%3A%20true%2C%0A%20%20%22weight%22%3A%203%0A%7D%0A%20%20%20%20%20%20%20%20%20%20%20%20%20%20%20%20%29%0A%20%20%20%20%20%20%20%20%20%20%20%20%20%20%20%20.addTo%28map_f415033cfa1d49c7869958d550b09ca3%29%3B%0A%20%20%20%20%20%20%20%20%20%20%20%20%0A%20%20%20%20%0A%20%20%20%20%20%20%20%20%20%20%20%20var%20popup_b0aa05cb117a43f6afadffe20e7fa987%20%3D%20L.popup%28%7BmaxWidth%3A%20%27100%25%27%0A%20%20%20%20%20%20%20%20%20%20%20%20%0A%20%20%20%20%20%20%20%20%20%20%20%20%7D%29%3B%0A%0A%20%20%20%20%20%20%20%20%20%20%20%20%0A%20%20%20%20%20%20%20%20%20%20%20%20%20%20%20%20var%20html_941f67ca62fe4f9588f73bf321199169%20%3D%20%24%28%60%3Cdiv%20id%3D%22html_941f67ca62fe4f9588f73bf321199169%22%20style%3D%22width%3A%20100.0%25%3B%20height%3A%20100.0%25%3B%22%3EPer%C3%BA%3C/div%3E%60%29%5B0%5D%3B%0A%20%20%20%20%20%20%20%20%20%20%20%20%20%20%20%20popup_b0aa05cb117a43f6afadffe20e7fa987.setContent%28html_941f67ca62fe4f9588f73bf321199169%29%3B%0A%20%20%20%20%20%20%20%20%20%20%20%20%0A%0A%20%20%20%20%20%20%20%20%20%20%20%20circle_88507be0d7fe4dada8bed9ef4e2600d6.bindPopup%28popup_b0aa05cb117a43f6afadffe20e7fa987%29%0A%20%20%20%20%20%20%20%20%20%20%20%20%3B%0A%0A%20%20%20%20%20%20%20%20%20%20%20%20%0A%20%20%20%20%20%20%20%20%0A%20%20%20%20%0A%0A%20%20%20%20%20%20%20%20%20%20%20%20var%20circle_afc7a67f68894a478781ac9892953ded%20%3D%20L.circle%28%0A%20%20%20%20%20%20%20%20%20%20%20%20%20%20%20%20%5B8.6%2C%20-80.0%5D%2C%0A%20%20%20%20%20%20%20%20%20%20%20%20%20%20%20%20%7B%0A%20%20%22bubblingMouseEvents%22%3A%20true%2C%0A%20%20%22color%22%3A%20%22%23900C3F%20%22%2C%0A%20%20%22dashArray%22%3A%20null%2C%0A%20%20%22dashOffset%22%3A%20null%2C%0A%20%20%22fill%22%3A%20true%2C%0A%20%20%22fillColor%22%3A%20%22%23900C3F%20%22%2C%0A%20%20%22fillOpacity%22%3A%200.2%2C%0A%20%20%22fillRule%22%3A%20%22evenodd%22%2C%0A%20%20%22lineCap%22%3A%20%22round%22%2C%0A%20%20%22lineJoin%22%3A%20%22round%22%2C%0A%20%20%22opacity%22%3A%201.0%2C%0A%20%20%22radius%22%3A%20200000.0%2C%0A%20%20%22stroke%22%3A%20true%2C%0A%20%20%22weight%22%3A%203%0A%7D%0A%20%20%20%20%20%20%20%20%20%20%20%20%20%20%20%20%29%0A%20%20%20%20%20%20%20%20%20%20%20%20%20%20%20%20.addTo%28map_f415033cfa1d49c7869958d550b09ca3%29%3B%0A%20%20%20%20%20%20%20%20%20%20%20%20%0A%20%20%20%20%0A%20%20%20%20%20%20%20%20%20%20%20%20var%20popup_d6345b7182384f51a7c302766cff152a%20%3D%20L.popup%28%7BmaxWidth%3A%20%27100%25%27%0A%20%20%20%20%20%20%20%20%20%20%20%20%0A%20%20%20%20%20%20%20%20%20%20%20%20%7D%29%3B%0A%0A%20%20%20%20%20%20%20%20%20%20%20%20%0A%20%20%20%20%20%20%20%20%20%20%20%20%20%20%20%20var%20html_239376fec3e64b889cd6f81f898d0cd1%20%3D%20%24%28%60%3Cdiv%20id%3D%22html_239376fec3e64b889cd6f81f898d0cd1%22%20style%3D%22width%3A%20100.0%25%3B%20height%3A%20100.0%25%3B%22%3EFrancia%3C/div%3E%60%29%5B0%5D%3B%0A%20%20%20%20%20%20%20%20%20%20%20%20%20%20%20%20popup_d6345b7182384f51a7c302766cff152a.setContent%28html_239376fec3e64b889cd6f81f898d0cd1%29%3B%0A%20%20%20%20%20%20%20%20%20%20%20%20%0A%0A%20%20%20%20%20%20%20%20%20%20%20%20circle_afc7a67f68894a478781ac9892953ded.bindPopup%28popup_d6345b7182384f51a7c302766cff152a%29%0A%20%20%20%20%20%20%20%20%20%20%20%20%3B%0A%0A%20%20%20%20%20%20%20%20%20%20%20%20%0A%20%20%20%20%20%20%20%20%0A%20%20%20%20%0A%0A%20%20%20%20%20%20%20%20%20%20%20%20var%20circle_62df95baca814b3e92fda571efe94cb1%20%3D%20L.circle%28%0A%20%20%20%20%20%20%20%20%20%20%20%20%20%20%20%20%5B55.1%2C%20-2.9%5D%2C%0A%20%20%20%20%20%20%20%20%20%20%20%20%20%20%20%20%7B%0A%20%20%22bubblingMouseEvents%22%3A%20true%2C%0A%20%20%22color%22%3A%20%22%23900C3F%20%22%2C%0A%20%20%22dashArray%22%3A%20null%2C%0A%20%20%22dashOffset%22%3A%20null%2C%0A%20%20%22fill%22%3A%20true%2C%0A%20%20%22fillColor%22%3A%20%22%23900C3F%20%22%2C%0A%20%20%22fillOpacity%22%3A%200.2%2C%0A%20%20%22fillRule%22%3A%20%22evenodd%22%2C%0A%20%20%22lineCap%22%3A%20%22round%22%2C%0A%20%20%22lineJoin%22%3A%20%22round%22%2C%0A%20%20%22opacity%22%3A%201.0%2C%0A%20%20%22radius%22%3A%20200000.0%2C%0A%20%20%22stroke%22%3A%20true%2C%0A%20%20%22weight%22%3A%203%0A%7D%0A%20%20%20%20%20%20%20%20%20%20%20%20%20%20%20%20%29%0A%20%20%20%20%20%20%20%20%20%20%20%20%20%20%20%20.addTo%28map_f415033cfa1d49c7869958d550b09ca3%29%3B%0A%20%20%20%20%20%20%20%20%20%20%20%20%0A%20%20%20%20%0A%20%20%20%20%20%20%20%20%20%20%20%20var%20popup_25ffa96fc71b474f90b012d6ae24d83b%20%3D%20L.popup%28%7BmaxWidth%3A%20%27100%25%27%0A%20%20%20%20%20%20%20%20%20%20%20%20%0A%20%20%20%20%20%20%20%20%20%20%20%20%7D%29%3B%0A%0A%20%20%20%20%20%20%20%20%20%20%20%20%0A%20%20%20%20%20%20%20%20%20%20%20%20%20%20%20%20var%20html_dcaf30316ac64f94aa006340968ca507%20%3D%20%24%28%60%3Cdiv%20id%3D%22html_dcaf30316ac64f94aa006340968ca507%22%20style%3D%22width%3A%20100.0%25%3B%20height%3A%20100.0%25%3B%22%3EEstados%20Unidos%3C/div%3E%60%29%5B0%5D%3B%0A%20%20%20%20%20%20%20%20%20%20%20%20%20%20%20%20popup_25ffa96fc71b474f90b012d6ae24d83b.setContent%28html_dcaf30316ac64f94aa006340968ca507%29%3B%0A%20%20%20%20%20%20%20%20%20%20%20%20%0A%0A%20%20%20%20%20%20%20%20%20%20%20%20circle_62df95baca814b3e92fda571efe94cb1.bindPopup%28popup_25ffa96fc71b474f90b012d6ae24d83b%29%0A%20%20%20%20%20%20%20%20%20%20%20%20%3B%0A%0A%20%20%20%20%20%20%20%20%20%20%20%20%0A%20%20%20%20%20%20%20%20%0A%20%20%20%20%0A%0A%20%20%20%20%20%20%20%20%20%20%20%20var%20circle_15c2f6b2b5d94de3bdb36fe073d91b53%20%3D%20L.circle%28%0A%20%20%20%20%20%20%20%20%20%20%20%20%20%20%20%20%5B39.7%2C%20-100.6%5D%2C%0A%20%20%20%20%20%20%20%20%20%20%20%20%20%20%20%20%7B%0A%20%20%22bubblingMouseEvents%22%3A%20true%2C%0A%20%20%22color%22%3A%20%22%23900C3F%20%22%2C%0A%20%20%22dashArray%22%3A%20null%2C%0A%20%20%22dashOffset%22%3A%20null%2C%0A%20%20%22fill%22%3A%20true%2C%0A%20%20%22fillColor%22%3A%20%22%23900C3F%20%22%2C%0A%20%20%22fillOpacity%22%3A%200.2%2C%0A%20%20%22fillRule%22%3A%20%22evenodd%22%2C%0A%20%20%22lineCap%22%3A%20%22round%22%2C%0A%20%20%22lineJoin%22%3A%20%22round%22%2C%0A%20%20%22opacity%22%3A%201.0%2C%0A%20%20%22radius%22%3A%20200000.0%2C%0A%20%20%22stroke%22%3A%20true%2C%0A%20%20%22weight%22%3A%203%0A%7D%0A%20%20%20%20%20%20%20%20%20%20%20%20%20%20%20%20%29%0A%20%20%20%20%20%20%20%20%20%20%20%20%20%20%20%20.addTo%28map_f415033cfa1d49c7869958d550b09ca3%29%3B%0A%20%20%20%20%20%20%20%20%20%20%20%20%0A%20%20%20%20%0A%20%20%20%20%20%20%20%20%20%20%20%20var%20popup_906382157c8648679718182889dfe289%20%3D%20L.popup%28%7BmaxWidth%3A%20%27100%25%27%0A%20%20%20%20%20%20%20%20%20%20%20%20%0A%20%20%20%20%20%20%20%20%20%20%20%20%7D%29%3B%0A%0A%20%20%20%20%20%20%20%20%20%20%20%20%0A%20%20%20%20%20%20%20%20%20%20%20%20%20%20%20%20var%20html_1c33cf94abb34e53a8237b07c6674eea%20%3D%20%24%28%60%3Cdiv%20id%3D%22html_1c33cf94abb34e53a8237b07c6674eea%22%20style%3D%22width%3A%20100.0%25%3B%20height%3A%20100.0%25%3B%22%3EPanam%C3%A1%3C/div%3E%60%29%5B0%5D%3B%0A%20%20%20%20%20%20%20%20%20%20%20%20%20%20%20%20popup_906382157c8648679718182889dfe289.setContent%28html_1c33cf94abb34e53a8237b07c6674eea%29%3B%0A%20%20%20%20%20%20%20%20%20%20%20%20%0A%0A%20%20%20%20%20%20%20%20%20%20%20%20circle_15c2f6b2b5d94de3bdb36fe073d91b53.bindPopup%28popup_906382157c8648679718182889dfe289%29%0A%20%20%20%20%20%20%20%20%20%20%20%20%3B%0A%0A%20%20%20%20%20%20%20%20%20%20%20%20%0A%20%20%20%20%20%20%20%20%0A%20%20%20%20%0A%0A%20%20%20%20%20%20%20%20%20%20%20%20var%20circle_a39026f2a3e04507bd4afc9f6558a860%20%3D%20L.circle%28%0A%20%20%20%20%20%20%20%20%20%20%20%20%20%20%20%20%5B46.7%2C%201.8%5D%2C%0A%20%20%20%20%20%20%20%20%20%20%20%20%20%20%20%20%7B%0A%20%20%22bubblingMouseEvents%22%3A%20true%2C%0A%20%20%22color%22%3A%20%22%23900C3F%20%22%2C%0A%20%20%22dashArray%22%3A%20null%2C%0A%20%20%22dashOffset%22%3A%20null%2C%0A%20%20%22fill%22%3A%20true%2C%0A%20%20%22fillColor%22%3A%20%22%23900C3F%20%22%2C%0A%20%20%22fillOpacity%22%3A%200.2%2C%0A%20%20%22fillRule%22%3A%20%22evenodd%22%2C%0A%20%20%22lineCap%22%3A%20%22round%22%2C%0A%20%20%22lineJoin%22%3A%20%22round%22%2C%0A%20%20%22opacity%22%3A%201.0%2C%0A%20%20%22radius%22%3A%20200000.0%2C%0A%20%20%22stroke%22%3A%20true%2C%0A%20%20%22weight%22%3A%203%0A%7D%0A%20%20%20%20%20%20%20%20%20%20%20%20%20%20%20%20%29%0A%20%20%20%20%20%20%20%20%20%20%20%20%20%20%20%20.addTo%28map_f415033cfa1d49c7869958d550b09ca3%29%3B%0A%20%20%20%20%20%20%20%20%20%20%20%20%0A%20%20%20%20%0A%20%20%20%20%20%20%20%20%20%20%20%20var%20popup_2e29e797b8dc4768b6d85d58a156852b%20%3D%20L.popup%28%7BmaxWidth%3A%20%27100%25%27%0A%20%20%20%20%20%20%20%20%20%20%20%20%0A%20%20%20%20%20%20%20%20%20%20%20%20%7D%29%3B%0A%0A%20%20%20%20%20%20%20%20%20%20%20%20%0A%20%20%20%20%20%20%20%20%20%20%20%20%20%20%20%20var%20html_2722f4a620024e3a82568b6ee6705d3d%20%3D%20%24%28%60%3Cdiv%20id%3D%22html_2722f4a620024e3a82568b6ee6705d3d%22%20style%3D%22width%3A%20100.0%25%3B%20height%3A%20100.0%25%3B%22%3EReino%20Unido%3C/div%3E%60%29%5B0%5D%3B%0A%20%20%20%20%20%20%20%20%20%20%20%20%20%20%20%20popup_2e29e797b8dc4768b6d85d58a156852b.setContent%28html_2722f4a620024e3a82568b6ee6705d3d%29%3B%0A%20%20%20%20%20%20%20%20%20%20%20%20%0A%0A%20%20%20%20%20%20%20%20%20%20%20%20circle_a39026f2a3e04507bd4afc9f6558a860.bindPopup%28popup_2e29e797b8dc4768b6d85d58a156852b%29%0A%20%20%20%20%20%20%20%20%20%20%20%20%3B%0A%0A%20%20%20%20%20%20%20%20%20%20%20%20%0A%20%20%20%20%20%20%20%20%0A%3C/script%3E onload=\"this.contentDocument.open();this.contentDocument.write(    decodeURIComponent(this.getAttribute('data-html')));this.contentDocument.close();\" allowfullscreen webkitallowfullscreen mozallowfullscreen></iframe></div></div>"
            ],
            "text/plain": [
              "<folium.folium.Map at 0x7ff218dc9910>"
            ]
          },
          "metadata": {
            "tags": []
          },
          "execution_count": 62
        }
      ]
    },
    {
      "cell_type": "markdown",
      "metadata": {
        "id": "wKrZF_QQObs7"
      },
      "source": [
        "##Word Cloud"
      ]
    },
    {
      "cell_type": "code",
      "metadata": {
        "id": "I51dkPyFNUf4"
      },
      "source": [
        "#comentarios = df['comentario'].dropna().to_list()\n",
        "#comentarios"
      ],
      "execution_count": 63,
      "outputs": []
    },
    {
      "cell_type": "code",
      "metadata": {
        "id": "Ohhaw9YxVLGO"
      },
      "source": [
        "frases = ' '.join(df['comentario'].dropna().to_list())\n",
        "#frases"
      ],
      "execution_count": 64,
      "outputs": []
    },
    {
      "cell_type": "code",
      "metadata": {
        "id": "m_0NTIqLPRHX"
      },
      "source": [
        "palabras = [palabra.strip(string.punctuation) for palabra in frases.split()]"
      ],
      "execution_count": 65,
      "outputs": []
    },
    {
      "cell_type": "code",
      "metadata": {
        "id": "uiXTRxr8YJOC"
      },
      "source": [
        "contador_palabras=Counter(palabras)\n",
        "palabras_ordenadas = sorted(contador_palabras.items(), key=lambda x: x[1], reverse=True)\n",
        "\n",
        "#for i in palabras_ordenadas:\n",
        "#\tprint(i[0], i[1])"
      ],
      "execution_count": 66,
      "outputs": []
    },
    {
      "cell_type": "code",
      "metadata": {
        "id": "GXys4wD4WfhU"
      },
      "source": [
        "pal= ['adolescente', 'segregado','hetero','chicas','partidas','sexo','rol',\n",
        "      'mesas', 'discriminación', 'personaje', 'juego', 'experiencia', 'amigos', \n",
        "      'personas','mujeres', 'grupos', 'sexual', 'varones', 'cis', 'queer', \n",
        "      'rolear','ignorancia','sexo','vida','personas','mesa', 'mujer', 'hombres',\n",
        "      'mundo', 'varones','jugar','orientación', 'pregunta', 'género', 'confianza', \n",
        "      'inclusivo', 'alguien','confianza', 'Creo', 'sé', 'uso','interpretar',\n",
        "      'distinto', 'medio','parte','falta','grupo','gente','mesa']\n",
        "\n",
        "palabras_filtradas = {}\n",
        "for key, value in contador_palabras.items():\n",
        "    if (key in pal):\n",
        "\n",
        "        palabras_filtradas[key] = value\n",
        "\n",
        "#print(palabras_filtradas)"
      ],
      "execution_count": 67,
      "outputs": []
    },
    {
      "cell_type": "code",
      "metadata": {
        "colab": {
          "base_uri": "https://localhost:8080/",
          "height": 0
        },
        "id": "OBOyVgBwmzQP",
        "outputId": "ae3ec64c-accd-4c8d-f03a-4e990527b7c0"
      },
      "source": [
        "nube_palabras = WordCloud(width = 1000, height = 1000, colormap='rocket',\n",
        "                          background_color=\"grey\").generate_from_frequencies(palabras_filtradas)\n",
        "# Display the generated image:\n",
        "plt.imshow(nube_palabras, interpolation='bilinear')\n",
        "plt.axis(\"off\")\n",
        "plt.margins(x=0, y=0)\n",
        "plt.show()"
      ],
      "execution_count": 68,
      "outputs": [
        {
          "output_type": "display_data",
          "data": {
            "image/png": "[encoded data removed]",
            "text/plain": [
              "<Figure size 432x288 with 1 Axes>"
            ]
          },
          "metadata": {
            "tags": [],
            "needs_background": "light"
          }
        }
      ]
    }
  ]
}